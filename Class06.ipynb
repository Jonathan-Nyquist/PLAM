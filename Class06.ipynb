{
  "cells": [
    {
      "cell_type": "markdown",
      "metadata": {
        "id": "view-in-github",
        "colab_type": "text"
      },
      "source": [
        "<a href=\"https://colab.research.google.com/github/Jonathan-Nyquist/PLAM/blob/main/Class06.ipynb\" target=\"_parent\"><img src=\"https://colab.research.google.com/assets/colab-badge.svg\" alt=\"Open In Colab\"/></a>"
      ]
    },
    {
      "cell_type": "markdown",
      "metadata": {
        "id": "1GpZy27p1Gdj"
      },
      "source": [
        "<a id='Top'></a>\n",
        "# Class06:\n",
        "## Learning Objectives\n",
        "* [Modules](#Modules)\n",
        "* [Reading from and writing to a file](#Files)\n",
        "* [Martian Challenge: Crater Analysis](#Challenge)"
      ]
    },
    {
      "cell_type": "markdown",
      "metadata": {
        "id": "Mx4dIfIZ1Gdw"
      },
      "source": [
        "<a id='Modules'></a>\n",
        "## Modules\n",
        "[Top of notebook](#Top)\n",
        "\n",
        "Notice this additional Markdown feature. From each link in the table of contents I've added a return link to the top of the notebook. Just examine this cell to see how it was done.\n",
        "\n",
        "We already touched on modules in a previous notebook. Each module contains a bundle of functionality structured around some common theme, but functions that you may not need for every application, so Python let's you load them as needed. Obviously, you have to import the module before you can use the functions and variables it contains. The example we used previously was the math module.\n",
        "\n",
        "Here is a reminder of how that works."
      ]
    },
    {
      "cell_type": "code",
      "execution_count": null,
      "metadata": {
        "jupyter": {
          "outputs_hidden": false
        },
        "id": "eqoVl2gP1Gdz"
      },
      "outputs": [],
      "source": [
        "import math\n",
        "x = 2\n",
        "y = math.sqrt(2)\n",
        "print(f'The square root of {x} is {y}')"
      ]
    },
    {
      "cell_type": "markdown",
      "metadata": {
        "id": "lyu0XIvA1Gd1"
      },
      "source": [
        "### Name Spaces: A key programming concept\n",
        "When we imported math above all of the functions in the math module were imported, but they could only be accessed by prefixing each with math.xxxx. There is a reason for this. What if one of the functions you imported had the same name as a function you already defined in your code? Your function would be replaced by the one you imported.  The authors of the math module have no idea what function names you might be using, but because all the math module functions have the module name as a prefix, you can be pretty sure there will not be any name collisions. There will instead be two sets of function names in your program's namespace: the functions you have defined yourself, and the ones that start with \"math.\"\n",
        "\n",
        "But, if you are sure the name of function you want to import won't duplicate one of the functions you already have defined, there is another way to import just the functions you need instead of loading the entire module."
      ]
    },
    {
      "cell_type": "code",
      "execution_count": null,
      "metadata": {
        "jupyter": {
          "outputs_hidden": false
        },
        "id": "J-uJoSUE1Gd2"
      },
      "outputs": [],
      "source": [
        "from math import sqrt\n",
        "y = sqrt(2)\n",
        "print('The square root of {0} is {1}'.format(x, y))"
      ]
    },
    {
      "cell_type": "markdown",
      "metadata": {
        "id": "k45RyR7Y1Gd4"
      },
      "source": [
        "In this example only the sqrt function was imported from the math module and no prefix is needed.  The onus is on you to watch out for namespace collisions. You can even import all of the functions in math using the from command, but that really increases your risk of a namespace collision. Suppose, for example, somewhere in your code you created a list of the seven deadly sins."
      ]
    },
    {
      "cell_type": "code",
      "execution_count": null,
      "metadata": {
        "jupyter": {
          "outputs_hidden": false
        },
        "id": "b8KryGIw1Gd5"
      },
      "outputs": [],
      "source": [
        "sin = ['pride', 'envy', 'gluttony', 'anger', 'lust', 'greed', 'sloth']\n",
        "print(sin)"
      ]
    },
    {
      "cell_type": "markdown",
      "metadata": {
        "id": "ekcPkmry1Gd6"
      },
      "source": [
        "Later on you import all of the contents in the math library using \"from\""
      ]
    },
    {
      "cell_type": "code",
      "execution_count": null,
      "metadata": {
        "jupyter": {
          "outputs_hidden": false
        },
        "id": "lVJjEwV-1Gd7"
      },
      "outputs": [],
      "source": [
        "# Imports everything\n",
        "from math import *\n",
        "print(sin)"
      ]
    },
    {
      "cell_type": "markdown",
      "metadata": {
        "id": "9W42jL8J1Gd9"
      },
      "source": [
        "What's this? Sin is now a function? What are the theological implications? Maybe that we can't function without sin ;-).\n",
        "\n",
        "The math module includes the trigonometric functions sine and cosine named sin and cos, respectively. Your sin was purged by the flame of pure mathematics. A Python parable that illustrates why you should generally prefer \"import\" to \"from\" for loading modules.\n",
        "\n",
        "It does get tiresome to type the full module name before every function, especially when, unlike the math module, the module name is a long one. But rather than yield to devil on you shoulder softly whispering \"Just use 'from.' You know you want to.\" there is, as Budda preached, a middle path.  You can abbreviate the module name. For example, numpy is a popular module for working with arrays of numbers. Numpy is commonly abbreviated at np, but that is just convention. When using \"import .... as\" you can use any alias you wish."
      ]
    },
    {
      "cell_type": "code",
      "execution_count": null,
      "metadata": {
        "jupyter": {
          "outputs_hidden": false
        },
        "id": "zzcQdnRP1Gd_"
      },
      "outputs": [],
      "source": [
        "# Regular import\n",
        "import numpy\n",
        "x = numpy.array([1,2,3,4,5])\n",
        "x2 = x + 2\n",
        "x3 = x ** 2\n",
        "print(x)\n",
        "print(x2)\n",
        "print(x3)"
      ]
    },
    {
      "cell_type": "code",
      "execution_count": null,
      "metadata": {
        "jupyter": {
          "outputs_hidden": false
        },
        "id": "kfNagS_71GeA"
      },
      "outputs": [],
      "source": [
        "# Import using an alias so we can type less\n",
        "import numpy as np\n",
        "x = np.array([1,2,3,4,5])\n",
        "x2 = x + 2\n",
        "x3 = x ** 2\n",
        "print(x)\n",
        "print(x2)\n",
        "print(x3)"
      ]
    },
    {
      "cell_type": "markdown",
      "metadata": {
        "id": "mwBlBM4L1GeE"
      },
      "source": [
        "Since numpy was imported as np, instead of typing numpy.array() we just typed np.array(), which is quicker, but we avoided the Devil's temptation to type\n",
        "\n",
        "from numpy import \\*\n",
        "\n",
        "which means we can define our own function or variable named \"array\" without worrying about name space conflicts because array and np.array are clearly distinct."
      ]
    },
    {
      "cell_type": "markdown",
      "metadata": {
        "id": "Q5hMTY7p1GeG"
      },
      "source": [
        "### Student Exercise\n",
        "Import the math module as m and use m.sqrt() to print the square root of 144."
      ]
    },
    {
      "cell_type": "code",
      "execution_count": null,
      "metadata": {
        "id": "oQAGePOT1GeG"
      },
      "outputs": [],
      "source": []
    },
    {
      "cell_type": "markdown",
      "metadata": {
        "id": "McskfrvK1GeH"
      },
      "source": [
        "### Some examples of modules and their applications\n",
        "There are literally thousands of different modules (450,000 as of May, 2023) you can import to add functionality to your program. Before you write a function from scratch, it pays to check whether an existing module does what you need."
      ]
    },
    {
      "cell_type": "code",
      "execution_count": null,
      "metadata": {
        "jupyter": {
          "outputs_hidden": false
        },
        "id": "GHKuVTuZ1GeH"
      },
      "outputs": [],
      "source": [
        "# The sys module provides system-level information\n",
        "import sys\n",
        "print('The version of Python running is:')\n",
        "print(sys.version_info)"
      ]
    },
    {
      "cell_type": "code",
      "execution_count": null,
      "metadata": {
        "jupyter": {
          "outputs_hidden": false
        },
        "id": "TGRgOh_Z1GeI"
      },
      "outputs": [],
      "source": [
        "# Get the local time and date\n",
        "import time\n",
        "localtime = time.localtime(time.time())\n",
        "print(\"Local current time :\", localtime)\n",
        "\n",
        "# Get the timezone of the computer running your application\n",
        "print(\"The current time zone is: \", time.tzname)"
      ]
    },
    {
      "cell_type": "code",
      "execution_count": null,
      "metadata": {
        "jupyter": {
          "outputs_hidden": false
        },
        "id": "y3Fu024-1GeJ"
      },
      "outputs": [],
      "source": [
        "# Easy to build calendars into applications\n",
        "import calendar\n",
        "cal = calendar.month(2023, 9)\n",
        "print (\"Here is the calendar:\")\n",
        "print(cal)"
      ]
    },
    {
      "cell_type": "code",
      "execution_count": null,
      "metadata": {
        "jupyter": {
          "outputs_hidden": false
        },
        "id": "2oZfksOn1GeJ"
      },
      "outputs": [],
      "source": [
        "# Pandas is a popular module for working with information in the\n",
        "# form of data tables similar to spreadsheets\n",
        "import pandas as pd\n",
        "df = pd.DataFrame({\n",
        "   'col1': ['Item0', 'Item0', 'Item1', 'Item1'],\n",
        "   'col2': ['Gold', 'Bronze', 'Gold', 'Silver'],\n",
        "   'col3': [1, 2, 3, 4]\n",
        "})\n",
        "print()\n",
        "print('A pandas dataframe')\n",
        "print(df)"
      ]
    },
    {
      "cell_type": "code",
      "execution_count": null,
      "metadata": {
        "jupyter": {
          "outputs_hidden": false
        },
        "id": "9leXZe9e1GeK"
      },
      "outputs": [],
      "source": [
        "# Print one column of the dataframe\n",
        "print(df['col2'])"
      ]
    },
    {
      "cell_type": "code",
      "execution_count": null,
      "metadata": {
        "jupyter": {
          "outputs_hidden": false
        },
        "id": "cE3253Ub1GeL"
      },
      "outputs": [],
      "source": [
        "# Adding a Youtube Video\n",
        "import IPython\n",
        "# Video credit: https://www.youtube.com/watch?v=Ue4PCI0NamI\n",
        "IPython.display.YouTubeVideo('Ue4PCI0NamI')"
      ]
    },
    {
      "cell_type": "markdown",
      "metadata": {
        "id": "OxZ5_CJI1GeL"
      },
      "source": [
        "The examples above are just a few of modules available for Python. Some are well-established, others are experimental projects still under development. We will see many more examples in this class, and I will call your attention to them when they are used. In all cases, the web is your best source of documentation.\n",
        "\n",
        "**The take-home messages is that before you write your own python library, check what is available!**"
      ]
    },
    {
      "cell_type": "markdown",
      "metadata": {
        "id": "Oob71XT51GeM"
      },
      "source": [
        "<a id='Files'></a>\n",
        "## Reading from and writing to a file\n",
        "[Top of notebook](#Top)\n",
        "\n",
        "Until now, we have been working mainly with data and examples contained within the Jupyter Notebook. The one exception was when we loaded in the newspaper article to count the number of times NASA was referenced.  At the time I told you we'd talk about files later. Later is now.\n",
        "\n",
        "Files come in two flavors: those that contain human-readable text (ASCII files, UTF files) and those that are written in a format only computers can easily read (Binary). Why not always write files in human-readable form? Because binary files are more compact, so they take less space to store, and they are faster for computers to read and write.\n",
        "\n",
        "Typically, large data files are going to be stored as binary numbers. Because we can't open and read binary files with an ordinary text editor, we have to know the format of the binary file (What varibles? What order? How many?) before we can write python programs to read or write the data. If the files were created with an open-source program the format is probably published, but if they were written using propriety commercial software the format may or may not be publicly available depending on the vendor or the cleverness of hackers.\n",
        "\n",
        "An example of a simple ASCII file is a .txt file can be created with a program such as NotePad(PC) or TextPad(Mac). An example of a binary file would be a Microsoft Word document, with formatting codes, images, and other elements not easily expressed as plain text characters."
      ]
    },
    {
      "cell_type": "markdown",
      "metadata": {
        "id": "wUOI0TTq1GeM"
      },
      "source": [
        "### Read a pure text file\n",
        "Let's begin with a file that contains nothing but text. No numbers. No special characters. No binary data.\n",
        "\n",
        "The file we will work with first is named \"green_eggs.txt\".  Let's see how to read it into a python string variable. First, however, we must download the file to the machine where your instance of Colab is running."
      ]
    },
    {
      "cell_type": "code",
      "source": [
        "!wget https://raw.githubusercontent.com/Jonathan-Nyquist/PLAM/main/green_eggs.txt"
      ],
      "metadata": {
        "id": "EqrSplpPh9vg"
      },
      "execution_count": null,
      "outputs": []
    },
    {
      "cell_type": "code",
      "execution_count": null,
      "metadata": {
        "jupyter": {
          "outputs_hidden": false
        },
        "id": "Ql56-FCe1GeN"
      },
      "outputs": [],
      "source": [
        "textfile = open('green_eggs.txt', 'r')\n",
        "sam = textfile.read()\n",
        "textfile.close()\n",
        "print(sam)"
      ]
    },
    {
      "cell_type": "markdown",
      "metadata": {
        "id": "3OoprCRE1GeN"
      },
      "source": [
        "The first line opened the file for reading, and returned a \"file object\" that we named \"textfile.\"  The file object has a read() method that returns the entire content of the file as a string, which we assigned to the variable \"sam\" and printed. Then we closed the file object.  Not closing the file object is like leaving the fridge door open.  Maybe nothing bad will happen, but closing it is a good habit.\n",
        "\n",
        "Notice that the open function is built into Python; we didn't need to import a module. The function was called with two parameters: the file name and 'r', which told Python to open the file for reading, not writing.\n",
        "\n",
        "If we wanted to read the file one line at a time, we could do so with a loop."
      ]
    },
    {
      "cell_type": "code",
      "execution_count": null,
      "metadata": {
        "jupyter": {
          "outputs_hidden": false
        },
        "id": "iFeDp3UC1GeO"
      },
      "outputs": [],
      "source": [
        "textfile = open('green_eggs.txt', 'r')\n",
        "for line in textfile:\n",
        "    print(line)\n",
        "textfile.close()"
      ]
    },
    {
      "cell_type": "markdown",
      "metadata": {
        "id": "g9NSrIWx1GeO"
      },
      "source": [
        "Note we got the extra breaks because the print() automatically inserts a carriage return, but each line in the file had one already. We could strip off the carriage returns from the lines in the file and just go with the one the print command inserts."
      ]
    },
    {
      "cell_type": "code",
      "execution_count": null,
      "metadata": {
        "jupyter": {
          "outputs_hidden": false
        },
        "id": "ZD-mDUUO1GeO"
      },
      "outputs": [],
      "source": [
        "textfile = open('green_eggs.txt', 'r')\n",
        "for line in textfile:\n",
        "    print(line.strip())\n",
        "textfile.close()"
      ]
    },
    {
      "cell_type": "markdown",
      "metadata": {
        "id": "RXkQWtOS1GeQ"
      },
      "source": [
        "We can close the file automatically if we wrap our commands in a \"with\" block (called a \"context\").\n",
        "\n",
        "Notice that the python code has one indent to show the lines inside the with block and a second indent to show the lines inside the for loop, which is inside the \"with\" block. When we exit the with block the file will be closed for us."
      ]
    },
    {
      "cell_type": "code",
      "execution_count": null,
      "metadata": {
        "jupyter": {
          "outputs_hidden": false
        },
        "id": "hKBawHU31GeP"
      },
      "outputs": [],
      "source": [
        "with open('green_eggs.txt', 'r') as textfile:\n",
        "    for line in textfile:\n",
        "        print(line.strip())"
      ]
    },
    {
      "cell_type": "markdown",
      "metadata": {
        "id": "yzMKLBhF1GeQ"
      },
      "source": [
        "**Student Challenge:** Download go.txt with the wget command below, then\n",
        "open, read, and print the contents of the file \"go.txt\" in the cell below."
      ]
    },
    {
      "cell_type": "code",
      "source": [
        "!wget https://raw.githubusercontent.com/Jonathan-Nyquist/PLAM/main/go.txt"
      ],
      "metadata": {
        "id": "BudJsPgqknpB"
      },
      "execution_count": null,
      "outputs": []
    },
    {
      "cell_type": "code",
      "execution_count": null,
      "metadata": {
        "id": "P3gMJBy31GeQ"
      },
      "outputs": [],
      "source": []
    },
    {
      "cell_type": "markdown",
      "metadata": {
        "id": "J75A6iiq1GeR"
      },
      "source": [
        "### Writing to a text file\n",
        "Writing works similarly, but we open the file for writing."
      ]
    },
    {
      "cell_type": "code",
      "execution_count": null,
      "metadata": {
        "jupyter": {
          "outputs_hidden": false
        },
        "id": "bfWuI4AB1GeR"
      },
      "outputs": [],
      "source": [
        "# Create a multiline string with triple quotes\n",
        "poem = '''\n",
        "Look at me!\n",
        "Look at me!\n",
        "Look at me NOW!\n",
        "It is fun to have fun\n",
        "But you have to know how.\n",
        "'''\n",
        "\n",
        "# Print the string to a file\n",
        "with open('look_at_me.txt', 'w') as textfile:\n",
        "    for line in poem:\n",
        "        textfile.write(line)"
      ]
    },
    {
      "cell_type": "markdown",
      "metadata": {
        "id": "x8Hg3zER1GeS"
      },
      "source": [
        "Tip: Stings in triple single quotes can continue over multiple lines.\n",
        "\n",
        "There is now a file in the same folder as the notebook that contains this poem."
      ]
    },
    {
      "cell_type": "markdown",
      "metadata": {
        "id": "VOmLMZEj1GeS"
      },
      "source": [
        "### Reading in CSV files\n",
        "A very common file format is a table with multiple columns of variables separted by commas, cleverly called a comma separated variable (CSV) file.\n",
        "\n",
        "Something line this:\n",
        "```\n",
        "Name, Age_When_Elected\n",
        "Biden, 78\n",
        "Truman, 60\n",
        "Madison, 57\n",
        "Carter, 52\n",
        "Clinton, 46\n",
        "```"
      ]
    },
    {
      "cell_type": "markdown",
      "metadata": {
        "id": "--egS5pM1GeT"
      },
      "source": [
        "Now we will read in some made-up quiz scores. The pandas module demonstated above is ideal for working with tabular data and has a function for reading csv files that automatically takes care of opening and closing the file."
      ]
    },
    {
      "cell_type": "code",
      "source": [
        "!wget https://raw.githubusercontent.com/Jonathan-Nyquist/PLAM/main/scores.csv"
      ],
      "metadata": {
        "id": "FUmu1qWrbhjI"
      },
      "execution_count": null,
      "outputs": []
    },
    {
      "cell_type": "code",
      "execution_count": null,
      "metadata": {
        "jupyter": {
          "outputs_hidden": false
        },
        "id": "IbbIRJfv1GeT"
      },
      "outputs": [],
      "source": [
        "import pandas as pd\n",
        "quiz_scores = pd.read_csv('scores.csv')\n",
        "print(quiz_scores)"
      ]
    },
    {
      "cell_type": "markdown",
      "metadata": {
        "id": "2Ds6Z3et1GeT"
      },
      "source": [
        "Pandas read the data into a \"datafreme\" named quiz_scores, used the first row of the file for column headers and numbered the rows sequentially."
      ]
    },
    {
      "cell_type": "code",
      "execution_count": null,
      "metadata": {
        "jupyter": {
          "outputs_hidden": false
        },
        "id": "QWE9PrlK1GeU"
      },
      "outputs": [],
      "source": [
        "# Print a single column by using the column name to index the dataframe.\n",
        "quiz_scores['Quiz']"
      ]
    },
    {
      "cell_type": "markdown",
      "metadata": {
        "id": "J9Lg25jS1GeU"
      },
      "source": [
        "** Student Challenge **\n",
        "Print out the column of the quiz_scores dataframe that has the student ids."
      ]
    },
    {
      "cell_type": "code",
      "execution_count": null,
      "metadata": {
        "id": "kEdEpuLH1GeU"
      },
      "outputs": [],
      "source": []
    },
    {
      "cell_type": "code",
      "execution_count": null,
      "metadata": {
        "jupyter": {
          "outputs_hidden": false
        },
        "id": "0jNXXiHW1GeV"
      },
      "outputs": [],
      "source": [
        "# Calculate some useful statistics on the scores.\n",
        "quiz_scores['Quiz'].describe()"
      ]
    },
    {
      "cell_type": "markdown",
      "metadata": {
        "id": "us2fXwsW1GeW"
      },
      "source": [
        "Whole books have bean written about using the pandas module. It is very popular in the data science community. If you work a lot with data tables, buy a pandas book one. I own three!\n",
        "\n",
        "### Indego Bikes\n",
        "But before we move on to the Martian Challenge, let's get an inkling of the real power of writing Python programs by working with a full-size data set. All sorts of data are available on the website [openphillydata.org](https://www.opendataphilly.org/), including trip information for indego bikes, https://www.rideindego.com/about/data/, which is downloadable in, you guessed it, CSV format. I've downloaded the data for the second quarter of 2016, a file with over 10,000 data records.\n",
        "\n",
        "Temple University has several Indego Bike stations on campus, those blue bikes you can rent as needed.\n",
        "\n",
        "[![Station-Map-Indego.jpg](https://i.postimg.cc/k5hjz0HQ/Station-Map-Indego.jpg)](https://postimg.cc/LqLBZb25)"
      ]
    },
    {
      "cell_type": "code",
      "source": [
        "!wget https://raw.githubusercontent.com/Jonathan-Nyquist/PLAM/main/Indego_Trips_2016Q2.csv"
      ],
      "metadata": {
        "id": "g9XPXnQ5cXLc"
      },
      "execution_count": null,
      "outputs": []
    },
    {
      "cell_type": "code",
      "execution_count": null,
      "metadata": {
        "jupyter": {
          "outputs_hidden": false
        },
        "id": "JHI8l01i1GeW"
      },
      "outputs": [],
      "source": [
        "import pandas as pd\n",
        "\n",
        "# Load bike trip data for the second quarter of 2016 into a dataframe\n",
        "indigo = pd.read_csv('Indego_Trips_2016Q2.csv')\n",
        "\n",
        "# We don't want to print the whole 10,000+ lines, so print the\n",
        "# first 10 records using the dataframe head() method to print the head of the file.\n",
        "# The paramenter you pass is the number of lines to display.\n",
        "indigo.head(10)"
      ]
    },
    {
      "cell_type": "markdown",
      "metadata": {
        "id": "Fgt41vdr1GeW"
      },
      "source": [
        "** Student Challenge**\n",
        "Print the last ten lines of the indigo dataframe using the tail() method."
      ]
    },
    {
      "cell_type": "code",
      "execution_count": null,
      "metadata": {
        "id": "c1-Z42mm1GeX"
      },
      "outputs": [],
      "source": []
    },
    {
      "cell_type": "code",
      "execution_count": null,
      "metadata": {
        "jupyter": {
          "outputs_hidden": false
        },
        "id": "w-_ZW4Oz1GeX"
      },
      "outputs": [],
      "source": [
        "# Lots of columns, lets find their names using the keys() method.\n",
        "# This reminds you of dictionary keys, it should!\n",
        "print(indigo.keys())"
      ]
    },
    {
      "cell_type": "code",
      "execution_count": null,
      "metadata": {
        "jupyter": {
          "outputs_hidden": false
        },
        "id": "Z0g3vVw01GeX"
      },
      "outputs": [],
      "source": [
        "# Get descriptive statistics for the duration of indigo trips.\n",
        "indigo['duration'].describe()"
      ]
    },
    {
      "cell_type": "code",
      "execution_count": null,
      "metadata": {
        "jupyter": {
          "outputs_hidden": false
        },
        "id": "ojB4N-Fj1GeY"
      },
      "outputs": [],
      "source": [
        "# Wow! Over 17,000 trips. If you read the website,\n",
        "# duration is in seconds, convert to minutes\n",
        "stats = indigo['duration'].describe()\n",
        "print(f'The average Indigo trip lasted {stats[\"mean\"]/60:.2f} minutes.')"
      ]
    },
    {
      "cell_type": "markdown",
      "metadata": {
        "id": "WiS9CdIh1GeY"
      },
      "source": [
        "The walk-up price for using an Indego Bike in 2016 was \\$4 for 30 minutes. As we've just seen, the average trip then was just under 30 minutes. Probably not a coincidence, eh?\n",
        "\n",
        "Interestingly, the minimum rental now is a $15 day pass."
      ]
    },
    {
      "cell_type": "code",
      "execution_count": null,
      "metadata": {
        "jupyter": {
          "outputs_hidden": false
        },
        "id": "eA1XKEUc1GeY"
      },
      "outputs": [],
      "source": [
        "# A sneak peek at plotting data. Dataframes have a built in method called hist()\n",
        "# that plots a histogram. It returns\n",
        "# an axis object that has properties such as axis labels you can adjust.\n",
        "\n",
        "# This tells Jupyter to plot inside the notebook rather than popping open a new window.\n",
        "# Commands that start with % are called \"magic\" commands. They are used to adjust\n",
        "# the Jupyter notebook's behavior, and are not part of the Python language.\n",
        "%matplotlib inline\n",
        "\n",
        "# Convert seconds to minutes\n",
        "duration_in_min = indigo['duration']/60\n",
        "\n",
        "# Make the plot\n",
        "ax = duration_in_min.hist(bins=100)\n",
        "ax.set_xlabel('Trip Duration (min)')\n",
        "ax.set_ylabel('Number of Trips');"
      ]
    },
    {
      "cell_type": "markdown",
      "metadata": {
        "id": "ruRPZ87X1GeZ"
      },
      "source": [
        "The histogram show lots and lots of short trips and a few really long ones. What's up with the overnight trips? Did they steal the bike? Let's ignore those outliers and plot trips less than two hours."
      ]
    },
    {
      "cell_type": "code",
      "execution_count": null,
      "metadata": {
        "jupyter": {
          "outputs_hidden": false
        },
        "id": "XUaoqTbp1GeZ"
      },
      "outputs": [],
      "source": [
        "# Create a new dataframe that meets a logical condition\n",
        "short_trips = duration_in_min[duration_in_min < 120]\n",
        "\n",
        "# Plot the new dataframe\n",
        "# the .hist() method returns an axis object that can be modified to customize the plot\n",
        "ax = short_trips.hist(bins=50)\n",
        "ax.set_xlabel('Trip Duration (min)')\n",
        "ax.set_ylabel('Number of Trips');"
      ]
    },
    {
      "cell_type": "markdown",
      "metadata": {
        "id": "U4OBxfuD1Gea"
      },
      "source": [
        "So we see the vast majority of trips are between a few minutes and half an hour.\n",
        "\n",
        "**Don't worry if you didn't follow all of that code.** The point was to give you an idea of the power of Python. With just a few lines of code we analyzed the data from over 17,000 Indego bike trips between April and June of 2016.  Awesome!\n",
        "\n",
        "Does ridership fall off in the winter? Do the rides get shorter in cold weather? How does ridership from Temple University compare with other Indigo stations? It would not be hard to investigate such questions. This is only the tip of the iceburg -- there is an amazing amount of data available on this and other websites. No wonder  careers in data science are so lucrative!\n",
        "\n",
        "By the way, for a distribution that is not a bell-curve, but has a long tail with mostly short trips and a few long ones, the average is not a very good summary statistic because it is so affected by the few extreme values. The median (middle value) is a more robust measure of the typical trip duration. The result (below) is reasonable, as you can bike from point A to point B in most of Philly in less than fifteen minutes. Also, as mentioned, if you don't have an Indego membership, the walk-up price in 2016 was $4 for 30 minutes, which is stong incentive to keep the ride short. It makes you wonder if the new pricing model has changed the pattern of ride duration. I'm sure the folks at Indego have their own data scientist working to optimize revenue without diminishing ridership."
      ]
    },
    {
      "cell_type": "code",
      "execution_count": null,
      "metadata": {
        "jupyter": {
          "outputs_hidden": false
        },
        "id": "FqHXhjHb1Gea"
      },
      "outputs": [],
      "source": [
        "med = indigo['duration'].median()/60\n",
        "print('The median trip duration is {0} minutes.'.format(med))"
      ]
    },
    {
      "cell_type": "markdown",
      "metadata": {
        "id": "WIeyl6q71Gea"
      },
      "source": [
        "<a id='Challenge'></a>\n",
        "## Martian Challege: Crater Analysis\n",
        "[Top of notebook](#Top)\n",
        "\n",
        "Mark Whatney might wish he had a bike on Mars, but riding is probably tough in one of those pressurized suits. Besides, Mars is known for little blue men, not little blue bikes.\n",
        "\n",
        "Even driving the rover, Watney had to contend with a problem we don't see in Philly - impact craters. (Well, some of the Philly potholes might come close.)\n",
        "\n",
        "![Image of Martian Crater](https://d2pn8kiwq2w21t.cloudfront.net/images/PIA25889_MAIN_fullres_b.2e16d0ba.fill-1800x775-c10.jpg)\n",
        "\n",
        "Driving the rover into and out of the really deep craters could be dangerous and use a lot of battery power. Let's download a file named 'marscraters.csv', which has information on several thousand Martian craters located between a longitude of 0-30 degrees and a latitude of 0-5 degrees (arbitrary subregion choosen to reduce the size of the data set).\n",
        "\n",
        "**The Student Task** is to use an approach similar to the one demonstrated for the Indego bikes to plot the histogram of crater depths.  Depths will be in a column named 'DEPTH_RIMFLOOR_TOPOG', which measures from the crater floor to the rim in units of kilometers. The data were obtained from: http://craters.sjrdesign.net/index.php"
      ]
    },
    {
      "cell_type": "code",
      "source": [
        "!wget https://raw.githubusercontent.com/Jonathan-Nyquist/PLAM/main/marscraters.csv"
      ],
      "metadata": {
        "id": "Tq7vvqDagL8M"
      },
      "execution_count": null,
      "outputs": []
    },
    {
      "cell_type": "code",
      "execution_count": null,
      "metadata": {
        "jupyter": {
          "outputs_hidden": false
        },
        "id": "Y9NsbSaP1Geb"
      },
      "outputs": [],
      "source": []
    }
  ],
  "metadata": {
    "anaconda-cloud": {},
    "kernelspec": {
      "display_name": "Python 3",
      "language": "python",
      "name": "python3"
    },
    "language_info": {
      "codemirror_mode": {
        "name": "ipython",
        "version": 3
      },
      "file_extension": ".py",
      "mimetype": "text/x-python",
      "name": "python",
      "nbconvert_exporter": "python",
      "pygments_lexer": "ipython3",
      "version": "3.8.3"
    },
    "colab": {
      "provenance": [],
      "include_colab_link": true
    }
  },
  "nbformat": 4,
  "nbformat_minor": 0
}