{
  "cells": [
    {
      "cell_type": "markdown",
      "metadata": {
        "id": "view-in-github",
        "colab_type": "text"
      },
      "source": [
        "<a href=\"https://colab.research.google.com/github/Jonathan-Nyquist/PLAM/blob/main/Class04.ipynb\" target=\"_parent\"><img src=\"https://colab.research.google.com/assets/colab-badge.svg\" alt=\"Open In Colab\"/></a>"
      ]
    },
    {
      "cell_type": "markdown",
      "metadata": {
        "id": "oNNZxPozlZcP"
      },
      "source": [
        "# Class 04: Python Lists, Tuples, Dictionaries and Loops"
      ]
    },
    {
      "cell_type": "markdown",
      "metadata": {
        "id": "tuwV6tphlZcT"
      },
      "source": [
        "## Learning Objectives\n",
        "* Learn how to use Python's container variables: lists, tuples, and dictionaries\n",
        "* Learn to how loop over the elements in a container\n",
        "* Learn out to get input from the user\n",
        "* Flow Control: if statements\n",
        "* Martian Challenge: Use a dictionary and a loop to translate text to Morse code"
      ]
    },
    {
      "cell_type": "markdown",
      "metadata": {
        "id": "7eHhOK9BlZcU"
      },
      "source": [
        "## Python container variables\n",
        "You learned how to assign numbers and text to simple variables, but all programming languages include variable types that can hold more complicated data structures. Three that are commonly used in Python are lists, tuples, and dictionaries."
      ]
    },
    {
      "cell_type": "markdown",
      "metadata": {
        "id": "AuMMdiv3lZcV"
      },
      "source": [
        "### Lists\n",
        "A \"list\" is a Python variable that contains (surprise!) a list of items. The items in a list can be just about anything: numbers, text, variables, even other lists. It is defined using square brackets."
      ]
    },
    {
      "cell_type": "code",
      "execution_count": null,
      "metadata": {
        "jupyter": {
          "outputs_hidden": false
        },
        "id": "wwz0WzWzlZcW"
      },
      "outputs": [],
      "source": [
        "# Here is a simple list of Watney's food\n",
        "food = ['rations', 'potatoes', 'vitamin supplements']\n",
        "print(food)"
      ]
    },
    {
      "cell_type": "markdown",
      "metadata": {
        "id": "mzrhqNUJlZcX"
      },
      "source": [
        "The list is ordered, so you can access any element in the list by giving using its position number. But beware! Python starts counting element at zero. So the first element of the list is the zeroth element."
      ]
    },
    {
      "cell_type": "code",
      "execution_count": null,
      "metadata": {
        "jupyter": {
          "outputs_hidden": false
        },
        "id": "RVI9YSYJlZcY"
      },
      "outputs": [],
      "source": [
        "# Python uses square brackets to index the list\n",
        "print(food[0])\n",
        "print(food[1])\n",
        "print(food[2])"
      ]
    },
    {
      "cell_type": "markdown",
      "metadata": {
        "id": "B4dTIkA_lZcZ"
      },
      "source": [
        "**Question: What happens if you try to reference an element in a list that does not exist?  Try to access food[5].**"
      ]
    },
    {
      "cell_type": "code",
      "execution_count": null,
      "metadata": {
        "collapsed": true,
        "jupyter": {
          "outputs_hidden": true
        },
        "id": "JZx7DWmhlZcZ"
      },
      "outputs": [],
      "source": []
    },
    {
      "cell_type": "markdown",
      "metadata": {
        "id": "c6tlvkZplZca"
      },
      "source": [
        "** Try making a list that contains the following list of disco artists: \"Abba\", \"Bee Gees\", \"Village People\", \"Gloria Gaynor\", and print out the second item in the list.**"
      ]
    },
    {
      "cell_type": "code",
      "execution_count": null,
      "metadata": {
        "collapsed": true,
        "jupyter": {
          "outputs_hidden": true
        },
        "id": "odhJE7nalZca"
      },
      "outputs": [],
      "source": []
    },
    {
      "cell_type": "markdown",
      "metadata": {
        "id": "v9-_wpuklZcb"
      },
      "source": [
        "Many Python functions and methods return lists. One commonly used string method, split(), breaks a string into a list of its component words. We saw this in an earlier notebook."
      ]
    },
    {
      "cell_type": "code",
      "execution_count": null,
      "metadata": {
        "jupyter": {
          "outputs_hidden": false
        },
        "id": "-WreS6imlZcb"
      },
      "outputs": [],
      "source": [
        "watney = \"I don't want to come off as arrogant here, but I'm the greatest botanist on this planet.\"\n",
        "words = watney.split()\n",
        "print(words)"
      ]
    },
    {
      "cell_type": "markdown",
      "metadata": {
        "id": "sMAWK1OrlZcc"
      },
      "source": [
        "**Split the following Watney quote into a list of words and print out just the element of the list that contains the word \"science.\"**\n",
        "\n",
        "**\"In the face of overwhelming odds, I'm left with only one option, I'm gonna have to science the shit out of this.\"**"
      ]
    },
    {
      "cell_type": "code",
      "execution_count": null,
      "metadata": {
        "collapsed": true,
        "jupyter": {
          "outputs_hidden": true
        },
        "id": "eSa8L5UNlZcc"
      },
      "outputs": [],
      "source": []
    },
    {
      "cell_type": "markdown",
      "metadata": {
        "id": "Hc2JKkOBlZcc"
      },
      "source": [
        "Lists are \"mutable,\" which means you can change an element."
      ]
    },
    {
      "cell_type": "code",
      "execution_count": null,
      "metadata": {
        "jupyter": {
          "outputs_hidden": false
        },
        "id": "yiZzrdHalZcd"
      },
      "outputs": [],
      "source": [
        "watney = \"I don't want to come off as arrogant here, but I'm the greatest botanist on this planet. \"\n",
        "words = watney.split()\n",
        "print(\"List element number seven is: \", words[7])\n",
        "print()\n",
        "\n",
        "words[7] = \"boastful\"\n",
        "\n",
        "print(words)\n",
        "print()\n",
        "\n",
        "# And here is how you put the words together again with a space between each.\n",
        "print(\" \".join(words))"
      ]
    },
    {
      "cell_type": "markdown",
      "metadata": {
        "id": "9w0OGV67lZcd"
      },
      "source": [
        "**What happens if instead of \" \".join(words) you use \"-\".join(words) ? (i.e.,  replace the space with a hyphen)**"
      ]
    },
    {
      "cell_type": "code",
      "execution_count": null,
      "metadata": {
        "collapsed": true,
        "jupyter": {
          "outputs_hidden": true
        },
        "id": "g9BblOo0lZce"
      },
      "outputs": [],
      "source": []
    },
    {
      "cell_type": "markdown",
      "metadata": {
        "id": "P2gMCOR8lZce"
      },
      "source": [
        "### Tuples\n",
        "Tuples are just like lists, except that tuples are immutable, meaning you **cannot** change the elements in a tuple after you create it. You have to create a whole new tuple. The other difference is that for tuples you define them by enclosing the elements in parentheses instead of square brackets, although you still use square brackets to index an element of the tuple."
      ]
    },
    {
      "cell_type": "code",
      "execution_count": null,
      "metadata": {
        "jupyter": {
          "outputs_hidden": false
        },
        "id": "85F3pAvblZce"
      },
      "outputs": [],
      "source": [
        "# Create a tuple\n",
        "top3disco = (\"I will survive\", \"Le Freak\", \"Stayin' Alive\")\n",
        "print(top3disco[2])"
      ]
    },
    {
      "cell_type": "markdown",
      "metadata": {
        "id": "_sJUP6xUlZcf"
      },
      "source": [
        "Notice that just as with lists and strings, the first element in the tuple is element zero.\n",
        "\n",
        "Why do we need both lists and tuple? Sometimes you want a variable you can change, sometimes you don't. (Who would dare mess with the titles of the top disco songs?)\n",
        "\n",
        "**Try to assign a different title to one of the elements in top3disco.**"
      ]
    },
    {
      "cell_type": "code",
      "execution_count": null,
      "metadata": {
        "collapsed": true,
        "jupyter": {
          "outputs_hidden": true
        },
        "id": "GmrrhejwlZcf"
      },
      "outputs": [],
      "source": []
    },
    {
      "cell_type": "markdown",
      "metadata": {
        "id": "n0LN050alZcf"
      },
      "source": [
        "### Dictionaries\n",
        "\n",
        "Dictionaries, like lists, are mutable, but they contain pairs of keys and values. Instead of indexing an element using a number, like you do for lists and tuples, for dictionaries you index using the corresponding key.\n",
        "\n",
        "An example will make this clear."
      ]
    },
    {
      "cell_type": "code",
      "execution_count": null,
      "metadata": {
        "jupyter": {
          "outputs_hidden": false
        },
        "id": "JPXz2L_tlZcf"
      },
      "outputs": [],
      "source": [
        "astronaut = {\"first_name\":\"Mark\", \"last_name\":\"Watney\", \"Specialty\":\"Botanist\", \"age\": 41}\n",
        "print(astronaut[\"last_name\"])\n",
        "print(astronaut[\"age\"])"
      ]
    },
    {
      "cell_type": "markdown",
      "metadata": {
        "id": "fzQ8oKe6lZcg"
      },
      "source": [
        "Dictionaries are defined using curly brackets containing any number of key:value pairs. Dictionaries are indexed using square brackets, just like lists and tuples, but you use the key, not a number, as the index.\n",
        "\n",
        "**Create a dictionary named disco_hits using the artist as the key and song title as the value:**\n",
        "  1. I Will Survive - Gloria Gaynor\n",
        "  2. Le Freak - Chic\n",
        "  3. Stayin' Alive - Bee Gees\n",
        "\n",
        "** Print out one of the song titles using the artist name as the index. **"
      ]
    },
    {
      "cell_type": "markdown",
      "metadata": {
        "id": "swiNhA9DlZcg"
      },
      "source": [
        "## Looping over a list\n",
        "Lists can contain lots of elements (millions if you like) and there are many times you want to loop over the elements in a list one by one, maybe to perform some operation on every list member. Python makes this easy to do using a \"for\" loop."
      ]
    },
    {
      "cell_type": "code",
      "execution_count": null,
      "metadata": {
        "jupyter": {
          "outputs_hidden": false
        },
        "id": "iIp5Rx20lZcg"
      },
      "outputs": [],
      "source": [
        "# Here is a simple list of Watney's food\n",
        "food = ['rations', 'potatoes', 'vitamin supplements']\n",
        "for item in food:\n",
        "    print(item)\n",
        "print(\"Not a lot of variety.\")"
      ]
    },
    {
      "cell_type": "markdown",
      "metadata": {
        "id": "Nlc1AGtRlZch"
      },
      "source": [
        "There are a couple of things to notice. The start of the loop is marked with the keyword \"for.\" The variable \"item\" could have any name you like, but it will be set equal to the next element in the list for each iteration. The first iteration item will be \"rations,\" the second iteration it will be \"potatoes,\" etc.\n",
        "\n",
        "A colon marks the start of the statements that will be executed inside the loop.  Those statements have to be indented and all by the same amount. Four spaces is a common choice. The end of the loop is marked by the end of the indented block of statements. Every indented statement will be executed for each interation. That is why indentation is so important. Python doesn't know where your loop ends without it.\n",
        "\n",
        "In the example above there is only one statement inside the loop.\n",
        "Here is another example:"
      ]
    },
    {
      "cell_type": "code",
      "execution_count": null,
      "metadata": {
        "jupyter": {
          "outputs_hidden": false
        },
        "id": "thWnQJKKlZch"
      },
      "outputs": [],
      "source": [
        "# Print each word in a quote and the number of letters in the word.\n",
        "disco_quote = \"Tell Commander Lewis, disco sucks.\"\n",
        "total_length = 0\n",
        "for word in disco_quote.split():\n",
        "    print(word, len(word))\n",
        "    total_length += len(word)\n",
        "print(\"The total number of letters in the quote is: \", total_length)\n"
      ]
    },
    {
      "cell_type": "markdown",
      "metadata": {
        "id": "Jdvfw7NslZch"
      },
      "source": [
        "We created a variable called total_length and initialized it to be zero. (Remember: you can't create a variable with setting it equal to something.\n",
        "\n",
        "Then we looped over all of the words in the quote (Remember what split() does? It returns a list.) and added the number of letters in each word to our running total. At the end of the loop (no more indent) we print the total.\n",
        "\n",
        "There was another trick used in the above code snippet.  I created a variable \"total_length\" and then added to it with each iteration. Let's see that again in another example.\n",
        "\n",
        "But first, what is that funny += operator?"
      ]
    },
    {
      "cell_type": "code",
      "execution_count": null,
      "metadata": {
        "jupyter": {
          "outputs_hidden": false
        },
        "id": "EGJMWB7DlZch"
      },
      "outputs": [],
      "source": [
        "# Create a variable\n",
        "num = 5\n",
        "\n",
        "# Take num, add one to it, and shove the result back into num.\n",
        "num = num + 1\n",
        "print('Adding one to num, I get: ', num)\n",
        "\n",
        "# += does the same thing and is quicker to write\n",
        "num += 1\n",
        "print('Adding one this way does the same thing, now num is: ', num)"
      ]
    },
    {
      "cell_type": "markdown",
      "metadata": {
        "id": "KzqaJ2QglZci"
      },
      "source": [
        "So we initially set total_length equal to zero before we start the loop, then each time we pass through the loop we added each word length to the running total."
      ]
    },
    {
      "cell_type": "code",
      "execution_count": null,
      "metadata": {
        "jupyter": {
          "outputs_hidden": false
        },
        "id": "CGiADcwilZci"
      },
      "outputs": [],
      "source": [
        "# Create a list of some rock types\n",
        "rocks = ['Granite', 'Basalt', 'Sandstone', 'Limestone', 'Shale']\n",
        "num_rocks = 0\n",
        "for rock in rocks:\n",
        "    print(rock)\n",
        "    num_rocks += 1\n",
        "print(f'I counted {num_rocks} rocks.')"
      ]
    },
    {
      "cell_type": "markdown",
      "metadata": {
        "id": "qcrOoOxclZci"
      },
      "source": [
        "Now go back and look at the disco quote example and make sure you understand how it works."
      ]
    },
    {
      "cell_type": "markdown",
      "metadata": {
        "id": "NB_nlt2plZcj"
      },
      "source": [
        "## Getting user input\n",
        "Until now you wrote code and you ran code. If you wanted to change something you re-wrote the code. Well, that certainly isn't very pratical if you eventually plan to have a non-programmer run your code. You need a way to incorporate user input without revising the code.\n",
        "\n",
        "One of the simplest ways is to prompt the user to type something, then store what they type in a variable. Python has a built in function called input() that will do this for you. Here is an example. After typing your input, hit shift-enter, as usual, to execute the cell."
      ]
    },
    {
      "cell_type": "code",
      "execution_count": null,
      "metadata": {
        "jupyter": {
          "outputs_hidden": false
        },
        "id": "dnnHRLTDlZcj"
      },
      "outputs": [],
      "source": [
        "first = input(prompt='Enter your first name:')\n",
        "print('Your first name is ', first)"
      ]
    },
    {
      "cell_type": "markdown",
      "metadata": {
        "id": "thCT87ZXlZcj"
      },
      "source": [
        "Once we have a way to get input from the user we can make our program interactive, which opens up lots of exciting possibilities!\n",
        "\n",
        "**In the cell below, write an input statement that prompts the user for their last name and then prints it in all capital letters.**"
      ]
    },
    {
      "cell_type": "code",
      "execution_count": null,
      "metadata": {
        "collapsed": true,
        "jupyter": {
          "outputs_hidden": true
        },
        "id": "DaF81OxvlZcj"
      },
      "outputs": [],
      "source": []
    },
    {
      "cell_type": "markdown",
      "metadata": {
        "id": "rr9CW89llZcj"
      },
      "source": [
        "## Word Count: A slightly more practical example\n",
        "When you are given a writing assignment and are told it has to be at least, say, 300 words, you repeatedly run the word count feature in MS Word to see if you've written enough and can quit (I know you do this :-).  So here is a slightly more complex challenge for you.\n",
        "\n",
        "**Prompt the user to type a sentence and print out the word count.**\n",
        "\n",
        "Hint: Split the sentence into a list and find the length of the list."
      ]
    },
    {
      "cell_type": "code",
      "execution_count": null,
      "metadata": {
        "collapsed": true,
        "jupyter": {
          "outputs_hidden": true
        },
        "id": "YI1CgGUylZck"
      },
      "outputs": [],
      "source": []
    },
    {
      "cell_type": "markdown",
      "metadata": {
        "id": "LWYT9mBclZck"
      },
      "source": [
        "## Flow Control: IF statements\n",
        "Until now, your code has executed from the first line to the last without any deviation. But often we want to do one thing if A is true and something else if B is true. For example:"
      ]
    },
    {
      "cell_type": "code",
      "execution_count": null,
      "metadata": {
        "jupyter": {
          "outputs_hidden": false
        },
        "id": "juBGe99YlZck"
      },
      "outputs": [],
      "source": [
        "word = input(prompt='Enter a five letter word: ')\n",
        "if len(word) == 5:\n",
        "    print(f'Good, {word} is five letters long.')\n",
        "else:\n",
        "    print(f'Dummy! {word} is {len(word)} letters long.')"
      ]
    },
    {
      "cell_type": "markdown",
      "metadata": {
        "id": "6L2neWGplZck"
      },
      "source": [
        "The keyword \"if\" start the statment, followed by the condition to check, followed by a colon.\n",
        "All of the indented statements after the if are executed if the condition is true. The indented statements after the \"else:\" are executed if the condition is false. Ending the indentation marks the end of the if/else statement just as with for loops.\n",
        "\n",
        "Here is another example that checks whether an item is already in a list and if not, it adds it to the list."
      ]
    },
    {
      "cell_type": "code",
      "execution_count": null,
      "metadata": {
        "jupyter": {
          "outputs_hidden": false
        },
        "id": "v20XNZ_AlZck"
      },
      "outputs": [],
      "source": [
        "pets = ['cat', 'dog']\n",
        "your_pet = input(prompt = 'What type of pet do you have? ')\n",
        "if your_pet in pets:\n",
        "    print('Here are all of the types of pets I know.')\n",
        "    print(pets)\n",
        "    print('So you see, I know', your_pet)\n",
        "else:\n",
        "    pets.append(your_pet)\n",
        "    print('I learned a new type of pet.')\n",
        "    print('Here are all of the types of pets I now know.')\n",
        "    print(pets)"
      ]
    },
    {
      "cell_type": "markdown",
      "metadata": {
        "id": "wPlq3tktlZcl"
      },
      "source": [
        "The above example gives a hint at how computers can learn things.  Make sure you understand how to use the if/else statement.  By the way, the \"else:\" is optional.  You only need the \"if:\" part if you don't want to do anything when the condition is false.\n",
        "\n",
        "For example:"
      ]
    },
    {
      "cell_type": "code",
      "execution_count": null,
      "metadata": {
        "jupyter": {
          "outputs_hidden": false
        },
        "id": "WDpG6P-plZcl"
      },
      "outputs": [],
      "source": [
        "number = input(prompt='Enter a number less than ten: ')\n",
        "number = float(number)\n",
        "if number > 10:\n",
        "    print('Which part of \"less than 10\" did you not understand?')\n",
        "print('Your number was:', number)"
      ]
    },
    {
      "cell_type": "markdown",
      "metadata": {
        "id": "i2xk0F7llZcl"
      },
      "source": [
        "Notice a little trick in the last example. The input command always returns a string. So if the user types 21 the input command returns a string '21' not the number 21. But in this case we want a number, so we convert it:\n",
        "\n",
        "number = float(number)\n",
        "\n",
        "says to convert the string contained in the variable 'number' into a floating point number and assign the result back to the variable 'number'."
      ]
    },
    {
      "cell_type": "markdown",
      "metadata": {
        "id": "ZiWsaq9GlZcl"
      },
      "source": [
        "### Student challenge\n",
        "Write code in the cell below that prompts the user for a number and prints \"Greater than zero\" or \"Less than zero\" depending on the value of the number.  What happens if the number is exactly zero?  Any idea how to deal with that case?"
      ]
    },
    {
      "cell_type": "code",
      "execution_count": null,
      "metadata": {
        "collapsed": true,
        "jupyter": {
          "outputs_hidden": true
        },
        "id": "8AdI0-tOlZcm"
      },
      "outputs": [],
      "source": []
    },
    {
      "cell_type": "markdown",
      "metadata": {
        "id": "5auyGzmAlZcm"
      },
      "source": [
        "Now let's put our new skills to work to solve a problem for Watney."
      ]
    },
    {
      "cell_type": "markdown",
      "metadata": {
        "id": "n4G6P1NjlZcm"
      },
      "source": [
        "# Martian Challege: Using rocks to talk to NASA"
      ]
    },
    {
      "cell_type": "markdown",
      "metadata": {
        "id": "LHlPE9phlZcm"
      },
      "source": [
        "!['Rover'](http://www.space.com/images/i/000/049/733/i02/martian-vehicle.jpg?1440475264?interpolation=lanczos-none&downsize=640:*)"
      ]
    },
    {
      "cell_type": "markdown",
      "metadata": {
        "id": "scUWKG9TlZcm"
      },
      "source": [
        "## Morse Code\n",
        "One of the problems Whatney faced was keeping NASA informed while making the long trip by Rover to the launch site.  He had no radio to reach Earth, but he knew NASA was watching using high-resolution satellites, so he used Morse Code to spell out simple messages using rocks.\n",
        "\n",
        "What is Morse Code? It is a system of representing English letters and numbers using dots and dashes, or short and long pulses. What makes this so amazing is that you can send messages by radio, sounds, flashes of light, or even tapping on the wall (a communication method used by prisoners). Here is the Morse Code alphabet.\n",
        "\n",
        "[![morse-code.jpg](https://i.postimg.cc/L8htYjXW/morse-code.jpg)](https://postimg.cc/YvKGTGQN)\n",
        "\n",
        "Watney doesn't want to have to look up every letter in a Morse code table. It's enough work moving the rocks! Let's implement a simple Morse code translator using a Python dictionary. Dictionaries are a logical choice because they map a key to a value. Just make each letter the key and the corresponding dots and dashes the value.\n",
        "\n",
        "I will save you a lot of typing. I found this online, so I didn't have to type it either :-)."
      ]
    },
    {
      "cell_type": "code",
      "execution_count": null,
      "metadata": {
        "collapsed": true,
        "jupyter": {
          "outputs_hidden": true
        },
        "id": "LutAeH0XlZcm"
      },
      "outputs": [],
      "source": [
        "  CODE = {'A': '.-',     'B': '-...',   'C': '-.-.',\n",
        "         'D': '-..',    'E': '.',      'F': '..-.',\n",
        "         'G': '--.',    'H': '....',   'I': '..',\n",
        "         'J': '.---',   'K': '-.-',    'L': '.-..',\n",
        "         'M': '--',     'N': '-.',     'O': '---',\n",
        "         'P': '.--.',   'Q': '--.-',   'R': '.-.',\n",
        "         'S': '...',    'T': '-',      'U': '..-',\n",
        "         'V': '...-',   'W': '.--',    'X': '-..-',\n",
        "         'Y': '-.--',   'Z': '--..',\n",
        "         '0': '-----',  '1': '.----',  '2': '..---',\n",
        "         '3': '...--',  '4': '....-',  '5': '.....',\n",
        "         '6': '-....',  '7': '--...',  '8': '---..',\n",
        "         '9': '----.'\n",
        "         }\n"
      ]
    },
    {
      "cell_type": "markdown",
      "metadata": {
        "id": "jboQXZ3WlZcm"
      },
      "source": [
        "To use the dictionary you just need to prompt the user for a message and then loop over all of the characters using the dictionary to translate, then print the result.\n",
        "\n",
        "Notice that this definition of the variable \"CODE\" extends across multiple line, but Python knows that it is all part of one long line until if finds the closing curly bracket."
      ]
    },
    {
      "cell_type": "code",
      "execution_count": null,
      "metadata": {
        "jupyter": {
          "outputs_hidden": false
        },
        "id": "O7wWH7qxlZcn"
      },
      "outputs": [],
      "source": [
        "msg = input(prompt = 'MESSAGE: ')\n",
        "for char in msg:\n",
        "    print(CODE[char.upper()])"
      ]
    },
    {
      "cell_type": "markdown",
      "metadata": {
        "id": "AFdm5gkmlZcn"
      },
      "source": [
        "### Questions:\n",
        "What does the char.upper() do in the code above and why is it necessary?\n",
        "\n",
        "How does the loop know when to stop?"
      ]
    },
    {
      "cell_type": "markdown",
      "metadata": {
        "id": "nmqNWCH9lZcn"
      },
      "source": [
        "## Student Task\n",
        "The Morse Code translator above does not handle spaces or punctuation. Modify it and then find the Morse Code equivalent of \"Hello World!\""
      ]
    },
    {
      "cell_type": "code",
      "execution_count": null,
      "metadata": {
        "jupyter": {
          "outputs_hidden": false
        },
        "id": "Zsc5PHvAlZcn"
      },
      "outputs": [],
      "source": []
    },
    {
      "cell_type": "code",
      "execution_count": null,
      "metadata": {
        "jupyter": {
          "outputs_hidden": false
        },
        "id": "MCvCIBtGlZcn"
      },
      "outputs": [],
      "source": []
    },
    {
      "cell_type": "markdown",
      "metadata": {
        "id": "AMJjwM1ElZcn"
      },
      "source": [
        "## Something that might save your life\n",
        "The universal destress signal, adopted over a century ago, is SOS, which stands for 'save our ship', or 'save our souls'.  It is very easy to signal in Morse Code.  If you ever get stranded on a desert island, perhaps you can signal a passing boat or plane with a mirror, flashlight, or even smoke signals if you just remember how to signal SOS in Morse Code.\n",
        "\n",
        "Just keep repeating three short and three long, over and over.\n",
        "# · · · – – – · · ·"
      ]
    },
    {
      "cell_type": "markdown",
      "metadata": {
        "id": "aLcDGmqtlZco"
      },
      "source": [
        "If you'd like to try listening to some Morse code: http://bit.ly/2cTK2Vl"
      ]
    },
    {
      "cell_type": "markdown",
      "metadata": {
        "id": "P7LMX8aalZco"
      },
      "source": [
        "# Supplemental Activity"
      ]
    },
    {
      "cell_type": "markdown",
      "metadata": {
        "id": "KIcBWOQhlZco"
      },
      "source": [
        "### Student Superpower Challenge\n",
        "Below I create a dictionary where the key is a building name and the value is the building's height in feet. These are currently the five tallest buidings in the world. Your task is to loop over dictionary and print out the building name and height.  I've started the code, you just have to complete it.\n",
        "(Sadly, not one of America's skyscrapers makes the top five.)"
      ]
    },
    {
      "cell_type": "code",
      "execution_count": null,
      "metadata": {
        "jupyter": {
          "outputs_hidden": false
        },
        "id": "L9BNguiFlZcp"
      },
      "outputs": [],
      "source": [
        "buildings = {'Burj Khalifa':2717,\n",
        "             'Shanghai Tower':2073,\n",
        "             'Abraj Al-Bait Clock Tower':1971,\n",
        "             'Ping An Finance Centre':1965,\n",
        "             'Lotte World Tower':1819}\n"
      ]
    },
    {
      "cell_type": "markdown",
      "metadata": {
        "id": "8ka0o4O1lZcp"
      },
      "source": [
        "Complete the task successfully and you will proven that you can loop over tall buildings in a single bound. \t😀\n",
        "\n",
        "![superhero](https://em-content.zobj.net/source/skype/289/woman-superhero_1f9b8-200d-2640-fe0f.png)"
      ]
    },
    {
      "cell_type": "code",
      "source": [],
      "metadata": {
        "id": "Yx29JSqAS4Xq"
      },
      "execution_count": null,
      "outputs": []
    }
  ],
  "metadata": {
    "anaconda-cloud": {},
    "kernelspec": {
      "display_name": "Python 3",
      "language": "python",
      "name": "python3"
    },
    "language_info": {
      "codemirror_mode": {
        "name": "ipython",
        "version": 3
      },
      "file_extension": ".py",
      "mimetype": "text/x-python",
      "name": "python",
      "nbconvert_exporter": "python",
      "pygments_lexer": "ipython3",
      "version": "3.8.3"
    },
    "colab": {
      "provenance": [],
      "toc_visible": true,
      "include_colab_link": true
    }
  },
  "nbformat": 4,
  "nbformat_minor": 0
}