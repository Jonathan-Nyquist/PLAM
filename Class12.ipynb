{
  "cells": [
    {
      "cell_type": "markdown",
      "metadata": {
        "id": "view-in-github",
        "colab_type": "text"
      },
      "source": [
        "<a href=\"https://colab.research.google.com/github/Jonathan-Nyquist/PLAM/blob/main/Class12.ipynb\" target=\"_parent\"><img src=\"https://colab.research.google.com/assets/colab-badge.svg\" alt=\"Open In Colab\"/></a>"
      ]
    },
    {
      "cell_type": "markdown",
      "metadata": {
        "id": "Ouwv28FYouFM"
      },
      "source": [
        "<a id='Top'></a>\n",
        "# Class 12: Advanced User Interface - Widgets!\n",
        "[Top of Notebook](#Top)\n",
        "\n",
        "## Learning Objectives:\n",
        "\n",
        "Finally, we come to the last notebook. We've looked at advanced data input, including APIs and web scraping. We sampled advanced analysis, including statistics, image processing and machine learning. In this final notebook we'll take a quick look at graphical user interfaces.\n",
        "\n",
        "What is a Graphical User Interface, or GUI for short? Well, until now all your interaction with programs has been through typing. Yet modern software involves pointing, clicking, dragging, selecting from menus, pushing buttons, etc. Adding this level of interaction can make programs more user-friendly, but is is a lot more work for the programmer!\n",
        "\n",
        "In this notebook we'll introduce the idea of using \"widgets\" for user interaction. An introduction is as far as we'll get in this class, but there are loads of tutorials on the web, so explore further on you own!\n",
        "\n",
        "In this class we will look at:\n",
        "- [Event Handlers](#Events)\n",
        "- [Student Challenge 1](#Student1)\n",
        "- [Student Challenge 2](#Student2)\n",
        "- [World's Simplest Calculator](#Calculator)\n",
        "- [Student Challenge 3](#Student3)\n",
        "- [Checkboxes, Dropdowns, and Radio Buttons](#MoreWidgets)\n",
        "- [Interactive Widgets](#Interactive)\n",
        "- [Widget Properties](#Properties)\n",
        "- [Student Challenge 4](#Student4)\n",
        "- [Arranging Widgets](#Arrange)\n",
        "- [Martian Weather GUI](#Weather)\n",
        "- [Class Summary](#Back)"
      ]
    },
    {
      "cell_type": "markdown",
      "metadata": {
        "id": "cjCLeBuIouFO"
      },
      "source": [
        "<a id='Events'></a>\n",
        "## Event Handlers\n",
        "[Top of Notebook](#Top)\n",
        "\n",
        "To program with widgets you need to understand the idea of an event handler. Until now, all of your programs have executed from the first line of code on though to the last. Oh sure, if statements sent execution down one branch or another. Loops sent execution round and round. Functions jumped off the main branch to do some task, then returned to the main program. But basically, you knew the order in which your code would execute.\n",
        "\n",
        "With GUIs you are handing control over to the user. Users are scary! Users are perverse! You don't know in what order they will press buttons, move sliders, or click on things. Instead of executing from the top down, your code has to respond to events.\n",
        "\n",
        "**An event is a mouse click, a button press, typing a value into an input box, selecting from a menu -- any way in which the user interacts graphically with your program.** Each event will trigger a \"callback\" to your code. Python will tell you what was clicked -- it will \"call back\" to you saying, \"Hey, some moron (er, user) pushed this button. What should I do?\" You need to write a function to handle each user event such that it doesn't matter in what order they were triggered.\n",
        "\n",
        "Let's begin our journey with a simple widget. We'll start with a single button. The user pushes it and you control what happens next."
      ]
    },
    {
      "cell_type": "code",
      "execution_count": null,
      "metadata": {
        "jupyter": {
          "outputs_hidden": false
        },
        "id": "MaNydPyyouFO"
      },
      "outputs": [],
      "source": [
        "from ipywidgets import widgets\n",
        "from IPython.display import display, Markdown, clear_output\n",
        "\n",
        "print('Want to know how to keep an idiot busy? Click the button to find out.')\n",
        "button = widgets.Button(description='Click me.')\n",
        "display(button)"
      ]
    },
    {
      "cell_type": "markdown",
      "metadata": {
        "id": "akncH1H9ouFP"
      },
      "source": [
        "### You may have noticed this button doesn't do anything.\n",
        "We have a button, but clicking on it does nothing because there is no callback. Let's add a function that is called when a button-click event is detected."
      ]
    },
    {
      "cell_type": "code",
      "execution_count": null,
      "metadata": {
        "jupyter": {
          "outputs_hidden": false
        },
        "id": "YqGD3VJIouFP"
      },
      "outputs": [],
      "source": [
        "from ipywidgets import widgets\n",
        "from IPython.display import display\n",
        "\n",
        "# Create two widgets. One for the button, one for output\n",
        "button = widgets.Button(description='Click me', disabled=False)\n",
        "out = widgets.Output()\n",
        "\n",
        "def on_button_clicked(b):\n",
        "      with out:\n",
        "          # what happens when we press the button\n",
        "          clear_output()\n",
        "          print('Something happens!')\n",
        "\n",
        "button.on_click(on_button_clicked)\n",
        "\n",
        "# Put the two widgets in a vertical (column container)\n",
        "widgets.VBox([button,out])"
      ]
    },
    {
      "cell_type": "markdown",
      "metadata": {
        "id": "24eVEFNPouFP"
      },
      "source": [
        "### How it works\n",
        "You created a button widget and displayed it. Every widget has as variety of methods build into it. A button, has an \"on_click\" event that is triggered when the button is clicked. You passed that method your callback function. So every time the user clicks the button the callback function with that name is triggered. In this case the callback function simply prints the \"Something happens!\" message."
      ]
    },
    {
      "cell_type": "markdown",
      "metadata": {
        "id": "ow0bn7l6ouFQ"
      },
      "source": [
        "<a id='Student1'></a>\n",
        "## Student Challenge 1\n",
        "[Top of Notebook](#Top)\n",
        "Create a button with the label \"Do not push.\" And a callback function that prints \"Kaboom!!!\" if the button is pushed."
      ]
    },
    {
      "cell_type": "code",
      "execution_count": null,
      "metadata": {
        "id": "gyyeu6UNouFQ"
      },
      "outputs": [],
      "source": []
    },
    {
      "cell_type": "markdown",
      "metadata": {
        "id": "cF-p_OdsouFQ"
      },
      "source": [
        "## Text Input Widget\n",
        "The basic pattern of widget and callback is the same. See if you can figure how this widget works. In this case we create two widgets.  You type into the top one and see the result in the bottom one."
      ]
    },
    {
      "cell_type": "code",
      "execution_count": null,
      "metadata": {
        "jupyter": {
          "outputs_hidden": false
        },
        "id": "hN4EBa1souFQ"
      },
      "outputs": [],
      "source": [
        "top_box_text = widgets.Text()\n",
        "bot_box_text = widgets.Text()\n",
        "display(top_box_text)\n",
        "display(bot_box_text)\n",
        "\n",
        "def make_upper_case(sender):\n",
        "    bot_box_text.value = top_box_text.value.upper()\n",
        "\n",
        "top_box_text.on_submit(make_upper_case)"
      ]
    },
    {
      "cell_type": "markdown",
      "metadata": {
        "id": "TCYmLDYrouFQ"
      },
      "source": [
        "Notice that we only have a callback defined for the top box, so typing text into the bottom one doesn't do anything when you hit enter. Don't believe me? Try typing some text in the bottom box."
      ]
    },
    {
      "cell_type": "markdown",
      "metadata": {
        "id": "oX205R_EouFQ"
      },
      "source": [
        "<a id='Student2'></a>\n",
        "## Student Challenge 2\n",
        "[Top of Notebook](#Top)\n",
        "Duplicate the function above, but alter it so that not only is text typed in the upper box output in lower box in upper case, but text typed in the lower box is printed in the upper box in lower case."
      ]
    },
    {
      "cell_type": "code",
      "execution_count": null,
      "metadata": {
        "id": "9puPCzcvouFQ"
      },
      "outputs": [],
      "source": []
    },
    {
      "cell_type": "markdown",
      "metadata": {
        "id": "Tgcnn7JXouFQ"
      },
      "source": [
        "<a id='Calculator'></a>\n",
        "## World's simplest calculator.\n",
        "[Top of Notebook](#Top)\n",
        "\n",
        "Let's take the two widgets we know and design a really, really simple calculator. You enter a number in each of the top two boxes, press the button, and the sum is displayed in the bottom box."
      ]
    },
    {
      "cell_type": "code",
      "execution_count": null,
      "metadata": {
        "jupyter": {
          "outputs_hidden": false
        },
        "id": "KnjEj_KFouFQ"
      },
      "outputs": [],
      "source": [
        "# Create four widgets, 3 text widgets and one button\n",
        "num1 = widgets.Text()\n",
        "num2 = widgets.Text()\n",
        "button = widgets.Button(description='Add')\n",
        "answer = widgets.Text()\n",
        "\n",
        "# Display the widgets\n",
        "display(num1)\n",
        "display(num2)\n",
        "display(button)\n",
        "display(answer)\n",
        "\n",
        "# Callback function\n",
        "def add_it(sender):\n",
        "    answer.value = str(float(num1.value) + float(num2.value))\n",
        "\n",
        "# Event that will trigger a callback\n",
        "button.on_click(add_it)"
      ]
    },
    {
      "cell_type": "markdown",
      "metadata": {
        "id": "K3VRV-8ZouFQ"
      },
      "source": [
        "We defined four widgets: three text boxes and a button, but we only wrote a callback for the button, so nothing will execute until the user presses the button.\n",
        "\n",
        "There is one trick here. The value of a text box is always a string (text) even when you enter numbers; so when we want to work with numbers we have to convert them.  If you have a string \"7.9\", float(\"7.9\") will return the floating point number 7.9.\n",
        "\n",
        "But textboxes can only display strings, so after you add the values together you need to convert the sum back into a string. The str() function does this, so str(7.9) will convert the number 7.9 into the string \"7.9\". Stare at he function until your understand what it does, or at least until your eyes start to bleed."
      ]
    },
    {
      "cell_type": "markdown",
      "metadata": {
        "id": "rFifew7aouFR"
      },
      "source": [
        "<a id='Student3'> </a>\n",
        "## Student Challenge 3\n",
        "[Top of Notebook](#Top)\n",
        "\n",
        "Acutally, we didn't need the string-float conversion for our simple calculator because one of the widgets available is widgets.FloatText(), which accepts floating point numbers instead of text. See if you can rewrite the calculator above using this widget in place of widgets.Text(). The code should be slightly simpler.\n",
        "\n",
        "This is another example of refactoring your code -- you are improving it without changing functionality."
      ]
    },
    {
      "cell_type": "code",
      "execution_count": null,
      "metadata": {
        "id": "bfzNL7SMouFR"
      },
      "outputs": [],
      "source": []
    },
    {
      "cell_type": "markdown",
      "metadata": {
        "id": "eC_f7cZ5ouFR"
      },
      "source": [
        "<a id='MoreWidgets'></a>\n",
        "## Three more widgets: Checkboxes, Dropdowns, RadioButtons\n",
        "[Top of Notebook](#Top)\n",
        "\n",
        "A check box is used for true/false. A dropdown is used to select a choice from a list. A radiobutton is used to select from mutually exclusive options. Here are examples of each."
      ]
    },
    {
      "cell_type": "code",
      "execution_count": null,
      "metadata": {
        "jupyter": {
          "outputs_hidden": false
        },
        "id": "UUVUClZcouFR"
      },
      "outputs": [],
      "source": [
        "# Check box. Try checking and unchecking the box.\n",
        "# Notice we are using the callback function f defined earlier that prints it's argument.\n",
        "cb = widgets.Checkbox()\n",
        "display(cb)"
      ]
    },
    {
      "cell_type": "code",
      "execution_count": null,
      "metadata": {
        "jupyter": {
          "outputs_hidden": false
        },
        "id": "D3mD6iqdouFR"
      },
      "outputs": [],
      "source": [
        "# Dropdown for making choices. Click on the down arrow to see the options.\n",
        "dd = widgets.Dropdown(options=('Orange', 'Green', 'Blue'))\n",
        "display(dd)"
      ]
    },
    {
      "cell_type": "code",
      "execution_count": null,
      "metadata": {
        "id": "lj7nOzEOouFR"
      },
      "outputs": [],
      "source": [
        "# Radiobutton. By default only on option can be selected.\n",
        "rb = widgets.RadioButtons(\n",
        "        options=['pepperoni', 'pineapple', 'mushrooms'], description=\"Pizza topping:\")\n",
        "display(rb)"
      ]
    },
    {
      "cell_type": "markdown",
      "metadata": {
        "id": "daPYFHykouFR"
      },
      "source": [
        "The full list of widgets available can be found [here](http://ipywidgets.readthedocs.io/en/latest/examples/Widget%20List.html#Complete-list)."
      ]
    },
    {
      "cell_type": "markdown",
      "metadata": {
        "id": "OXynBG0DouFR"
      },
      "source": [
        "<a id='Interactive'></a>\n",
        "## Interactive Widgets\n",
        "[Top of Notebook](#Top)\n",
        "\n",
        "Apart from the default widgets there is also “interact” which automatically generates a widget based on the arguments that you use.  At the most basic level, interact autogenerates controls for function arguments, and then calls the function with those arguments when you manipulate the controls interactively. To use interact, you need to define a function that you want to explore. Here is a function that prints its only argument x."
      ]
    },
    {
      "cell_type": "code",
      "execution_count": null,
      "metadata": {
        "jupyter": {
          "outputs_hidden": false
        },
        "id": "6I27RffCouFS"
      },
      "outputs": [],
      "source": [
        "from ipywidgets import interact, interactive, fixed\n",
        "import ipywidgets as widgets\n",
        "\n",
        "def f(x):\n",
        "    print(x)\n",
        "interact(f, x=widgets.IntSlider(min=-10,max=30,step=1,value=10));"
      ]
    },
    {
      "cell_type": "markdown",
      "metadata": {
        "id": "w7ulZ_gMouFS"
      },
      "source": [
        "Notice how we set the range of the slider, in this case from -10 to 30 in steps of 1, and set the starting value to 10. As you move the slider it generates events that trigger new function calls to print the current value."
      ]
    },
    {
      "cell_type": "markdown",
      "metadata": {
        "id": "ejzXfz3VouFS"
      },
      "source": [
        "<a id='Properties'></a>\n",
        "## Widget Properties\n",
        "[Top of Notebook](#Top)\n",
        "\n",
        "You may have noticed that these are not the most colorful widgets. All of the widgets have some properties that can be adjusted. Let's explicitly create a Dropdown widget and look at its properties."
      ]
    },
    {
      "cell_type": "code",
      "execution_count": null,
      "metadata": {
        "jupyter": {
          "outputs_hidden": false
        },
        "id": "o39udGl7ouFS"
      },
      "outputs": [],
      "source": [
        "from ipywidgets import Layout\n",
        "cw = widgets.Dropdown(options=['Red', 'Green', 'Blue'])\n",
        "display(cw)"
      ]
    },
    {
      "cell_type": "code",
      "execution_count": null,
      "metadata": {
        "jupyter": {
          "outputs_hidden": false
        },
        "id": "NvlI-JzSouFS"
      },
      "outputs": [],
      "source": [
        "# print the properties of this widget\n",
        "print(cw.keys)"
      ]
    },
    {
      "cell_type": "markdown",
      "metadata": {
        "id": "btE8R-yoouFS"
      },
      "source": [
        "Notice that one of the properties is 'button_style.' Great, but what are the choices? Figuring this this out requires browsing the [online documentation.](https://ipywidgets.readthedocs.io/en/latest/examples/Widget%20List.html?highlight=button#Button) The choices are:  button_style='', # 'success', 'info', 'warning', 'danger' or ''"
      ]
    },
    {
      "cell_type": "code",
      "execution_count": null,
      "metadata": {
        "jupyter": {
          "outputs_hidden": false
        },
        "id": "3y1uDmBeouFS"
      },
      "outputs": [],
      "source": [
        "# Create two widgets. One for the button, one for output\n",
        "button = widgets.Button(description='Click me', disabled=False, button_style='warning')\n",
        "out = widgets.Output()\n",
        "\n",
        "def on_button_clicked(b):\n",
        "      with out:\n",
        "          # what happens when we press the button\n",
        "          clear_output()\n",
        "          print('DANGER, Will Robinson!!!')\n",
        "\n",
        "button.on_click(on_button_clicked)\n",
        "\n",
        "# Put the two widgets in a vertical (column container)\n",
        "widgets.VBox([button,out])"
      ]
    },
    {
      "cell_type": "code",
      "execution_count": null,
      "metadata": {
        "id": "Vg-tBk5_ouFS"
      },
      "outputs": [],
      "source": []
    },
    {
      "cell_type": "markdown",
      "metadata": {
        "id": "BhVKOsHXouFS"
      },
      "source": [
        "\n",
        "<a id='Student4'></a>\n",
        "## Student Challenge 4\n",
        "[Top of Notebook](#Top)\n",
        "\n",
        "Create a button with the words \"Do Not Push!\" in the 'danger' style. (Inspired by Guardians of the Galazy 2).  You can decide what happens when you push it. (Though I'd prefer it not end the universe.)\n",
        "\n",
        "![Baby Groot](http://i.dailymail.co.uk/i/pix/2016/12/04/01/3B02A5EF00000578-3998002-I_am_Groot_Unfortunately_the_cute_little_character_has_a_hard_ti-m-10_1480815975438.jpg)"
      ]
    },
    {
      "cell_type": "code",
      "execution_count": null,
      "metadata": {
        "id": "BQbPunWdouFS"
      },
      "outputs": [],
      "source": []
    },
    {
      "cell_type": "markdown",
      "metadata": {
        "id": "fGhkoNGcouFS"
      },
      "source": [
        "<a id='Arrange'></a>\n",
        "## Arranging Widgets\n",
        "[Top of Notebook](#Top)\n",
        "\n",
        "A GUI with more than a few widgets requires some control over the widget layout. This is accomplished with container widgets. Two of the simplest container widgets are Hbox and Vbox for stacking widgets horizontally and vertically. We used Vbox above. Here is a slightly more complex exaample."
      ]
    },
    {
      "cell_type": "code",
      "execution_count": null,
      "metadata": {
        "id": "dYn_IEEAouFT"
      },
      "outputs": [],
      "source": [
        "from ipywidgets import Button, HBox, VBox\n",
        "\n",
        "words = ['MAV', 'Rover', 'Battery', 'Rations']\n",
        "items = [Button(description=w) for w in words]\n",
        "\n",
        "HBox([VBox([items[0], items[1]]), VBox([items[2], items[3]])])"
      ]
    },
    {
      "cell_type": "markdown",
      "metadata": {
        "id": "gdltPT0CouFT"
      },
      "source": [
        "Let's look line by line at how this code works because it demonstrates many of the skills we've learned over the past few weeks. See how much you understand.\n",
        "\n",
        "Line 1: We import objects we need form an external module named \"ipywidgets.\" (Importing modules)\n",
        "\n",
        "Line 2: We create a list of strings we plan to use as Button labels. (Using a list)\n",
        "\n",
        "Line 3: We create a loop over the items in the list. For each item we create a button, assign the test string to the description, and add the button to a new list called \"items\" that hold the four buttons, one for each item in our original list. (Looping)\n",
        "\n",
        "Line 4: We create two vertical containers (Vbox) inside one horizontal container (Hbox). In the first Vbox we put items 0 and 1 (Python list indices always start with zero), and in the second Vbox we put items 3 and 4. These items are our labeled buttons. The two Vboxes go into the Hbox. Look carefully at the parentheses and you'll see this.\n",
        "\n",
        "Note that we have no callback, so none of the buttons actually does anything..."
      ]
    },
    {
      "cell_type": "markdown",
      "metadata": {
        "id": "Cgz3FbMlouFT"
      },
      "source": [
        "![Dust Storm](https://www.nasa.gov/sites/default/files/thumbnails/image/21_the_serpent_dust_devil_on_mars_pia15116-br2.jpg)\n",
        "\n",
        "\"A towering [dust devil](https://www.nasa.gov/feature/goddard/the-fact-and-fiction-of-martian-dust-storms) casts a serpentine shadow over the Martian surface in this image acquired by the High Resolution Imaging Science Experiment (HiRISE) camera on NASA's Mars Reconnaissance Orbiter.\""
      ]
    },
    {
      "cell_type": "markdown",
      "metadata": {
        "id": "SOuTWRMyouFT"
      },
      "source": [
        "<a id='Weather'></a>\n",
        "# Martian Weather GUI\n",
        "[Top of Notebook](#Top)\n",
        "\n",
        "We've learned how to make a widget, implement callbacks and arrange widgets.  Let's finish this whole programming module by building a simple GUI App inside this notebook -- with a Martian theme, naturally!\n",
        "\n",
        "We will look at weather data from the Mars Pathfinder\n",
        "Reference: http://www-k12.atmos.washington.edu/k12/resources/mars_data-information/data.html\n",
        "(Open the URL in a separate tab.)\n",
        "\n",
        "The data set description shows the following columns\n",
        "\n",
        "    Year\t\t\t    Mars year, approximately 687 Earth days\n",
        "    Solar Longitude,\tAngular direction from Mars to the Sun, L_s in 0 to 360 degrees\n",
        "    Deg.                90 = summer, 180 = autumn, 270 = winter, 0 or 360 = spring in northern hemisphere\n",
        "    Sol\t\t\t        Martian days after landing; 1 sol is Viking landed on sol 0. One sol is 24.62 hours\n",
        "    Wind speed\t\t    Meters per second\n",
        "    Wind direction\t    Degrees, (direction from which the wind blows)\n",
        "    Pressure\t\t    mb = millibars, 1 mb = 100 hPa, where hPa = hecta Pascals\n",
        "    Temperature\t\t    Degrees; C = Centigrade; F = Fahrenheit\n",
        "\n",
        "We are going to design an application that will let Whatney plot weather data from the Mars Pathfinder.\n",
        "\n",
        "**Design Requirements:**\n",
        "* Start date (0-189) - Slider widget to chose the starting day of the plot\n",
        "* Date range (0-10) - Slider widget to chose the number of days of data to plot\n",
        "* Quantity to plot - Dropdown widget to choose which variable to plot\n",
        "* Plot it - a button to press when you are ready to plot the data with the updated parameter values\n",
        "\n",
        "We well use container widgets to control the layout."
      ]
    },
    {
      "cell_type": "markdown",
      "metadata": {
        "id": "ycC8vDn3ouFT"
      },
      "source": [
        "*Let's start by loading and looking at the data.*"
      ]
    },
    {
      "cell_type": "code",
      "source": [
        "!wget https://github.com/Jonathan-Nyquist/PLAM/raw/main/mpf.txt"
      ],
      "metadata": {
        "id": "2p7pnU0IqXdh"
      },
      "execution_count": null,
      "outputs": []
    },
    {
      "cell_type": "code",
      "execution_count": null,
      "metadata": {
        "jupyter": {
          "outputs_hidden": false
        },
        "id": "H8Sc42VSouFT"
      },
      "outputs": [],
      "source": [
        "%matplotlib inline\n",
        "import pandas as pd\n",
        "\n",
        "# If you look at the text file you'll see that the first 69 lines are text\n",
        "# describing the data, so we have to skip that.\n",
        "mpf = pd.read_csv('mpf.txt', delim_whitespace=True, skiprows=69, header=0)"
      ]
    },
    {
      "cell_type": "code",
      "execution_count": null,
      "metadata": {
        "jupyter": {
          "outputs_hidden": false
        },
        "id": "MeFxa8ATouFT"
      },
      "outputs": [],
      "source": [
        "# Print the first few lines\n",
        "mpf.head()"
      ]
    },
    {
      "cell_type": "code",
      "execution_count": null,
      "metadata": {
        "jupyter": {
          "outputs_hidden": false
        },
        "id": "okbatEVTouFT"
      },
      "outputs": [],
      "source": [
        "# Make quick plot of all the data\n",
        "mpf.plot('Sol','Temp_F')"
      ]
    },
    {
      "cell_type": "markdown",
      "metadata": {
        "id": "YpUuvmA7ouFT"
      },
      "source": [
        "It appears there was a period of time when the equipment was not operating. Also it is clear you can't see much if you plot all of the data at once."
      ]
    },
    {
      "cell_type": "code",
      "execution_count": null,
      "metadata": {
        "jupyter": {
          "outputs_hidden": false
        },
        "id": "F7uOttxUouFU"
      },
      "outputs": [],
      "source": [
        "# Plot just 10 days of data\n",
        "mpf10days = mpf[mpf['Sol']<10]\n",
        "ax = mpf10days.plot('Sol','Temp_F')\n",
        "ax.set_ylabel('Temperature degF')"
      ]
    },
    {
      "cell_type": "markdown",
      "metadata": {
        "id": "Z1DbDy3AouFU"
      },
      "source": [
        "The temperature data for 10 days shows us two things: (1) the temperature goes up and down with the rising and setting of the sun each Martian day; (2) it is fricking cold on Mars!"
      ]
    },
    {
      "cell_type": "code",
      "execution_count": null,
      "metadata": {
        "jupyter": {
          "outputs_hidden": false
        },
        "id": "SgbiSnRPouFU"
      },
      "outputs": [],
      "source": [
        "ax = mpf10days.plot('Sol','Wind_vel')\n",
        "ax.set_ylabel('Wind velocity (m/s)')"
      ]
    },
    {
      "cell_type": "markdown",
      "metadata": {
        "id": "1zOLvYeXouFU"
      },
      "source": [
        "The wind velocity also changes with a daily cycle, but it is more irregular. Some days are windier then others."
      ]
    },
    {
      "cell_type": "markdown",
      "metadata": {
        "id": "_fKMAKkAouFU"
      },
      "source": [
        "## GUI Design\n",
        "This is probably the longest piece of code you've had to look at this entire class. Remember, in this final week I'm showing you some advanced stuff, so don't worry if you don't understand it all, but make the attempt anyway.\n",
        "\n",
        "Bragging rights if you can figure out how it all works."
      ]
    },
    {
      "cell_type": "code",
      "execution_count": null,
      "metadata": {
        "jupyter": {
          "outputs_hidden": false
        },
        "id": "7BfLrpbPouFU"
      },
      "outputs": [],
      "source": [
        "%matplotlib inline\n",
        "\n",
        "# Import the modules needed\n",
        "import numpy as np\n",
        "import pandas as pd\n",
        "from IPython import display\n",
        "from ipywidgets import widgets\n",
        "from IPython.display import display, clear_output, Image\n",
        "from matplotlib import pyplot as plt\n",
        "\n",
        "# The @widgets means widgets is a \"decorator\", which is a function the changes another function.\n",
        "# In this case it alters the function mars_weather to have widget provide the function input values.\n",
        "# Every time we press  the \"Run Interact\" button our function mars_weather will be called with\n",
        "# the current parameter values.\n",
        "\n",
        "@widgets.interact_manual(ndays=(1, 10), start_sol=(0.0, 189.0), property=['Wind_vel', 'Wind_dir', 'Pressure', 'Temp_F', 'Temp_C'])\n",
        "def mars_weather(ndays=5, start_sol=0, property=\"Wind_vel\"):\n",
        "\n",
        "    # Set the range of days\n",
        "    start = start_sol\n",
        "    end = start + ndays\n",
        "    data = mpf[(mpf[\"Sol\"] >= start) & (mpf[\"Sol\"] <= end)]\n",
        "\n",
        "    # Pull out the property to plot\n",
        "    x = data[\"Sol\"]\n",
        "    y = data[property]\n",
        "\n",
        "    # Create the figure and label the x-axis\n",
        "    fig, ax = plt.subplots(1, 1, figsize=(8, 6))\n",
        "    ax.plot(x, y)\n",
        "    ax.set_xlabel(\"Solar Day\")\n",
        "\n",
        "    # We need to find the units that match the property we are ploting.\n",
        "    # So we find the matching number between data_types and units\n",
        "    data_types = ['Wind_vel', 'Wind_dir', 'Pressure', 'Temp_F', 'Temp_C']\n",
        "    ind = data_types.index(property)\n",
        "    units = ['m/s', 'degrees', 'millibars', 'deg F', 'deg C']\n",
        "\n",
        "    # Label the y axis accordingly\n",
        "    ax.set_ylabel(data_types[ind] + \" [\" + units[ind] +\"]\")"
      ]
    },
    {
      "cell_type": "markdown",
      "metadata": {
        "id": "_KW3HXvBouFU"
      },
      "source": [
        "Try out the App. Work the sliders and the dropbox and make sure you understand what they do.\n",
        "\n",
        "### Student Challenge: See if you can plot the barametric pressure from Sol 54-60.\n",
        "\n",
        "By the way, if you want to know the current weather on Mars, there's an App for that: http://cab.inta-csic.es/rems/en"
      ]
    },
    {
      "cell_type": "code",
      "execution_count": null,
      "metadata": {
        "id": "1YUDsINWouFU"
      },
      "outputs": [],
      "source": []
    },
    {
      "cell_type": "markdown",
      "metadata": {
        "id": "Sjis7aXkouFU"
      },
      "source": [
        "<a id='Back'></a>\n",
        "# Class Summary: Looking Back\n",
        "[Top of Notebook](#Top)\n",
        "\n",
        "![Wa Hoo](https://images.squarespace-cdn.com/content/v1/56cedc4df8baf3fe56ca2564/1465685116879-KGIOUFG5816XS69F32I6/ke17ZwdGBToddI8pDm48kKjIxnCAopXYiG3I-nHswVRZw-zPPgdn4jUwVcJE1ZvWgCjmTad1QpYCGph9EV4QZUJFbgE-7XRK3dMEBRBhUpziJ01MVcqCiNJ0H-BSJwYEay-P4sNWmflyo7dIHCnCi2YA4_JCYrEJZmDQ5H57TlI/MAttDamon.gif?format=2500w)\n",
        "\n",
        "Wow! We've come a long way -- from the first day when you printed \"Hello, world!\" to designing an application with graphics and interactive controls.  Along the way we've covered:\n",
        "* Python variables\n",
        "* Math operations\n",
        "* Comments\n",
        "* Different data types, such as integers, floats, lists, tuples, dictionaries\n",
        "* Control structures, such as loops and if/else statment\n",
        "* How to create functions\n",
        "* Loading modules\n",
        "* Reading and writing files\n",
        "* Plotting data\n",
        "* Debugging\n",
        "* Getting data from the web\n",
        "* Data processing methods\n",
        "* And finally, creating interactive widget and GUI design!\n",
        "\n",
        "**And you probably learned a bit about Mars as well!**\n",
        "\n",
        "## Next Steps\n",
        "\n",
        "It is really too much to expect you understand everything we've covered in the past in four weeks. My approach has been to teach you the basics while giving you a glimpse of what is possible. I really hope you'll continue to explore Python programming on your own. I never had a class in Python; I'm all self-taught.\n",
        "\n",
        "## You can do it too!\n",
        "![Soul](https://montcs.bloomu.edu/~bobmon/Semesters/2012-01/491/import%20soul.png)\n"
      ]
    },
    {
      "cell_type": "code",
      "execution_count": null,
      "metadata": {
        "id": "4HM1jYM7ouFV"
      },
      "outputs": [],
      "source": []
    },
    {
      "cell_type": "markdown",
      "metadata": {
        "id": "oTBkthSXouFV"
      },
      "source": [
        "![parables](https://imgs.xkcd.com/comics/reassuring.png)"
      ]
    },
    {
      "cell_type": "markdown",
      "metadata": {
        "jupyter": {
          "outputs_hidden": true
        },
        "id": "G3H312NuouFV"
      },
      "source": [
        "P.S.  It has come to pass. Computers have defeated all of the worlds best Go players!\n",
        "\n",
        "\n",
        "# Good luck in your Python adventures!"
      ]
    },
    {
      "cell_type": "markdown",
      "metadata": {
        "id": "yunpqiSzouFV"
      },
      "source": [
        "![potter](http://i.imgur.com/KGrV41o.png)"
      ]
    }
  ],
  "metadata": {
    "anaconda-cloud": {},
    "kernelspec": {
      "display_name": "Python 3",
      "language": "python",
      "name": "python3"
    },
    "language_info": {
      "codemirror_mode": {
        "name": "ipython",
        "version": 3
      },
      "file_extension": ".py",
      "mimetype": "text/x-python",
      "name": "python",
      "nbconvert_exporter": "python",
      "pygments_lexer": "ipython3",
      "version": "3.8.8"
    },
    "colab": {
      "provenance": [],
      "include_colab_link": true
    }
  },
  "nbformat": 4,
  "nbformat_minor": 0
}