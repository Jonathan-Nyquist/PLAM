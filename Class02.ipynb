{
  "cells": [
    {
      "cell_type": "markdown",
      "metadata": {
        "id": "view-in-github",
        "colab_type": "text"
      },
      "source": [
        "<a href=\"https://colab.research.google.com/github/Jonathan-Nyquist/PLAM/blob/main/Class02.ipynb\" target=\"_parent\"><img src=\"https://colab.research.google.com/assets/colab-badge.svg\" alt=\"Open In Colab\"/></a>"
      ]
    },
    {
      "cell_type": "markdown",
      "metadata": {
        "id": "XWKF1QawdxNU"
      },
      "source": [
        "# Class 02: Python Language Elements"
      ]
    },
    {
      "cell_type": "markdown",
      "metadata": {
        "id": "Rv-McLJVdxNY"
      },
      "source": [
        "## Learning Objectives\n",
        "With this notebook we begin learning Python. We will cover:\n",
        "* Commenting your code\n",
        "* Variables names and basic data types\n",
        "* Numbers and Simple Math Operations\n",
        "* Python Modules -- a first look\n",
        "* String variables and operator polymorphism (say what?)\n",
        "* More about the print statement\n",
        "* Quick introduction to Markdown for documenting your notebook\n",
        "* Martian Challenge\n",
        "\n",
        "In the last notebook, we just looked at markdown cells to write our computational stories.  Now we start adding code."
      ]
    },
    {
      "cell_type": "markdown",
      "metadata": {
        "id": "SjYbsY1IdxNZ"
      },
      "source": [
        "## Commenting your code\n",
        "It's time to really start learning how to program in Python! You have alreadly used the print statement. The next part is even easier -- inserting comments.\n",
        "\n",
        "In Python, everything on a line after the \\# symbol is ignored by the kernel. Comments are just a way to make your program more human readable, to explain its function, and to leave yourself reminders in case you come back to modify a program you haven't looked at in ages.\n",
        "\n",
        "Let's look at an example."
      ]
    },
    {
      "cell_type": "code",
      "execution_count": null,
      "metadata": {
        "jupyter": {
          "outputs_hidden": false
        },
        "id": "T5ne-UL8dxNa",
        "outputId": "d398334b-6e62-4bad-d9cd-233989fac3d9"
      },
      "outputs": [
        {
          "name": "stdout",
          "output_type": "stream",
          "text": [
            "Something\n",
            "Somthing else\n"
          ]
        }
      ],
      "source": [
        "# This is a comment. Python doesn't care what I write here.\n",
        "# Now I'm going to print something\n",
        "print('Something')\n",
        "\n",
        "# Note that you can leave blank lines in your code, like the one above, to improve readability.\n",
        "# Now I'm going to print something else.\n",
        "print('Somthing else')\n",
        "\n",
        "# Another comment.  Python is not listening. \"La la la la la.\""
      ]
    },
    {
      "cell_type": "markdown",
      "metadata": {
        "id": "nJwPjaMsdxNb"
      },
      "source": [
        "Python executed the print statements, but ignored the rest. Use comments freely in your code as needed."
      ]
    },
    {
      "cell_type": "markdown",
      "metadata": {
        "id": "U_n29rwRdxNc"
      },
      "source": [
        "## Variables and Names\n",
        "You can use Python to do simple math, such as adding two numbers together."
      ]
    },
    {
      "cell_type": "code",
      "execution_count": null,
      "metadata": {
        "jupyter": {
          "outputs_hidden": false
        },
        "id": "CXipqwfvdxNc",
        "outputId": "edbbf694-d844-4860-f561-314a32d91047"
      },
      "outputs": [
        {
          "data": {
            "text/plain": [
              "2"
            ]
          },
          "execution_count": 3,
          "metadata": {},
          "output_type": "execute_result"
        }
      ],
      "source": [
        "1+1"
      ]
    },
    {
      "cell_type": "markdown",
      "metadata": {
        "id": "QmUTmZHwdxNd"
      },
      "source": [
        "But you'll quickly need ways to save results, or use names (variables) in place of raw numbers or text. To demonstrate:"
      ]
    },
    {
      "cell_type": "code",
      "execution_count": null,
      "metadata": {
        "jupyter": {
          "outputs_hidden": false
        },
        "id": "cYtT8m-QdxNd",
        "outputId": "4dfac742-0a8e-47ea-914b-cc144f772d18"
      },
      "outputs": [
        {
          "name": "stdout",
          "output_type": "stream",
          "text": [
            "10\n"
          ]
        }
      ],
      "source": [
        "# Assign numbers to two different variables and sdd them together.\n",
        "# Store the result in new variable.\n",
        "# Then print the result\n",
        "a = 2\n",
        "b = 8\n",
        "c = a + b\n",
        "print(c)"
      ]
    },
    {
      "cell_type": "markdown",
      "metadata": {
        "id": "yBsc63MsdxNe"
      },
      "source": [
        "What did the four lines of code above do exactly?\n",
        "\n",
        "The equals sign does not mean that a equals 2, it is an *assignment statement* that says to Python, please create a variable named \"a\" and assign to it the number two. The rest should be pretty self explanatory. Note that in the third line we are, again, not testing if c = a + b, we are telling Python to sum the variables a and b and assign the result to variable c."
      ]
    },
    {
      "cell_type": "markdown",
      "metadata": {
        "id": "AUQ0naTCdxNe"
      },
      "source": [
        "## Variable naming rules\n",
        "\n",
        "Python variables are just names we give to places in the computer's memory where we can store numbers, text, and more complex data structures that we'll learn about later.\n",
        "\n",
        "Variable names can contain numbers but must start with a letter: variable10 is an okay name, 10variable is not. Letters can be upper or lower case, but Python is case sensitive, so dog and DOG are different variable names. Names cannot contain spaces, but can contain underscores: e.g. first_name\n",
        "\n",
        "Sample GOOD variable names: fred, Fred, speed_of_light, android23 Sample BAD variable names: 73skiddoo, two words, bad'punctuation\n",
        "\n",
        "In general, you want to keep names short but descriptive. You'll get the hang of it as we go along.\n",
        "\n",
        "(Some of this content was copied from: http://www.thehelloworldprogram.com/python/python-variable-assignment-statements-rules-conventions-naming/)\n",
        "\n",
        "### You can't create a variable without giving it a value\n",
        "You may be familiar with algebraic equations, such as the equation for a line:\n",
        "$$ y = mx + b$$\n",
        "\n",
        "In mathematics, variables are generally single letters like x, y, or Greek symbols like π or θ. Mathematicians often use variables when they don’t know a specific value but are working towards finding it. It’s different in Python. You must assign a value to a variable before you can use it, even if that value is zero or empty. If, for example, I call the variable Mark_Whatney before assigning it a value:"
      ]
    },
    {
      "cell_type": "code",
      "execution_count": null,
      "metadata": {
        "jupyter": {
          "outputs_hidden": false
        },
        "id": "g93QSz8MdxNe",
        "outputId": "9525d12c-5704-414f-f76b-e49304f1b560"
      },
      "outputs": [
        {
          "ename": "NameError",
          "evalue": "name 'Mark_Whatney' is not defined",
          "output_type": "error",
          "traceback": [
            "\u001b[0;31m---------------------------------------------------------------------------\u001b[0m",
            "\u001b[0;31mNameError\u001b[0m                                 Traceback (most recent call last)",
            "\u001b[0;32m<ipython-input-10-c6ee41630fe8>\u001b[0m in \u001b[0;36m<module>\u001b[0;34m()\u001b[0m\n\u001b[0;32m----> 1\u001b[0;31m \u001b[0mMark_Whatney\u001b[0m\u001b[0;34m\u001b[0m\u001b[0m\n\u001b[0m",
            "\u001b[0;31mNameError\u001b[0m: name 'Mark_Whatney' is not defined"
          ]
        }
      ],
      "source": [
        "Mark_Whatney"
      ]
    },
    {
      "cell_type": "markdown",
      "metadata": {
        "id": "xKPtpxPldxNf"
      },
      "source": [
        "Python returns an error message. Get used to it, you'll be seeing a lot of error messages as you learn."
      ]
    },
    {
      "cell_type": "markdown",
      "metadata": {
        "id": "hdpU5JRcdxNf"
      },
      "source": [
        "### Reminder: Variable Name Rules\n",
        "\n",
        "* Variables names must start with a letter or an underscore, such as:\n",
        "    * _underscore\n",
        "    * underscore_\n",
        "* The remainder of your variable name may consist of letters, numbers and underscores.\n",
        "    * password1\n",
        "    * n00b\n",
        "    * un_der_scores\n",
        "* Names are case sensitive.\n",
        "    * case_sensitive, CASE_SENSITIVE, and Case_Sensitive are each a different variable."
      ]
    },
    {
      "cell_type": "markdown",
      "metadata": {
        "id": "nlTn32lhdxNf"
      },
      "source": [
        "### Variable name conventions\n",
        "These are not rules, just suggestions. Readability is very important. Which of the following is easiest to read? I’m hoping you’ll say the first example.\n",
        "\n",
        "\n",
        "        python_puppet\n",
        "        pythonpuppet\n",
        "        pythonPuppet\n",
        "\n",
        "Descriptive names are very useful. If you are writing a program that adds up all of the potatoes Mark Whatney ate, which do you think is the better variable name?\n",
        "\n",
        "        pots\n",
        "        potatoes\n",
        "        total_potatoes\n",
        "\n",
        "Of course, while longer names are more descriptive, they are also, well, longer. Which means more typing can actually make your code harder to read. A variable name such as:\n",
        "\n",
        "        all_the_potatoes_piggy_Mark_Whatney_ate\n",
        "\n",
        "is probably going overboard.\n",
        "\n",
        "Avoid using the lowercase letter ‘l’, uppercase ‘O’, and uppercase ‘I’. Why? Because the number 1 and the letter I look a lot like each other. And O looks a lot like 0."
      ]
    },
    {
      "cell_type": "markdown",
      "metadata": {
        "id": "cv-QQP_XdxNf"
      },
      "source": [
        "### Simple Math Operatations\n",
        "* \\+ is add\n",
        "* \\- is subtract\n",
        "* \\* is multiply\n",
        "* / is divide\n",
        "* \\*\\* is raise to a power (a**2 is $a^2$)\n",
        "\n",
        "These operations are built into Python.\n",
        "\n",
        "Your turn. In the cell below, create with the code to calculate and pint the average of three numbers: 7, 15, 21.\n",
        "(Recall that the average is just the sum of the numbers divided by how many numbers you have:\n",
        "$$\\frac{7 + 15 + 21}{3}$$"
      ]
    },
    {
      "cell_type": "code",
      "execution_count": null,
      "metadata": {
        "collapsed": true,
        "jupyter": {
          "outputs_hidden": true
        },
        "id": "tK0DIRE6dxNf"
      },
      "outputs": [],
      "source": []
    },
    {
      "cell_type": "markdown",
      "metadata": {
        "id": "j59goBUqdxNf"
      },
      "source": [
        "### Be careful of the order of operations\n",
        "Python performs operations in a particular order, or precedence. When I write:\n",
        "\n",
        "5 + 4 / 3\n",
        "\n",
        "Do I mean\n",
        "\n",
        "(5 + 4)/3\n",
        "\n",
        "or\n",
        "\n",
        "5 + (4/3)?"
      ]
    },
    {
      "cell_type": "markdown",
      "metadata": {
        "id": "mRuCGWO0dxNg"
      },
      "source": [
        "Normally you want to divide first. The order of operation in Python is explained here: https://en.wikibooks.org/wiki/Python_Programming/Basic_Math\n",
        "But the short answer is that Python does multiplication and division before addition and subtraction, so if you are not careful in your code Python will calculate the average as:\n",
        "$$7 + 15 + 21/3$$\n",
        "which is not what you wanted. So use parenthesis to force Python to add the three numbers before dividing their sum."
      ]
    },
    {
      "cell_type": "markdown",
      "metadata": {
        "id": "2IZkCmDPdxNg"
      },
      "source": [
        "### Batteries Included -- Python modules, a first look\n",
        "There is a lot of functionality built into the python language, so we say Python comes with the \"batteries included,\" unlike so many Christmas toys.  But if every time you started running Python the computer loaded every possible function you could conceivably need, Python would take a long time to open and hog a lot of memory.  To avoid this, much of Python's functionality has to be explicitly imported before you can use it. For special functions you typically need to load a module.  For example, many additional math functions are available in the \"math\" module.\n",
        "\n",
        "For example, to calculate the area of a circle, $$ area = \\pi r^2 $$  it would be nice to have the constant $\\pi$ predefined."
      ]
    },
    {
      "cell_type": "code",
      "execution_count": null,
      "metadata": {
        "jupyter": {
          "outputs_hidden": false
        },
        "id": "Hahl7ww_dxNg",
        "outputId": "d0d449fd-746d-49bb-858e-a64fecba61dd"
      },
      "outputs": [
        {
          "name": "stdout",
          "output_type": "stream",
          "text": [
            "3.141592653589793\n",
            "78.53981633974483\n"
          ]
        }
      ],
      "source": [
        "# Calculate the area of a circle\n",
        "import math\n",
        "print(math.pi)\n",
        "r = 5\n",
        "area = math.pi * r**2\n",
        "print(area)"
      ]
    },
    {
      "cell_type": "markdown",
      "metadata": {
        "id": "m1jRwCBhdxNg"
      },
      "source": [
        "The \"import\" command loaded the math module, and all of the functions and constants that are part of that module are then available by typing math. in front of the feature you need.  You have to import the module befor you use it. We will learn much more about modules and the dot operator in future notebooks.\n",
        "\n",
        "What is in the math module? You can look at the online documentation (https://docs.python.org/3/library/math.html). Or for a quick list you can use the dir() function (dir is short for directory)."
      ]
    },
    {
      "cell_type": "code",
      "execution_count": null,
      "metadata": {
        "jupyter": {
          "outputs_hidden": false
        },
        "id": "6vAbVD2ydxNg",
        "outputId": "f1a28682-8549-454a-9b43-38de1f3190c0"
      },
      "outputs": [
        {
          "name": "stdout",
          "output_type": "stream",
          "text": [
            "['__doc__', '__file__', '__loader__', '__name__', '__package__', '__spec__', 'acos', 'acosh', 'asin', 'asinh', 'atan', 'atan2', 'atanh', 'ceil', 'copysign', 'cos', 'cosh', 'degrees', 'e', 'erf', 'erfc', 'exp', 'expm1', 'fabs', 'factorial', 'floor', 'fmod', 'frexp', 'fsum', 'gamma', 'gcd', 'hypot', 'inf', 'isclose', 'isfinite', 'isinf', 'isnan', 'ldexp', 'lgamma', 'log', 'log10', 'log1p', 'log2', 'modf', 'nan', 'pi', 'pow', 'radians', 'sin', 'sinh', 'sqrt', 'tan', 'tanh', 'trunc']\n"
          ]
        }
      ],
      "source": [
        "print(dir(math))"
      ]
    },
    {
      "cell_type": "code",
      "execution_count": null,
      "metadata": {
        "jupyter": {
          "outputs_hidden": false
        },
        "id": "83HDndo9dxNh",
        "outputId": "513d574f-4cb8-4bfd-9931-94ca328aa82a"
      },
      "outputs": [
        {
          "name": "stdout",
          "output_type": "stream",
          "text": [
            "2.0\n"
          ]
        }
      ],
      "source": [
        "# Try out the square root function\n",
        "print(math.sqrt(4))"
      ]
    },
    {
      "cell_type": "markdown",
      "metadata": {
        "id": "_9jOznFzdxNh"
      },
      "source": [
        "### Strings\n",
        "Variables can hold more than just numbers. They call also hold text. (And other more complicated data structures we'll learn about later.)"
      ]
    },
    {
      "cell_type": "code",
      "execution_count": null,
      "metadata": {
        "jupyter": {
          "outputs_hidden": false
        },
        "id": "ccxeIkiRdxNh",
        "outputId": "ee64f7ac-11f9-419a-bcff-3f2426e49549"
      },
      "outputs": [
        {
          "name": "stdout",
          "output_type": "stream",
          "text": [
            "dogcat\n"
          ]
        }
      ],
      "source": [
        "a = 'dog'\n",
        "b = 'cat'\n",
        "c = a + b\n",
        "print(c)"
      ]
    },
    {
      "cell_type": "markdown",
      "metadata": {
        "id": "zNlDymO1dxNh"
      },
      "source": [
        "To Python, text is just a long string of characters, so text variables are called string variables. You can add two strings together, but the meaning of addition changes. Addition for strings is concatenation -- the two strings are joined together. The changed meaning of an operator depending on the data type is called \"polymorphism.\" It's not something you need to know, but it's kind of cool.\n",
        "\n",
        "Polymorphism doesn't work for everything. Adding a number to word doesn't make much sense.\n"
      ]
    },
    {
      "cell_type": "code",
      "execution_count": null,
      "metadata": {
        "jupyter": {
          "outputs_hidden": false
        },
        "id": "PsNv14vfdxNh",
        "outputId": "9b1153cf-9526-44e5-f3b8-a436f11d7b4b"
      },
      "outputs": [
        {
          "ename": "TypeError",
          "evalue": "unsupported operand type(s) for +: 'int' and 'str'",
          "output_type": "error",
          "traceback": [
            "\u001b[0;31m---------------------------------------------------------------------------\u001b[0m",
            "\u001b[0;31mTypeError\u001b[0m                                 Traceback (most recent call last)",
            "\u001b[0;32m<ipython-input-14-8899abfe7d58>\u001b[0m in \u001b[0;36m<module>\u001b[0;34m()\u001b[0m\n\u001b[1;32m      1\u001b[0m \u001b[0ma\u001b[0m \u001b[0;34m=\u001b[0m \u001b[0;36m9\u001b[0m\u001b[0;34m\u001b[0m\u001b[0m\n\u001b[1;32m      2\u001b[0m \u001b[0mb\u001b[0m \u001b[0;34m=\u001b[0m \u001b[0;34m'fish'\u001b[0m\u001b[0;34m\u001b[0m\u001b[0m\n\u001b[0;32m----> 3\u001b[0;31m \u001b[0mc\u001b[0m \u001b[0;34m=\u001b[0m \u001b[0ma\u001b[0m \u001b[0;34m+\u001b[0m \u001b[0mb\u001b[0m\u001b[0;34m\u001b[0m\u001b[0m\n\u001b[0m",
            "\u001b[0;31mTypeError\u001b[0m: unsupported operand type(s) for +: 'int' and 'str'"
          ]
        }
      ],
      "source": [
        "a = 9\n",
        "b = 'fish'\n",
        "c = a + b\n"
      ]
    },
    {
      "cell_type": "markdown",
      "metadata": {
        "id": "t1RdR8UzdxNi"
      },
      "source": [
        "Python spits back an error message in computer-speak, but it's acutally pretty informative. The Python interpreter is saying that the problem is with the third line of code, and that addition is not defined between an integer number and a string of characters. Learning to read error messages it an important step in debugging code -- another topic we'll cover in more detail later."
      ]
    },
    {
      "cell_type": "markdown",
      "metadata": {
        "id": "8-h09GJtdxNi"
      },
      "source": [
        "### Experimenting with polymorphism\n",
        "You've just seen what happen when you add two numbers (ordinary addition) and when you add two strings (concatenation). Using the cell below, see if you can figure out what happens when you mutiply two numbers together and when you multiply two strings together. How about when you multiply a number and a string?"
      ]
    },
    {
      "cell_type": "code",
      "execution_count": null,
      "metadata": {
        "jupyter": {
          "outputs_hidden": false
        },
        "id": "q4wfRs1udxNi"
      },
      "outputs": [],
      "source": []
    },
    {
      "cell_type": "markdown",
      "metadata": {
        "id": "QJuRDA9QdxNi"
      },
      "source": [
        "## A little more about the print statement\n",
        "\n",
        "### Basic printing"
      ]
    },
    {
      "cell_type": "code",
      "execution_count": null,
      "metadata": {
        "jupyter": {
          "outputs_hidden": false
        },
        "id": "mGx6y6U9dxNj",
        "outputId": "d9543963-dc78-4bb2-d989-142b41287f47"
      },
      "outputs": [
        {
          "name": "stdout",
          "output_type": "stream",
          "text": [
            "Hello, World!\n"
          ]
        }
      ],
      "source": [
        "# Printing a string\n",
        "print('Hello, World!')"
      ]
    },
    {
      "cell_type": "code",
      "execution_count": null,
      "metadata": {
        "jupyter": {
          "outputs_hidden": false
        },
        "id": "JtBysvmCdxNj",
        "outputId": "d0d823f0-d6cd-4c2a-ccfa-e466b5e1eb65"
      },
      "outputs": [
        {
          "name": "stdout",
          "output_type": "stream",
          "text": [
            "the meaning of life is\n",
            "42\n",
            "(see https://en.wikipedia.org/wiki/42_(number) )\n"
          ]
        }
      ],
      "source": [
        "# Printing the contents of variable\n",
        "a = 'the meaning of life is'\n",
        "b = 42\n",
        "c = '(see https://en.wikipedia.org/wiki/42_(number) )'\n",
        "\n",
        "print(a)\n",
        "print(b)\n",
        "print(c)"
      ]
    },
    {
      "cell_type": "code",
      "execution_count": null,
      "metadata": {
        "jupyter": {
          "outputs_hidden": false
        },
        "id": "Gu4Yxy2FdxNj",
        "outputId": "16e5c978-c33a-4969-bfb4-43d33a5b4350"
      },
      "outputs": [
        {
          "name": "stdout",
          "output_type": "stream",
          "text": [
            "The Hitchhiker's Guide to The Galaxy says the meaning of life is 42 (see https://en.wikipedia.org/wiki/42_(number) )\n"
          ]
        }
      ],
      "source": [
        "# You can also print multiple items in one print statement using items separated by commas\n",
        "c = '(see https://en.wikipedia.org/wiki/42_(number) )'\n",
        "print('The Hitchhiker\\'s Guide to The Galaxy says', a, b, c)"
      ]
    },
    {
      "cell_type": "markdown",
      "metadata": {
        "id": "X7vWIPmidxNk"
      },
      "source": [
        "### Variable Substitution\n",
        "\n",
        "Variable substitution allows you to create a string with placeholders that will be replaced with the values of variables with you print. For this we use \"f-strings\" (f for formatted). This is easiest to understand by example."
      ]
    },
    {
      "cell_type": "code",
      "execution_count": 1,
      "metadata": {
        "jupyter": {
          "outputs_hidden": false
        },
        "colab": {
          "base_uri": "https://localhost:8080/"
        },
        "id": "oaIRn_DZdxNk",
        "outputId": "83c7f0a9-03fd-40d9-b041-3d1c9fddf553"
      },
      "outputs": [
        {
          "output_type": "stream",
          "name": "stdout",
          "text": [
            "My favorite planets are Mars and Venus\n"
          ]
        }
      ],
      "source": [
        "a = 'Mars'\n",
        "b = 'Venus'\n",
        "print(f'My favorite planets are {a} and {b}.')"
      ]
    },
    {
      "cell_type": "markdown",
      "metadata": {
        "id": "BZdcLIcydxNk"
      },
      "source": [
        "Wait, huh? What just happened?\n",
        "\n",
        "You started with a string: f'My favorite planets are {a} and {b}.'\n",
        "\n",
        "which had an \"f\" at the beging the variable names to include in curly brackets. When you printed this the contents of the variables in curly brackets were substituted.\n",
        "\n",
        "Let's try that again is slow motion."
      ]
    },
    {
      "cell_type": "code",
      "execution_count": 2,
      "metadata": {
        "jupyter": {
          "outputs_hidden": false
        },
        "colab": {
          "base_uri": "https://localhost:8080/"
        },
        "id": "_61H_reqdxNo",
        "outputId": "f8067aa0-518e-48b1-832b-694e4c83bbc5"
      },
      "outputs": [
        {
          "output_type": "stream",
          "name": "stdout",
          "text": [
            "2 + 2 = 4\n"
          ]
        }
      ],
      "source": [
        "a = 2\n",
        "b = 2\n",
        "c = a + b\n",
        "print(f'{a} + {b} = {c}')"
      ]
    },
    {
      "cell_type": "markdown",
      "metadata": {
        "id": "uqOj3XzCdxNo"
      },
      "source": [
        "Starting to make sense?\n",
        "\n",
        "This is particularly useful for printing in loops if we don't want to type the same print statement over and over. Loops is something we'll get into in a later class.\n",
        "\n",
        "### Let's apply what we've just learned..."
      ]
    },
    {
      "cell_type": "markdown",
      "metadata": {
        "id": "c4v6I2HNdxNp"
      },
      "source": [
        "# Martian Challenge: Communictions Lag\n",
        "Although radio waves travel at the speed of light, Mars is very far away, so there is a noticeable lag between when Mission Control sends a communication and when they hear Mark's response, even if he answers right away.  We are going to calculate the lag time."
      ]
    },
    {
      "cell_type": "markdown",
      "metadata": {
        "id": "gTIiNAYOdxNp"
      },
      "source": [
        "#### First we need do define our variables\n",
        "* We need to know the speed of radiowaves (light). Which is 300,000,000 m/s. Which in scientific notation is written as $ 3.0 x 10^8$ m/s, or in python you write 3.0e8, which means 3 with eight zeros after it.\n",
        "* We need to know the distance between the Earth and Mars, which varies, but the average is 225 million kilometers\n",
        "\n",
        "Distance = velocity x time, so time = velocity/distance.\n",
        "\n",
        "Now we need to turn this into code."
      ]
    },
    {
      "cell_type": "code",
      "execution_count": 3,
      "metadata": {
        "jupyter": {
          "outputs_hidden": false
        },
        "colab": {
          "base_uri": "https://localhost:8080/"
        },
        "id": "Dc6HEkkJdxNp",
        "outputId": "572bb1e2-08a0-4dfa-c9d4-40c90c248158"
      },
      "outputs": [
        {
          "output_type": "stream",
          "name": "stdout",
          "text": [
            "The communication lag due to the two-way time is 1500.0 seconds.\n",
            "Or 25.0 minutes.\n"
          ]
        }
      ],
      "source": [
        "# Define variables\n",
        "velocity = 3.0e8 # meters/second\n",
        "distance = 225e6 # kilometers\n",
        "distance = distance * 1000.0 # Convert kilometers to meters\n",
        "\n",
        "# Use twice the distance to get the time for radio\n",
        "# signal to go from Earth to Mars and back again\n",
        "time = (2.0 * distance)/velocity\n",
        "print(f'The communication lag due to the two-way time is {time} seconds.') # seconds\n",
        "\n",
        "# Convert to minutes\n",
        "print(f'Or {time/60} minutes.')"
      ]
    },
    {
      "cell_type": "markdown",
      "metadata": {
        "id": "xOy9BNoBdxNp"
      },
      "source": [
        "So the delay is about 1500 seconds or 25 minutes.  Try having a conversation with someone where they always wait 25 minutes to answer!  Another way of expressing this is to say that Mars is about twelve and a half light-minutes from Earth.  When you consider that the nearest star to our solar system, Proxima Centauri, is at a distance of 4.22 light-*years*, it explains why interstellar travel is still, er, light-years away."
      ]
    },
    {
      "cell_type": "markdown",
      "metadata": {
        "id": "3yQk-5z1dxNp"
      },
      "source": [
        "## Your Task\n",
        "We've calculated the communications delay for the average distance to Mars, but relative positions of the Earth and Mars change over time because they orbit the sun at different rates and Earth's orbit is a lot closer to the sun.  Your task is to calculate the communication delays for the closest and furtherest separations.\n",
        "\n",
        "Closest Earth-Mars distance: 54.6 million kilometers\n",
        "\n",
        "Furthest Earth-Mars distance: 401 million kilometers\n",
        "\n",
        "Insert additional cells below, include comments in your code and format your printed answers neatly."
      ]
    },
    {
      "cell_type": "code",
      "execution_count": null,
      "metadata": {
        "collapsed": true,
        "jupyter": {
          "outputs_hidden": true
        },
        "id": "qygX5U3UdxNq"
      },
      "outputs": [],
      "source": []
    }
  ],
  "metadata": {
    "anaconda-cloud": {},
    "kernelspec": {
      "display_name": "Python 3 (Spyder)",
      "language": "python3",
      "name": "python3"
    },
    "language_info": {
      "codemirror_mode": {
        "name": "ipython",
        "version": 3
      },
      "file_extension": ".py",
      "mimetype": "text/x-python",
      "name": "python",
      "nbconvert_exporter": "python",
      "pygments_lexer": "ipython3",
      "version": "3.8.5"
    },
    "colab": {
      "provenance": [],
      "include_colab_link": true
    }
  },
  "nbformat": 4,
  "nbformat_minor": 0
}