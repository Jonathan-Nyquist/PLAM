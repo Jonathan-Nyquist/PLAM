{
  "cells": [
    {
      "cell_type": "markdown",
      "metadata": {
        "id": "view-in-github",
        "colab_type": "text"
      },
      "source": [
        "<a href=\"https://colab.research.google.com/github/Jonathan-Nyquist/PLAM/blob/main/Class05.ipynb\" target=\"_parent\"><img src=\"https://colab.research.google.com/assets/colab-badge.svg\" alt=\"Open In Colab\"/></a>"
      ]
    },
    {
      "cell_type": "markdown",
      "metadata": {
        "id": "HMl55qLpU7Fc"
      },
      "source": [
        "# Class05\n",
        "## Learning Objectives\n",
        "* [Understanding functions](#Understanding)\n",
        "* [Creating Functions, passing parameters](#Creating)\n",
        "* [Markdown: adding links and images to your notebook](#Markdown)\n",
        "* [Martian Challenge](#Challenge)"
      ]
    },
    {
      "cell_type": "markdown",
      "metadata": {
        "id": "ymmQAy3EU7Fe"
      },
      "source": [
        "<a id='Understanding'></a>\n",
        "## Understanding Functions\n",
        "You have already used a number of functions in the code you have written. We just haven't talked about it. For example:"
      ]
    },
    {
      "cell_type": "code",
      "execution_count": null,
      "metadata": {
        "id": "oo0HIsnoU7Ff",
        "outputId": "6f4bfe61-76b4-4fa7-b3c8-f64ad5cd779c"
      },
      "outputs": [
        {
          "name": "stdout",
          "output_type": "stream",
          "text": [
            "17\n"
          ]
        }
      ],
      "source": [
        "a = 'A String Variable'\n",
        "b = len(a)\n",
        "print(b)"
      ]
    },
    {
      "cell_type": "markdown",
      "metadata": {
        "id": "UbEkKQBUU7Fg"
      },
      "source": [
        "We just used two functions.  The first, 'len()', takes in a string as an input parameter and returns the number of characters in the string. We also used the print() function, which can take many inputs, and prints them to standard output, which in a Jupyter notebook is just the next cell.\n",
        "\n",
        "So a function takes inputs and does something with them. Sometimes functions return one or more outputs, sometimes they just do their thing and return nothing. Why write function? In a word -- reuseability. Once a function has been defined you can use it again and again without having to write the code over and over. The functions you write become the building blocks to assemble more complex programs.\n",
        "\n",
        "But before we discuss how to write your own function, let's explore some more functions that are baked into Python. Afterall, there is no need to reinvent the wheel. Why write your own function if there is one already available?"
      ]
    },
    {
      "cell_type": "markdown",
      "metadata": {
        "id": "d1_dBtItU7Fg"
      },
      "source": [
        "### Two flavors: functions and methods\n",
        "Functions come in two flavors: your ordinary vanilla function, and methods, which are functions that are attached to objects.\n",
        "\n",
        "### Ordinary functions\n",
        "The len() and print() functions used above are ordinary functions. You call them by passing input parameters inside the parentheses and assigning the output of the function to a variable.  Let's look at a couple more examples."
      ]
    },
    {
      "cell_type": "code",
      "execution_count": null,
      "metadata": {
        "id": "o3RAklZ_U7Fg",
        "outputId": "042e40a5-31bd-4fdf-ede0-dc021bfec432"
      },
      "outputs": [
        {
          "name": "stdout",
          "output_type": "stream",
          "text": [
            "56.6\n"
          ]
        }
      ],
      "source": [
        "# Add up a bunch of numbers in a list\n",
        "numbers = [1, 34, 2.5, 2.1, 17]\n",
        "total = sum(numbers)\n",
        "print(total)"
      ]
    },
    {
      "cell_type": "code",
      "execution_count": null,
      "metadata": {
        "id": "N8UBqnb9U7Fh",
        "outputId": "2cc226c0-b695-453a-89aa-872b91a8b836"
      },
      "outputs": [
        {
          "name": "stdout",
          "output_type": "stream",
          "text": [
            "56.6\n"
          ]
        }
      ],
      "source": [
        "# Writing your own code\n",
        "total = 0\n",
        "for number in numbers:\n",
        "    total += number\n",
        "print(total)"
      ]
    },
    {
      "cell_type": "markdown",
      "metadata": {
        "id": "e3IPapB_U7Fh"
      },
      "source": [
        "It is easier to use the sum() function than to write the loop every time you want to add up the elements in list.\n",
        "\n",
        "Here are some more examples:"
      ]
    },
    {
      "cell_type": "code",
      "execution_count": null,
      "metadata": {
        "id": "cobZoO_MU7Fh",
        "outputId": "dea0b8a2-5403-46ae-b6f5-c8e6c0ee2757"
      },
      "outputs": [
        {
          "name": "stdout",
          "output_type": "stream",
          "text": [
            "349.0 <class 'float'>\n",
            "349.0 <class 'str'>\n",
            "349 <class 'int'>\n"
          ]
        }
      ],
      "source": [
        "a = abs(-349.0) # Compute the absolute value\n",
        "b = str(a)      # Convert a number to a string\n",
        "c = round(a)    # Round a floating point number to the nearest integer\n",
        "print(a, type(a))\n",
        "print(b, type(b))\n",
        "print(c, type(c))"
      ]
    },
    {
      "cell_type": "markdown",
      "metadata": {
        "id": "IuPbInA7U7Fi"
      },
      "source": [
        "Remember, there are many, many more functions available in modules. We will discuss modules in detail in the next notebook."
      ]
    },
    {
      "cell_type": "markdown",
      "metadata": {
        "id": "wMiI9772U7Fi"
      },
      "source": [
        "### Methods\n",
        "Methods are just like functions, but the are attached to objects. Okay, wise guy, so what's an object? Pretty much everything is Python is an object: lists, tuples, strings, even integers. A particular number or string is a particular instance of a class of things. 14 is a number that is an instance of an integer. \"Hello\" is an instance of a string. Every instance inherits the methods that are build into the class of things they come from.\n",
        "\n",
        "This is easy to understand with examples. So let's define a string and see what methods are available."
      ]
    },
    {
      "cell_type": "code",
      "execution_count": null,
      "metadata": {
        "id": "Ne3TsQLMU7Fi",
        "outputId": "abe7195e-f367-4bfa-c47c-293f68797eb9"
      },
      "outputs": [
        {
          "name": "stdout",
          "output_type": "stream",
          "text": [
            "['__add__', '__class__', '__contains__', '__delattr__', '__dir__', '__doc__', '__eq__', '__format__', '__ge__', '__getattribute__', '__getitem__', '__getnewargs__', '__gt__', '__hash__', '__init__', '__iter__', '__le__', '__len__', '__lt__', '__mod__', '__mul__', '__ne__', '__new__', '__reduce__', '__reduce_ex__', '__repr__', '__rmod__', '__rmul__', '__setattr__', '__sizeof__', '__str__', '__subclasshook__', 'capitalize', 'casefold', 'center', 'count', 'encode', 'endswith', 'expandtabs', 'find', 'format', 'format_map', 'index', 'isalnum', 'isalpha', 'isdecimal', 'isdigit', 'isidentifier', 'islower', 'isnumeric', 'isprintable', 'isspace', 'istitle', 'isupper', 'join', 'ljust', 'lower', 'lstrip', 'maketrans', 'partition', 'replace', 'rfind', 'rindex', 'rjust', 'rpartition', 'rsplit', 'rstrip', 'split', 'splitlines', 'startswith', 'strip', 'swapcase', 'title', 'translate', 'upper', 'zfill']\n"
          ]
        }
      ],
      "source": [
        "a = 'Hello'\n",
        "print(dir(a))"
      ]
    },
    {
      "cell_type": "markdown",
      "metadata": {
        "id": "GHJ_7o3CU7Fi"
      },
      "source": [
        "All of the methods listed above are functions inherited by every string you create from the general string class. Methods are accessed using the dot operator. (Pay no attention to the methods above surrounded by double underscores. They are hidden methods used interally by Python and only rarely will you have any occasion to call any of them directly.)"
      ]
    },
    {
      "cell_type": "code",
      "execution_count": 2,
      "metadata": {
        "colab": {
          "base_uri": "https://localhost:8080/"
        },
        "id": "VRUviId_U7Fi",
        "outputId": "6f5122db-97c2-4196-caa3-797169cc9326"
      },
      "outputs": [
        {
          "output_type": "stream",
          "name": "stdout",
          "text": [
            "CALVIN CALLED SUZY A BOOGERBRAIN\n",
            "2\n",
            "['Calvin', 'called', 'Suzy', 'a', 'Boogerbrain']\n"
          ]
        }
      ],
      "source": [
        "a = 'Calvin called Suzy a Boogerbrain'\n",
        "print(a.upper())       #Method to convert the string to uppercase\n",
        "print(a.count('in'))   #Method to count the number times a substring appears in a string\n",
        "print(a.split())       #Method to split a string in a list of words"
      ]
    },
    {
      "cell_type": "markdown",
      "metadata": {
        "id": "XQL-YvVHU7Fj"
      },
      "source": [
        "If you don't know what a method does you can use the help function."
      ]
    },
    {
      "cell_type": "code",
      "execution_count": 5,
      "metadata": {
        "colab": {
          "base_uri": "https://localhost:8080/"
        },
        "id": "d_B_FDXJU7Fj",
        "outputId": "ba544f65-5f9f-4d49-dec0-f8e207ca1f97"
      },
      "outputs": [
        {
          "output_type": "stream",
          "name": "stdout",
          "text": [
            "Help on built-in function count:\n",
            "\n",
            "count(...) method of builtins.str instance\n",
            "    S.count(sub[, start[, end]]) -> int\n",
            "    \n",
            "    Return the number of non-overlapping occurrences of substring sub in\n",
            "    string S[start:end].  Optional arguments start and end are\n",
            "    interpreted as in slice notation.\n",
            "\n"
          ]
        }
      ],
      "source": [
        "# Exectute this cell and documentation on the method will appear in a pop-up window.\n",
        "# Just click the x to close the help window.\n",
        "help(a.count)"
      ]
    },
    {
      "cell_type": "markdown",
      "metadata": {
        "id": "7WXFsEGsU7Fj"
      },
      "source": [
        "**Student Challenge:** Print the methods built into a list"
      ]
    },
    {
      "cell_type": "code",
      "execution_count": null,
      "metadata": {
        "id": "SuKxxmEIU7Fj"
      },
      "outputs": [],
      "source": []
    },
    {
      "cell_type": "markdown",
      "metadata": {
        "id": "vjfKsZnyU7Fj"
      },
      "source": [
        "### Methods vs. Functions revisited\n",
        "Each method is function that is automatically applied to the instance. Thus \"Hello\".upper() applies a function to the sting \"Hello\" to convert it to uppercase. Try it below."
      ]
    },
    {
      "cell_type": "code",
      "source": [],
      "metadata": {
        "id": "wK09LBGIWtwK"
      },
      "execution_count": null,
      "outputs": []
    },
    {
      "cell_type": "markdown",
      "metadata": {
        "id": "L_SZmu5-U7Fj"
      },
      "source": [
        "<a id='Creating'></a>\n",
        "## Creating Functions, passing parameters\n",
        "Let's see how we can create our own function. You can define your own functions using the keyword def.\n",
        "\n",
        "Rule of thumb: write a function when you need to do something more than one time.\n",
        "\n",
        "A function takes arguments. Order matters."
      ]
    },
    {
      "cell_type": "code",
      "execution_count": 7,
      "metadata": {
        "colab": {
          "base_uri": "https://localhost:8080/"
        },
        "id": "VPxXtJ75U7Fj",
        "outputId": "eaa6f1d5-bb4e-4bb4-f825-64e3c425bac6"
      },
      "outputs": [
        {
          "output_type": "stream",
          "name": "stdout",
          "text": [
            "4 9\n"
          ]
        }
      ],
      "source": [
        "# A function that adds 5:\n",
        "def add_five(x):\n",
        "    # x is the argument\n",
        "    return x + 5\n",
        "\n",
        "# Calling the function\n",
        "v1 = 4\n",
        "v2 = add_five(v1)\n",
        "print(v1, v2)"
      ]
    },
    {
      "cell_type": "markdown",
      "metadata": {
        "id": "8L2WX_H3U7Fj"
      },
      "source": [
        "The function add_five() takes one input parameter, adds five to it, and returns the result. Notice the colon after the function name, and that all of the statements within the function are indented, just like with a loop or an if statement. Python knows that the function code ends when the indent stops. If you want the function to return a value the definition must end with a return statement.\n",
        "\n",
        "Notice that when the function was called we didn't pass it a variable named x. Why not? The function doesn't care what you called the parameter you pass it. Inside the function a variable x will be created and set equal to the value of whatever you passed."
      ]
    },
    {
      "cell_type": "code",
      "execution_count": 8,
      "metadata": {
        "colab": {
          "base_uri": "https://localhost:8080/"
        },
        "id": "KTFW4EhRU7Fj",
        "outputId": "d234ab29-5da4-44d0-eae1-2df3aaa86598"
      },
      "outputs": [
        {
          "output_type": "execute_result",
          "data": {
            "text/plain": [
              "15"
            ]
          },
          "metadata": {},
          "execution_count": 8
        }
      ],
      "source": [
        "add_five(10)"
      ]
    },
    {
      "cell_type": "markdown",
      "metadata": {
        "id": "1ZPmu7xvU7Fj"
      },
      "source": [
        "### More than one input parameter\n",
        "Suppose we don't always want to add 5, maybe we want to decide what to add to the number when we call the function. We can add a parameter to the function call."
      ]
    },
    {
      "cell_type": "code",
      "execution_count": 9,
      "metadata": {
        "colab": {
          "base_uri": "https://localhost:8080/"
        },
        "id": "MrVNz8DTU7Fk",
        "outputId": "a2a36f27-eacf-4957-c0b5-592a01e77813"
      },
      "outputs": [
        {
          "output_type": "execute_result",
          "data": {
            "text/plain": [
              "31"
            ]
          },
          "metadata": {},
          "execution_count": 9
        }
      ],
      "source": [
        "# A function that adds n\n",
        "def addN(x, n):\n",
        "    return x + n\n",
        "\n",
        "addN(10, 21)"
      ]
    },
    {
      "cell_type": "markdown",
      "metadata": {
        "id": "PzdP4YuiU7Fk"
      },
      "source": [
        "### Default parameter values\n",
        "What if we want to add 5 unless a second number is specified? In other words, is you just pass one number we'll add 5 to it, but if you pass two numbers we'll add the second number to the first."
      ]
    },
    {
      "cell_type": "code",
      "execution_count": null,
      "metadata": {
        "id": "oMl5fVrGU7Fk",
        "outputId": "b16be051-bffd-46a3-e745-4ac85f8b3fd1"
      },
      "outputs": [
        {
          "name": "stdout",
          "output_type": "stream",
          "text": [
            "9\n",
            "21\n"
          ]
        }
      ],
      "source": [
        "# Using a keyword argument provides a default value for the argument\n",
        "def add(x, n=5):\n",
        "    return x + n\n",
        "\n",
        "print(add(4))\n",
        "print(add(12,9))"
      ]
    },
    {
      "cell_type": "markdown",
      "metadata": {
        "id": "eK2bqKExU7Fk"
      },
      "source": [
        "This time in our function definition we provided a default value for n. When the function is called it will use the default value for the second parameter *unless* a value for the second parameter is given.\n",
        "\n",
        "Note: any keyword parameters must come after regular parameters in the function definition. We write:\n",
        "\n",
        "def(x, n=5) not def(n=5, x)\n",
        "\n",
        "**Student challenge:** Write a function that accepts a two numbers and returns the sum of the absolute values. If you pass the function the numbers 3 and -4, it should return 7."
      ]
    },
    {
      "cell_type": "code",
      "execution_count": null,
      "metadata": {
        "collapsed": true,
        "id": "ShcnNwdcU7Fk"
      },
      "outputs": [],
      "source": []
    },
    {
      "cell_type": "markdown",
      "metadata": {
        "id": "3aVZAq6tU7Fk"
      },
      "source": [
        "### Avoiding meltdown\n",
        "There is a lot more to learn about functions, but that is enough on the topic for today. I don't want any brains to melt.\n",
        "\n",
        "!['Meltdown'](http://s3.amazonaws.com/stripgenerator/strip/98/18/31/00/00/full.png)\n",
        "\n",
        "Let turn to something I think you'll enjoy, a way to spice up your notebook!"
      ]
    },
    {
      "cell_type": "markdown",
      "metadata": {
        "id": "T5hQJFaKU7Fk"
      },
      "source": [
        "<a id='Markdown'></a>\n",
        "## Markdown: Adding links and images\n",
        "I deliberately put a cartoon in the last cell to set the stage for this part of the lesson. You know how to create a markdown cell with text, headers, lists and bold or italic emphasis. Now let's try hyperlinks!"
      ]
    },
    {
      "cell_type": "markdown",
      "metadata": {
        "id": "A6Vc91h_U7Fk"
      },
      "source": [
        ""
      ]
    },
    {
      "cell_type": "code",
      "execution_count": null,
      "metadata": {
        "collapsed": true,
        "id": "dBwfNyUJU7Fk"
      },
      "outputs": [],
      "source": []
    },
    {
      "cell_type": "markdown",
      "metadata": {
        "id": "2Hs4igtSU7Fk"
      },
      "source": [
        "## Hyperlinks\n",
        "Markdown is more general than Jupyter Notebooks. It can also be used with webpages, so naturally you can add hyperlinks. Here is a link to the Temple homepage: http://www.temple.edu/\n",
        "\n",
        "Literally all I had to do was type the web address (URL) into the markdown cell.\n",
        "\n",
        "**Try making your own markdown cell with a hyperlink that interests you.**"
      ]
    },
    {
      "cell_type": "markdown",
      "metadata": {
        "id": "QWo9EHHGU7Fk"
      },
      "source": [
        "### Attaching the hyperlink to a word.\n",
        "Here is some shameless self promotion with a link to [my web page](http://sites.temple.edu/geophysics)."
      ]
    },
    {
      "cell_type": "markdown",
      "metadata": {
        "id": "a2hxKhL8U7Fk"
      },
      "source": [
        "**Try adding a link to some words to the markdown cell below.**"
      ]
    },
    {
      "cell_type": "markdown",
      "metadata": {
        "id": "qSfhB6yzU7Fl"
      },
      "source": []
    },
    {
      "cell_type": "markdown",
      "metadata": {
        "id": "b9BuXc9_U7Fp"
      },
      "source": [
        "## Adding images\n",
        "You don't actually insert the image into the notebook, you insert a *link* to the image.  The image can hosted on the web or stored locally on your computer. Either way, you insert a link to it in your markdown cell. For example, my favorite cartoon strip is XKCD, [here is a link to one of it's cartoons.](http://xkcd.com/1729/)\n",
        "That is a normal link, so you have to click on it.\n",
        "\n",
        "Here is a link that tells Jupyter to disply the image in the notebook cell:\n",
        "!['geese'](http://imgs.xkcd.com/comics/migrating_geese.png)"
      ]
    },
    {
      "cell_type": "markdown",
      "metadata": {
        "id": "elGXjdjyU7Fp"
      },
      "source": [
        "The first link looked like this:\n",
        "[here is a link to one of it's cartoons.](http://xkcd.com/1729/)\n",
        "\n",
        "The second link was not to the page but to the image file directly:\n",
        "```\n",
        "!['geese'](http://imgs.xkcd.com/comics/migrating_geese.png)\"\n",
        "```\n",
        "\n",
        "There is a exclamation mark in front of the square brackets.\n",
        "Then alternate test in quotes inside the square brackets (which can be read aloud by browser for the blind).\n",
        "Then comes the link to the actual image file.\n",
        "\n",
        "**Try inserting an image in the markdown cell below.**"
      ]
    },
    {
      "cell_type": "code",
      "execution_count": null,
      "metadata": {
        "collapsed": true,
        "id": "KOKF1wPJU7Fp"
      },
      "outputs": [],
      "source": []
    },
    {
      "cell_type": "markdown",
      "metadata": {
        "id": "9mTc_SrhU7Fp"
      },
      "source": [
        "**Tip:** All of the notebooks for this class contain markdown cells, so you can always double click on one to see how it is formatted."
      ]
    },
    {
      "cell_type": "markdown",
      "metadata": {
        "id": "kPLw5q0ZU7Fp"
      },
      "source": [
        "<a id='Challenge'></a>\n",
        "## Martian Challenge: Asteroid Impact Energy\n",
        "The surface of mars is covered with [hundreds of thousands of craters](http://www.space.com/16153-mars-impact-crater-map.html) left by asteroid impacts. The Earth has been hit by asteroids many times too, but the small ones burn up in the atmosphere and the craters left by the larger ones erode away over time. The Martian astmosphere is too thin to offer much protection and without wind and rain the craters persist.\n",
        "\n",
        "How do rocks that are small by comparison to the size of the planet wreak such devastation? They have a tremendous amount of kinentic energy!\n",
        "\n",
        "![Martian Impact](https://astronomynow.com/wp-content/uploads/2016/04/mars-impact_940x705.jpg)\n",
        "\n",
        "**Your challenge is to write a function that returns the kinetic energy of a martian impact given its diameter.**\n",
        "\n",
        "You will need the following information:\n",
        "\n",
        "$$kinetic\\ energy = \\frac{1}{2}(mass)(velocity)^2 $$\n",
        "\n",
        "$$ mass = (density)(volume) $$\n",
        "\n",
        "$$ volume = \\frac{4}{3}\\pi(radius)^3 $$\n",
        "\n",
        "$$ radius = \\frac{diameter}{2} $$\n",
        "\n",
        "You can assume a density of 2,700 $kg/m^3$ and a velocity of 5.0 $km/sec$ (the escape velocity on Mars). Print your result for asteroid diameters of 10, 100 and 1000 meters.  Your function should accept one input parameter (diameter) and return one output parameter (energy).\n",
        "\n",
        "Bonus: Convert your energy into the equivalent number of Hiroshima-size atomic bombs by dividing the energies you calculate by $8.4 x 10^{13}$.\n",
        "\n"
      ]
    },
    {
      "cell_type": "code",
      "execution_count": null,
      "metadata": {
        "collapsed": true,
        "id": "tOgLr_tJU7Fp"
      },
      "outputs": [],
      "source": []
    }
  ],
  "metadata": {
    "anaconda-cloud": {},
    "kernelspec": {
      "display_name": "Python [default]",
      "language": "python",
      "name": "python3"
    },
    "language_info": {
      "codemirror_mode": {
        "name": "ipython",
        "version": 3
      },
      "file_extension": ".py",
      "mimetype": "text/x-python",
      "name": "python",
      "nbconvert_exporter": "python",
      "pygments_lexer": "ipython3",
      "version": "3.5.2"
    },
    "colab": {
      "provenance": [],
      "toc_visible": true,
      "include_colab_link": true
    }
  },
  "nbformat": 4,
  "nbformat_minor": 0
}