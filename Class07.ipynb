{
  "cells": [
    {
      "cell_type": "markdown",
      "metadata": {
        "id": "view-in-github",
        "colab_type": "text"
      },
      "source": [
        "<a href=\"https://colab.research.google.com/github/Jonathan-Nyquist/PLAM/blob/main/Class07.ipynb\" target=\"_parent\"><img src=\"https://colab.research.google.com/assets/colab-badge.svg\" alt=\"Open In Colab\"/></a>"
      ]
    },
    {
      "cell_type": "markdown",
      "metadata": {
        "id": "IPPmmp_I3_GN"
      },
      "source": [
        "<a id='Top'></a>\n",
        "# Class07: A Review\n",
        "## Learning Objectives\n",
        "* [Variables and printing](#Variables)\n",
        "* [Basic Math](#BasicMath)\n",
        "* [Data Structures](#Structures)\n",
        "* [Control Structures](#Control)\n",
        "* [Functions and Modules](#Functions)\n",
        "* [File I/O](#IO)\n",
        "* [Martian Challenge: Food!](#Challenge)\n",
        "\n",
        "We are halfway through this crash course in Python programming. We've covered a lot of ground quickly, and those of you with little prior computer experience may be feeling a little breathless, so we will take time out to review. This notebook is fairly long, but concepts should be familiar.  We will finish with a new Martian Challenge!"
      ]
    },
    {
      "cell_type": "markdown",
      "metadata": {
        "id": "c4-EvmIM3_Gc"
      },
      "source": [
        "<a id='Variables'> </a>\n",
        "\n",
        "## Variables and printing\n",
        "[Top of Notebook](#Top)\n",
        "\n",
        "Variables are where you store stuff. The most basic flavors are integers, floating points numbers (with a decimal point), and strings (text). Variable names must be one word and cannot begin with a number. Longer names can be constucted using underscores. Case matters, so big, Big, and BIG are different variable names.\n",
        "\n",
        "Some examples:"
      ]
    },
    {
      "cell_type": "code",
      "execution_count": 2,
      "metadata": {
        "jupyter": {
          "outputs_hidden": false
        },
        "id": "a4ag3LYn3_Gh",
        "colab": {
          "base_uri": "https://localhost:8080/"
        },
        "outputId": "7f1dde46-fee8-4011-bbb9-fe89d4eba0aa"
      },
      "outputs": [
        {
          "output_type": "stream",
          "name": "stdout",
          "text": [
            "Ni Hao! <class 'str'>\n",
            "2023 <class 'int'>\n",
            "3.142857142857143 <class 'float'>\n"
          ]
        }
      ],
      "source": [
        "# Example sting, integer and float\n",
        "mandarin_greeting = 'Ni Hao!'\n",
        "year = 2023\n",
        "pi_approximation = 22/7\n",
        "print(mandarin_greeting, type(mandarin_greeting))\n",
        "print(year, type(year))\n",
        "print(pi_approximation, type(pi_approximation))"
      ]
    },
    {
      "cell_type": "markdown",
      "metadata": {
        "id": "Mf_8X_iX3_Gr"
      },
      "source": [
        "The print statement is the work-horse function for outputting results. You and print more than one variable and can use strings with variable substitution to insert your results."
      ]
    },
    {
      "cell_type": "code",
      "execution_count": 3,
      "metadata": {
        "jupyter": {
          "outputs_hidden": false
        },
        "id": "AckHvYic3_Gt",
        "colab": {
          "base_uri": "https://localhost:8080/"
        },
        "outputId": "cbe7d6ab-7eab-4268-fccb-95beacd33976"
      },
      "outputs": [
        {
          "output_type": "stream",
          "name": "stdout",
          "text": [
            "Ni Hao! 2023 3.142857142857143\n",
            "Simple to remember, 22/7 is 3.142857142857143, which is reasonably close the real value of pi\n"
          ]
        }
      ],
      "source": [
        "# Multiple variables in one print statement\n",
        "print(mandarin_greeting, year, pi_approximation)\n",
        "print('Simple to remember, 22/7 is {0}, which is reasonably close the real value of pi'.format(pi_approximation))"
      ]
    },
    {
      "cell_type": "markdown",
      "metadata": {
        "id": "bsdfbcuN3_Gv"
      },
      "source": [
        "**Something new, so PAY ATTENTION:** You can also control the number of decimal places printed. In fact, there are a lot of special codes you can insert to fine-tune the appearance of the output. See: https://www.datacamp.com/tutorial/f-string-formatting-in-python for lots of examples.\n",
        "\n",
        "The basic ideas was that before we wrote {variable_name} inside the string to substitute the first variable. But you can also write {variable_name:some format code} where the format code comes after the semicolon. In the example below the format code is .4f, which mean four places after the decimal, and print as a floating point number."
      ]
    },
    {
      "cell_type": "code",
      "execution_count": 10,
      "metadata": {
        "id": "MmwbCu3z3_Hi",
        "colab": {
          "base_uri": "https://localhost:8080/"
        },
        "outputId": "44ded979-075f-4aa2-cd7c-534d16872274"
      },
      "outputs": [
        {
          "output_type": "stream",
          "name": "stdout",
          "text": [
            "An approximate value for pi is 3.142857142857143\n",
            "To four decimal places this is 3.1429\n"
          ]
        }
      ],
      "source": [
        "# Define a variable\n",
        "a = 22/7\n",
        "\n",
        "# Print the variable using an f-string (f stands for formatted)\n",
        "print(f\"An approximate value for pi is {a}\")\n",
        "\n",
        "# We can format this similarly:\n",
        "print(f\"To four decimal places this is {a:.4f}\")"
      ]
    },
    {
      "cell_type": "markdown",
      "metadata": {
        "id": "z8-b6bva3_H-"
      },
      "source": [
        "<a id='BasicMath'> <a/>\n",
        "## Basic math\n",
        "[Top of Notebook](#Top)\n",
        "\n",
        "Basic math operations are built into Python, but you must always be aware of which operations are performed first (operator precedence) as it is not a simple left-to-right evaluation. Use parenthesis if you need to enforce a particular order of operations."
      ]
    },
    {
      "cell_type": "code",
      "execution_count": null,
      "metadata": {
        "jupyter": {
          "outputs_hidden": false
        },
        "id": "rF1zVNH23_IB",
        "colab": {
          "base_uri": "https://localhost:8080/"
        },
        "outputId": "d1a668a8-0f33-4cf7-ad48-9d1956c4080b"
      },
      "outputs": [
        {
          "output_type": "execute_result",
          "data": {
            "text/plain": [
              "22"
            ]
          },
          "metadata": {},
          "execution_count": 3
        }
      ],
      "source": [
        "1 + 3 * 7"
      ]
    },
    {
      "cell_type": "code",
      "execution_count": null,
      "metadata": {
        "jupyter": {
          "outputs_hidden": false
        },
        "id": "ae5BbBzm3_IC",
        "colab": {
          "base_uri": "https://localhost:8080/"
        },
        "outputId": "bb550dc6-afc9-4249-cee3-bc739d52a5a9"
      },
      "outputs": [
        {
          "output_type": "execute_result",
          "data": {
            "text/plain": [
              "28"
            ]
          },
          "metadata": {},
          "execution_count": 4
        }
      ],
      "source": [
        "(1 + 3) * 7"
      ]
    },
    {
      "cell_type": "markdown",
      "metadata": {
        "id": "FaNsAF_R3_IG"
      },
      "source": [
        "For more a more advanced operations you may need to load a module, such as the Python math module."
      ]
    },
    {
      "cell_type": "code",
      "execution_count": 11,
      "metadata": {
        "jupyter": {
          "outputs_hidden": false
        },
        "id": "VIxxEkfg3_II",
        "colab": {
          "base_uri": "https://localhost:8080/"
        },
        "outputId": "70494803-73c8-4749-88da-b46d2a42ea88"
      },
      "outputs": [
        {
          "output_type": "stream",
          "name": "stdout",
          "text": [
            "The approximation to pi of 22/7 is off by about -0.0013.\n",
            "Which is roughly 0.1 percent, or one part in a thousand.\n",
            "Good enough for government work? Not if you're NASA!\n"
          ]
        }
      ],
      "source": [
        "import math\n",
        "pi_approximation = 22/7\n",
        "true_pi = math.pi\n",
        "print(f'The approximation to pi of 22/7 is off by about {true_pi - pi_approximation:.4f}.')\n",
        "print('Which is roughly 0.1 percent, or one part in a thousand.')\n",
        "\n",
        "# Notice this trick to print a string that contains an apostrophe.\n",
        "print(\"Good enough for government work? Not if you're NASA!\")"
      ]
    },
    {
      "cell_type": "markdown",
      "metadata": {
        "id": "LPEPTTSu3_IK"
      },
      "source": [
        "**Student Challenge:** Square the number pi and print the result to seven decimal places."
      ]
    },
    {
      "cell_type": "code",
      "execution_count": null,
      "metadata": {
        "id": "CNbRFJPo3_IK"
      },
      "outputs": [],
      "source": []
    },
    {
      "cell_type": "markdown",
      "metadata": {
        "id": "KRkMF3Sn3_IM"
      },
      "source": [
        "<a id='Structures'> </a>\n",
        "## Data Structures\n",
        "[Top of notebook](#Top)"
      ]
    },
    {
      "cell_type": "markdown",
      "metadata": {
        "id": "ffYHygGO3_IT"
      },
      "source": [
        "Beyond simple integers, floats and strings, Python has a number of data structures. The most common are lists, tuples and dictionaries (althougth there are others).\n",
        "\n",
        "List and tuples are similar. Referencing a member or slicing out a portion works the same for both. The principle difference is that you can add, subtract or modify elements of a list, but tuples are immutable (unchangeable). You have to make a whole new tuple if you want a change."
      ]
    },
    {
      "cell_type": "markdown",
      "metadata": {
        "id": "ouH3Mi-f3_IY"
      },
      "source": [
        "### Lists"
      ]
    },
    {
      "cell_type": "code",
      "execution_count": 12,
      "metadata": {
        "jupyter": {
          "outputs_hidden": false
        },
        "id": "-XtjJRnG3_Ia",
        "colab": {
          "base_uri": "https://localhost:8080/"
        },
        "outputId": "8562bdb5-42bc-43d2-f4df-f16d80fd139f"
      },
      "outputs": [
        {
          "output_type": "stream",
          "name": "stdout",
          "text": [
            "<class 'list'>\n"
          ]
        }
      ],
      "source": [
        "# List are declared using square brackets\n",
        "my_hobbies = ['Chess', 'Go', 'Bicycling', 'Programming']\n",
        "print(type(my_hobbies))"
      ]
    },
    {
      "cell_type": "code",
      "execution_count": 13,
      "metadata": {
        "jupyter": {
          "outputs_hidden": false
        },
        "id": "vi7vCSnq3_Ib",
        "colab": {
          "base_uri": "https://localhost:8080/"
        },
        "outputId": "7a0a8d17-7cd4-4923-86fc-4dd7d225ba3f"
      },
      "outputs": [
        {
          "output_type": "stream",
          "name": "stdout",
          "text": [
            "['Chess', 'Go', 'Bicycling', 'Programming', 'Travel']\n"
          ]
        }
      ],
      "source": [
        "# Add to a list with append()\n",
        "my_hobbies.append('Travel')\n",
        "print(my_hobbies)"
      ]
    },
    {
      "cell_type": "code",
      "execution_count": null,
      "metadata": {
        "jupyter": {
          "outputs_hidden": false
        },
        "id": "rxZpg0c23_Id",
        "colab": {
          "base_uri": "https://localhost:8080/"
        },
        "outputId": "2b3592d5-d43a-42d6-ee69-24b5c2223f4f"
      },
      "outputs": [
        {
          "output_type": "stream",
          "name": "stdout",
          "text": [
            "Bicycling\n"
          ]
        }
      ],
      "source": [
        "# Reference an element, count starts at zero\n",
        "print(my_hobbies[2])"
      ]
    },
    {
      "cell_type": "code",
      "execution_count": 14,
      "metadata": {
        "jupyter": {
          "outputs_hidden": false
        },
        "id": "PdfU6Haz3_If",
        "colab": {
          "base_uri": "https://localhost:8080/"
        },
        "outputId": "558ebd94-053a-48ae-f71d-d4b235e0101f"
      },
      "outputs": [
        {
          "output_type": "stream",
          "name": "stdout",
          "text": [
            "['Chess', 'Go', 'Reading', 'Programming', 'Travel']\n"
          ]
        }
      ],
      "source": [
        "# Modify an element\n",
        "my_hobbies[2] = 'Reading'\n",
        "print(my_hobbies)"
      ]
    },
    {
      "cell_type": "code",
      "execution_count": 15,
      "metadata": {
        "jupyter": {
          "outputs_hidden": false
        },
        "id": "pjkF3GIJ3_Ig",
        "colab": {
          "base_uri": "https://localhost:8080/"
        },
        "outputId": "8da24d62-67f2-4bb6-8901-b7d01d5ba77c"
      },
      "outputs": [
        {
          "output_type": "stream",
          "name": "stdout",
          "text": [
            "['Reading', 'Programming', 'Travel']\n"
          ]
        }
      ],
      "source": [
        "# Slice out a portion of a list\n",
        "# Note that 2:5 means elements 2, 3, and 4 (up to but not including 5)\n",
        "print(my_hobbies[2:5])"
      ]
    },
    {
      "cell_type": "markdown",
      "metadata": {
        "id": "nU03bkUp3_Ii"
      },
      "source": [
        "### Tuples"
      ]
    },
    {
      "cell_type": "code",
      "execution_count": 16,
      "metadata": {
        "jupyter": {
          "outputs_hidden": false
        },
        "id": "v9VHMIST3_Ik",
        "colab": {
          "base_uri": "https://localhost:8080/"
        },
        "outputId": "252a2c5a-7415-46b7-fadd-f738537a6ae1"
      },
      "outputs": [
        {
          "output_type": "stream",
          "name": "stdout",
          "text": [
            "<class 'tuple'>\n"
          ]
        }
      ],
      "source": [
        "# List are declared using parentheses\n",
        "my_hobbies = ('Chess', 'Go', 'Bicycling', 'Programming')\n",
        "print(type(my_hobbies))"
      ]
    },
    {
      "cell_type": "code",
      "execution_count": 17,
      "metadata": {
        "jupyter": {
          "outputs_hidden": false
        },
        "id": "kVqlOZL03_In",
        "colab": {
          "base_uri": "https://localhost:8080/",
          "height": 201
        },
        "outputId": "5e205684-ebf6-4ad9-809b-938937c65aa1"
      },
      "outputs": [
        {
          "output_type": "error",
          "ename": "AttributeError",
          "evalue": "ignored",
          "traceback": [
            "\u001b[0;31m---------------------------------------------------------------------------\u001b[0m",
            "\u001b[0;31mAttributeError\u001b[0m                            Traceback (most recent call last)",
            "\u001b[0;32m<ipython-input-17-b42a0b88a1ae>\u001b[0m in \u001b[0;36m<cell line: 2>\u001b[0;34m()\u001b[0m\n\u001b[1;32m      1\u001b[0m \u001b[0;31m# A tuple is immutable, so we get an error message when we try to add to it.\u001b[0m\u001b[0;34m\u001b[0m\u001b[0;34m\u001b[0m\u001b[0m\n\u001b[0;32m----> 2\u001b[0;31m \u001b[0mmy_hobbies\u001b[0m\u001b[0;34m.\u001b[0m\u001b[0mappend\u001b[0m\u001b[0;34m(\u001b[0m\u001b[0;34m'Travel'\u001b[0m\u001b[0;34m)\u001b[0m\u001b[0;34m\u001b[0m\u001b[0;34m\u001b[0m\u001b[0m\n\u001b[0m\u001b[1;32m      3\u001b[0m \u001b[0mprint\u001b[0m\u001b[0;34m(\u001b[0m\u001b[0mmy_hobbies\u001b[0m\u001b[0;34m)\u001b[0m\u001b[0;34m\u001b[0m\u001b[0;34m\u001b[0m\u001b[0m\n",
            "\u001b[0;31mAttributeError\u001b[0m: 'tuple' object has no attribute 'append'"
          ]
        }
      ],
      "source": [
        "# A tuple is immutable, so we get an error message when we try to add to it.\n",
        "my_hobbies.append('Travel')\n",
        "print(my_hobbies)"
      ]
    },
    {
      "cell_type": "code",
      "execution_count": 18,
      "metadata": {
        "jupyter": {
          "outputs_hidden": false
        },
        "id": "8kIJuzHn3_Iq",
        "colab": {
          "base_uri": "https://localhost:8080/"
        },
        "outputId": "7c39d8ad-e347-42c7-9079-7cc9dcc1b7f5"
      },
      "outputs": [
        {
          "output_type": "stream",
          "name": "stdout",
          "text": [
            "Bicycling\n"
          ]
        }
      ],
      "source": [
        "# Reference an element, count starts at zero\n",
        "# Works the same as for a list\n",
        "print(my_hobbies[2])"
      ]
    },
    {
      "cell_type": "code",
      "execution_count": 19,
      "metadata": {
        "jupyter": {
          "outputs_hidden": false
        },
        "id": "6ovwiLy_3_Ir",
        "colab": {
          "base_uri": "https://localhost:8080/"
        },
        "outputId": "7ca3d363-7708-491e-da8f-427f34fe43a2"
      },
      "outputs": [
        {
          "output_type": "stream",
          "name": "stdout",
          "text": [
            "('Bicycling', 'Programming')\n"
          ]
        }
      ],
      "source": [
        "# Slice out a portion of a list\n",
        "# Note that that slicing a list returns a list\n",
        "# Slicing a tuple returns a tuple\n",
        "print(my_hobbies[2:5])"
      ]
    },
    {
      "cell_type": "code",
      "execution_count": 20,
      "metadata": {
        "jupyter": {
          "outputs_hidden": false
        },
        "id": "6-mr9GNA3_Iu",
        "colab": {
          "base_uri": "https://localhost:8080/"
        },
        "outputId": "a6339f88-85db-4226-da6a-84d01e3a5587"
      },
      "outputs": [
        {
          "output_type": "stream",
          "name": "stdout",
          "text": [
            "<class 'list'>\n",
            "<class 'tuple'>\n",
            "<class 'tuple'>\n",
            "<class 'list'>\n"
          ]
        }
      ],
      "source": [
        "# You can convert a list to a tuple\n",
        "my_hobbies = ['Chess', 'Go', 'Bicycling', 'Programming']\n",
        "print(type(my_hobbies))\n",
        "my_hobbies = tuple(my_hobbies)\n",
        "print(type(my_hobbies))\n",
        "\n",
        "# Or a tuple to a list\n",
        "my_hobbies = ('Chess', 'Go', 'Bicycling', 'Programming')\n",
        "print(type(my_hobbies))\n",
        "my_hobbies = list(my_hobbies)\n",
        "print(type(my_hobbies))"
      ]
    },
    {
      "cell_type": "markdown",
      "metadata": {
        "id": "boFZALh33_Iv"
      },
      "source": [
        "### Dictionaries\n",
        "Dictionaries hold key:value pairs and are great for storing data you want to look up by the key."
      ]
    },
    {
      "cell_type": "code",
      "execution_count": 21,
      "metadata": {
        "jupyter": {
          "outputs_hidden": false
        },
        "id": "MvD6qaU93_Iw",
        "colab": {
          "base_uri": "https://localhost:8080/"
        },
        "outputId": "1513534a-26d0-4e63-adeb-95d00313497f"
      },
      "outputs": [
        {
          "output_type": "stream",
          "name": "stdout",
          "text": [
            "215-204-0744\n"
          ]
        }
      ],
      "source": [
        "# Dictionaries are declared using curly brackets and accessed by key\n",
        "library_phones = {'Circulation':'215-204-0744', 'Reserves':'215-204-0744', 'Reference':'215-204-8212'}\n",
        "print(library_phones['Circulation'])"
      ]
    },
    {
      "cell_type": "code",
      "execution_count": 22,
      "metadata": {
        "jupyter": {
          "outputs_hidden": false
        },
        "id": "68QRrY6a3_Iw",
        "colab": {
          "base_uri": "https://localhost:8080/"
        },
        "outputId": "62dc78b1-ff26-499c-db8d-da6e476982c8"
      },
      "outputs": [
        {
          "output_type": "stream",
          "name": "stdout",
          "text": [
            "{'Circulation': '215-204-0744', 'Reserves': '215-204-0744', 'Reference': '215-204-8212', 'Exhibitions': '215-204-8257'}\n"
          ]
        }
      ],
      "source": [
        "# Dictionaries are mutable. Here we add an element.\n",
        "library_phones['Exhibitions'] = '215-204-8257'\n",
        "print(library_phones)"
      ]
    },
    {
      "cell_type": "markdown",
      "metadata": {
        "id": "OPYFbp5i3_Ix"
      },
      "source": [
        "**Important point:** The elements in a dictionary are not stored in any particular order in older versions of python, but starting in version 3.6 Python remembers the order of elements.\n",
        "\n",
        "Notice that we defined the list with the elements in one order, but don't be surprised if it prints in another order. You can't reference an element by number, only by key.\n",
        "\n",
        "You can create a dictionary from two lists. But it involves **a new trick.** First you need to learn about the zip() function which works though two variables item by item in pairs."
      ]
    },
    {
      "cell_type": "markdown",
      "metadata": {
        "id": "d0AbVAUi3_JM"
      },
      "source": [
        "#### Zip function"
      ]
    },
    {
      "cell_type": "code",
      "execution_count": 23,
      "metadata": {
        "jupyter": {
          "outputs_hidden": false
        },
        "id": "oIfDnSIU3_JO",
        "colab": {
          "base_uri": "https://localhost:8080/"
        },
        "outputId": "82d3ef8d-836a-46b3-915b-18f5ec092ad3"
      },
      "outputs": [
        {
          "output_type": "execute_result",
          "data": {
            "text/plain": [
              "[('a', 1), ('b', 2), ('c', 3), ('d', 4)]"
            ]
          },
          "metadata": {},
          "execution_count": 23
        }
      ],
      "source": [
        "# Create two lists\n",
        "a = ['a', 'b', 'c', 'd']\n",
        "b = [1, 2, 3, 4]\n",
        "\n",
        "# Make a new list with zip\n",
        "# Zip returns a series of tuples, pairing the items in order.\n",
        "list(zip(a,b))"
      ]
    },
    {
      "cell_type": "markdown",
      "metadata": {
        "id": "RGQ_yQar3_JP"
      },
      "source": [
        "#### Zip is perfect for turning two lists into a dictionary."
      ]
    },
    {
      "cell_type": "code",
      "execution_count": 24,
      "metadata": {
        "jupyter": {
          "outputs_hidden": false
        },
        "id": "ytchyQI_3_JQ",
        "colab": {
          "base_uri": "https://localhost:8080/"
        },
        "outputId": "9af690d6-0677-4d9f-e37e-af8ecbb67139"
      },
      "outputs": [
        {
          "output_type": "stream",
          "name": "stdout",
          "text": [
            "{'a': 1, 'b': 2, 'c': 3, 'd': 4}\n",
            "2\n"
          ]
        }
      ],
      "source": [
        "# Create two lists\n",
        "a = ['a', 'b', 'c', 'd']\n",
        "b = [1, 2, 3, 4]\n",
        "\n",
        "# Make a new dictionary with zip\n",
        "c = dict(zip(a, b))\n",
        "print(c)\n",
        "\n",
        "# Reference a value using its key\n",
        "print(c['b'])"
      ]
    },
    {
      "cell_type": "markdown",
      "metadata": {
        "id": "s7P9AuEc3_JU"
      },
      "source": [
        "**Student Challenge:** Using the informatio in the table below, make a variable that is a list of cheeses and another variable that is a list of calories counts. Zip them into a dictionary, then print out the value for 'Edam'. (Note: Calories are based on a 28 gram serving size: http://bit.ly/2dAJUcK)\n",
        "\n",
        " Cheese | Calories |\n",
        "--------|----------|\n",
        " Cheddar | 75|\n",
        " Feta | 110 |\n",
        " Finuta | 101 |\n",
        " Gouda | 80 |\n",
        " Mozzarella | 80 |\n",
        " Edam | 98 |\n"
      ]
    },
    {
      "cell_type": "code",
      "execution_count": null,
      "metadata": {
        "id": "lq3LD7ia3_JV"
      },
      "outputs": [],
      "source": []
    },
    {
      "cell_type": "markdown",
      "metadata": {
        "id": "3WIXjJAq3_JV"
      },
      "source": [
        "<a id='Control'> </a>\n",
        "## Control Structures\n",
        "[Top of notebook](#Top)\n",
        "\n",
        "Control structures are Python statements that alter the execution flow.  Without control structure a program just executes the statements in order from first to last.  Two commonly used control structures are for loops and if/then statements. In both cases indentation is used to tell Python which statement are part of the structure."
      ]
    },
    {
      "cell_type": "markdown",
      "metadata": {
        "id": "8gpj1gjb3_JW"
      },
      "source": [
        "### For Loops\n",
        "The type of loop we have learned so far is the for loop. When applied to a list or tuple it executes all of the statements inside the indented block once for each element."
      ]
    },
    {
      "cell_type": "code",
      "execution_count": 25,
      "metadata": {
        "jupyter": {
          "outputs_hidden": false
        },
        "id": "WmB0ScQ23_Ja",
        "colab": {
          "base_uri": "https://localhost:8080/"
        },
        "outputId": "2d909599-038b-4c42-baec-90e0db1af742"
      },
      "outputs": [
        {
          "output_type": "stream",
          "name": "stdout",
          "text": [
            "1 squared is 1\n",
            "2 squared is 4\n",
            "3 squared is 9\n",
            "4 squared is 16\n",
            "5 squared is 25\n"
          ]
        }
      ],
      "source": [
        "# Generate a list of squares of numbers\n",
        "a = [1,2,3,4,5]\n",
        "for x in a:\n",
        "    print(f'{x} squared is {x**2}')\n"
      ]
    },
    {
      "cell_type": "markdown",
      "metadata": {
        "id": "Tu3SDw9s3_Jc"
      },
      "source": [
        "### While Loops (something new)\n",
        "While loops are a little different. They loop while a condition is true. Here is an example:"
      ]
    },
    {
      "cell_type": "code",
      "execution_count": 26,
      "metadata": {
        "jupyter": {
          "outputs_hidden": false
        },
        "id": "fB_c8IH73_Jd",
        "colab": {
          "base_uri": "https://localhost:8080/"
        },
        "outputId": "f1b9b3cc-eb40-48dd-faa9-ce64d79742e4"
      },
      "outputs": [
        {
          "output_type": "stream",
          "name": "stdout",
          "text": [
            "1 squared is 1\n",
            "2 squared is 4\n",
            "3 squared is 9\n",
            "4 squared is 16\n",
            "5 squared is 25\n",
            "6 squared is 36\n",
            "7 squared is 49\n",
            "8 squared is 64\n",
            "9 squared is 81\n"
          ]
        }
      ],
      "source": [
        "# Loop until the number exceeds the limit.\n",
        "x = 1\n",
        "while x < 10:\n",
        "    print(f'{x} squared is {x**2}')\n",
        "    x += 1"
      ]
    },
    {
      "cell_type": "markdown",
      "metadata": {
        "id": "nNU592MA3_Jf"
      },
      "source": [
        "At the start of the loop x = 1. Then for each interation the value of x is incremented by one and tested to see if it is still less than 10. The loop ends when x < 10 evaluates as false. You have to be careful, though, if you accidently design a while loop where the condition is never false it will loop forever! For that reason, most of the time a for loop is better."
      ]
    },
    {
      "cell_type": "markdown",
      "metadata": {
        "id": "Xhyh2ysF3_Jk"
      },
      "source": [
        "### If/then statements\n",
        "Another way to change the statement execution flow is with the if/then combination. A loop executes the same set of statements over and over. But the if/then combination sends you down different pathways depending on some condition, or series of conditions.\n",
        "\n",
        "The if/elif (short for \"else if\") structure below prompts the user for his or her age and issues a bedtime edict depending on the response. Try running the cell below a number of times entering differnt ages. Do you understand how it works?"
      ]
    },
    {
      "cell_type": "code",
      "execution_count": 28,
      "metadata": {
        "jupyter": {
          "outputs_hidden": false
        },
        "id": "Fvmzo4wz3_Jl",
        "colab": {
          "base_uri": "https://localhost:8080/"
        },
        "outputId": "12c7d722-031c-4e94-8db4-8f320abaeaeb"
      },
      "outputs": [
        {
          "output_type": "stream",
          "name": "stdout",
          "text": [
            "Enter your age: 101\n",
            "Over 100? Hell! Do what you want.\n"
          ]
        }
      ],
      "source": [
        "### Here we have different bed time behaviors depending on your age.\n",
        "age = input(prompt = 'Enter your age: ')\n",
        "\n",
        "# Input always returns a string. Convert it to a number.\n",
        "age = float(age)\n",
        "if age < 0:\n",
        "    print(\"Don't be stupid. Enter a positive age.\")\n",
        "elif age <= 10:\n",
        "    print('It is 8 p.m.')\n",
        "    print('Warm milk, a hug, and off to bed.')\n",
        "elif age > 10 and age <= 18:\n",
        "    print('If your homework is done you can play a video game or text your friends until 10 pm.')\n",
        "elif age > 18 and age <= 22:\n",
        "    print('Drink beer and party until 2 a.m.')\n",
        "elif age > 22 and age <= 65:\n",
        "    print('TV off my 11 pm; you have to work tomorrow.')\n",
        "elif age > 65 and age <= 100:\n",
        "    print('It is 8 p.m.')\n",
        "    print('Warm milk, a hug, and off to bed.')\n",
        "else:\n",
        "    print('Over 100? Hell! Do what you want.')\n",
        ""
      ]
    },
    {
      "cell_type": "markdown",
      "metadata": {
        "id": "HVennCLS3_Jn"
      },
      "source": [
        "**Student Challenge:** Create a variable that contains the following list of words: 'Carrots', 'Peas', 'Corn', 'Orange'. Loop over the list and print each element in all capital letters except for 'Orange', which you print unchanged.\n",
        "\n",
        "**Hint** Make the list. Loop over the elements and test to see if they are equal to Orange. Remember: to test for equality use ==, not =. The string method upper() will convert a string to all upper case."
      ]
    },
    {
      "cell_type": "code",
      "execution_count": null,
      "metadata": {
        "jupyter": {
          "outputs_hidden": false
        },
        "id": "1SF7chJc3_Jq"
      },
      "outputs": [],
      "source": []
    },
    {
      "cell_type": "markdown",
      "metadata": {
        "id": "n4SCOVmF3_Jr"
      },
      "source": [
        "<a id = 'Functions'> </a>\n",
        "\n",
        "## Functions and Modules\n",
        "[Top of Notebook](#Top)\n",
        "\n",
        "Functions you write yourself, or modules, which are collections of functions you or someone else wrote that can be loaded as needed, are a convenient way to write bits of code that accomplish a particular task. Once written, they can be used again and again in new projects. Creating new function is like adding new tools to your toolbox. Advanced programmers create new bundles of functions and share then on the web, allowing other programmers to contribute. That is how new modules are born and the power of Python grows.\n",
        "\n",
        "Each function should be written to solve a fairly specific task. The function takes one or more input parameters and returns one or more outputs."
      ]
    },
    {
      "cell_type": "code",
      "execution_count": 29,
      "metadata": {
        "jupyter": {
          "outputs_hidden": false
        },
        "id": "PtD2sO0n3_Jt",
        "colab": {
          "base_uri": "https://localhost:8080/"
        },
        "outputId": "07b887a3-d968-4a8e-ff1f-7b1f604039ba"
      },
      "outputs": [
        {
          "output_type": "stream",
          "name": "stdout",
          "text": [
            "Happy Birthday to you!\n",
            "Happy Birthday to you!\n",
            "Happy Birthday, dear Dana.\n",
            "Happy Birthday to you!\n"
          ]
        }
      ],
      "source": [
        "# This function take a person's name as input an then prints the Happy Birthday song for them.\n",
        "def happy(name):\n",
        "    print(\"Happy Birthday to you!\")\n",
        "    print(\"Happy Birthday to you!\")\n",
        "    print(f\"Happy Birthday, dear {name}.\")\n",
        "    print(\"Happy Birthday to you!\")\n",
        "\n",
        "# Call the function\n",
        "happy('Dana')"
      ]
    },
    {
      "cell_type": "markdown",
      "metadata": {
        "id": "cPKpcv0E3_Ju"
      },
      "source": [
        "The happy() function takes one input parameter and does it's thing, but does not return an output parameter.\n",
        "\n",
        "Here is a function that compute the length of the hypotenuse of a right triangle given the length of the two sides.\n",
        "![Right triangle](http://www.miniwebtool.com/s/i/pythagorean-theorem.png)"
      ]
    },
    {
      "cell_type": "code",
      "execution_count": 30,
      "metadata": {
        "jupyter": {
          "outputs_hidden": false
        },
        "id": "B2y2GFvq3_Jv",
        "colab": {
          "base_uri": "https://localhost:8080/"
        },
        "outputId": "adbcad59-baab-461f-9083-08ee80495df7"
      },
      "outputs": [
        {
          "output_type": "execute_result",
          "data": {
            "text/plain": [
              "5.0"
            ]
          },
          "metadata": {},
          "execution_count": 30
        }
      ],
      "source": [
        "# Define a function with two inputs and one output\n",
        "def hypotenuse(a,b):\n",
        "    import math\n",
        "    c = math.sqrt(a**2 + b**2)\n",
        "    return c\n",
        "\n",
        "hypotenuse(3, 4)"
      ]
    },
    {
      "cell_type": "markdown",
      "metadata": {
        "id": "VA3aVCNW3_Jv"
      },
      "source": [
        "** Student Challenge:** Write a function that accepts a number as the input parameter and prints \"Positive\" if the number greater than or equal to (>=) zero and \"Negative\" otherwise. Test your function."
      ]
    },
    {
      "cell_type": "markdown",
      "metadata": {
        "id": "T3wcruW13_Jv"
      },
      "source": [
        "<a id='IO'> </a>\n",
        "## File I/O (Input/Output)\n",
        "[Top of Notebook](#Top)\n",
        "\n",
        "Accomplished any real programming task will involve reading and writing files. For now we will stick with simple text files. The with statement takes care of opening and closing the file object. It is easy to read a file line by line in a loop. Or, if  you don't need to operate on each line individually you can read in the whole file into a variable, as in the example below.\n",
        "\n",
        "The file named 'haiku.txt' should be in the same folder as this notebook."
      ]
    },
    {
      "cell_type": "code",
      "source": [
        "!wget https://raw.githubusercontent.com/Jonathan-Nyquist/PLAM/main/haiku.txt"
      ],
      "metadata": {
        "colab": {
          "base_uri": "https://localhost:8080/"
        },
        "id": "tco0INqmlqfu",
        "outputId": "34164ab3-56ab-47cd-f314-96da6e4c781b"
      },
      "execution_count": 31,
      "outputs": [
        {
          "output_type": "stream",
          "name": "stdout",
          "text": [
            "--2023-06-16 14:23:13--  https://raw.githubusercontent.com/Jonathan-Nyquist/PLAM/main/haiku.txt\n",
            "Resolving raw.githubusercontent.com (raw.githubusercontent.com)... 185.199.111.133, 185.199.109.133, 185.199.108.133, ...\n",
            "Connecting to raw.githubusercontent.com (raw.githubusercontent.com)|185.199.111.133|:443... connected.\n",
            "HTTP request sent, awaiting response... 200 OK\n",
            "Length: 80 [text/plain]\n",
            "Saving to: ‘haiku.txt’\n",
            "\n",
            "\rhaiku.txt             0%[                    ]       0  --.-KB/s               \rhaiku.txt           100%[===================>]      80  --.-KB/s    in 0s      \n",
            "\n",
            "2023-06-16 14:23:13 (4.20 MB/s) - ‘haiku.txt’ saved [80/80]\n",
            "\n"
          ]
        }
      ]
    },
    {
      "cell_type": "code",
      "execution_count": 32,
      "metadata": {
        "jupyter": {
          "outputs_hidden": false
        },
        "id": "vTuBsjeh3_Jy",
        "colab": {
          "base_uri": "https://localhost:8080/"
        },
        "outputId": "11b7fd31-700f-4a83-cffe-e9b79e40a93e"
      },
      "outputs": [
        {
          "output_type": "stream",
          "name": "stdout",
          "text": [
            "I kill an ant\n",
            "and realize my three children\n",
            "have been watching.\n",
            "\n",
            "- Kato Shuson \n",
            "\n"
          ]
        }
      ],
      "source": [
        "with open('haiku.txt', 'r') as poem:\n",
        "    verse = poem.read()\n",
        "    print(verse)"
      ]
    },
    {
      "cell_type": "markdown",
      "metadata": {
        "id": "CFEACI4G3_J1"
      },
      "source": [
        "**Student Challenge:** Read in as second poem from the file 'haiku2.txt'. This time print the poem one line at a time inside a loop."
      ]
    },
    {
      "cell_type": "code",
      "source": [
        "!wget https://raw.githubusercontent.com/Jonathan-Nyquist/PLAM/main/haiku2.txt"
      ],
      "metadata": {
        "colab": {
          "base_uri": "https://localhost:8080/"
        },
        "id": "AVyYpxwPmDnI",
        "outputId": "7abca3d5-934f-4888-8765-725c1b717bfb"
      },
      "execution_count": 33,
      "outputs": [
        {
          "output_type": "stream",
          "name": "stdout",
          "text": [
            "--2023-06-16 14:24:57--  https://raw.githubusercontent.com/Jonathan-Nyquist/PLAM/main/haiku2.txt\n",
            "Resolving raw.githubusercontent.com (raw.githubusercontent.com)... 185.199.109.133, 185.199.111.133, 185.199.108.133, ...\n",
            "Connecting to raw.githubusercontent.com (raw.githubusercontent.com)|185.199.109.133|:443... connected.\n",
            "HTTP request sent, awaiting response... 200 OK\n",
            "Length: 70 [text/plain]\n",
            "Saving to: ‘haiku2.txt’\n",
            "\n",
            "\rhaiku2.txt            0%[                    ]       0  --.-KB/s               \rhaiku2.txt          100%[===================>]      70  --.-KB/s    in 0s      \n",
            "\n",
            "2023-06-16 14:24:57 (5.82 MB/s) - ‘haiku2.txt’ saved [70/70]\n",
            "\n"
          ]
        }
      ]
    },
    {
      "cell_type": "markdown",
      "metadata": {
        "id": "KBZWd7vH3_J2"
      },
      "source": [
        "<a id='Challenge'> </a>\n",
        "## Martian Challenge: Food!\n",
        "Based on: http://www.space.com/30776-math-in-the-martian-movie-explained-infographic.html\n",
        "\n",
        "[Top of Notebook](#Top)\n",
        "\n"
      ]
    },
    {
      "cell_type": "markdown",
      "metadata": {
        "id": "Loh_kcOd3_KS"
      },
      "source": [
        "## How much food must Watney grow?"
      ]
    },
    {
      "cell_type": "markdown",
      "metadata": {
        "id": "NyRmGPo83_KW"
      },
      "source": [
        "### Calorie requirements\n",
        "Task: Calculate how many calories Watney must grow each day to survive.\n",
        "In other words, figure out how many days he must last after the rations runs out.\n",
        "Multiply by his daily calories requirement to get the total calories he must grow.\n",
        "Divide this today by the number of days."
      ]
    },
    {
      "cell_type": "code",
      "execution_count": 34,
      "metadata": {
        "jupyter": {
          "outputs_hidden": false
        },
        "id": "sIVUIk7l3_KX",
        "colab": {
          "base_uri": "https://localhost:8080/"
        },
        "outputId": "09bcaf5b-abfd-4c49-bf82-6a720db9fa06"
      },
      "outputs": [
        {
          "output_type": "stream",
          "name": "stdout",
          "text": [
            "Watney must grow 1071 calories/day in addition to his remaining rations.\n"
          ]
        }
      ],
      "source": [
        "min_cal = 1500 # Minimum calories needed per day to survive\n",
        "available_food = 400 # Watney has rations for 400 sols\n",
        "time_to_rescue = 1400 # Number of sols until Watney can be rescued\n",
        "calories_needed = (time_to_rescue - available_food) * min_cal\n",
        "growth_rate = calories_needed/time_to_rescue\n",
        "print('Watney must grow {:.0f} calories/day in addition to his remaining rations.'.format(growth_rate))"
      ]
    },
    {
      "cell_type": "markdown",
      "metadata": {
        "id": "q8fHj3zH3_KY"
      },
      "source": [
        "### How many pounds of potatoes must Watney grow?\n",
        "According tohttps://www.fatsecret.com/calories-nutrition/usda/russet-potatoes-(flesh-and-skin)?portionid=48884&portionamount=1.000\n",
        "a pound of potates has roughly 348 calories.\n",
        "\n",
        "Calculate the total number pounds of potatoes Watney must grow to avoid starving."
      ]
    },
    {
      "cell_type": "code",
      "execution_count": null,
      "metadata": {
        "id": "Cy4JddO93_KZ"
      },
      "outputs": [],
      "source": []
    },
    {
      "cell_type": "markdown",
      "metadata": {
        "id": "ZCcuWp7z3_Kf"
      },
      "source": [
        "### Does he have enough land?\n",
        "According to http://www.gardensofeden.org/04%20Crop%20Yield%20Verification.htm,\n",
        "one of acre of land will yield 15,200 pounds of potatoes.  And Watney doesn't have to worry about lose of crops to pests!\n",
        "\n",
        "Unfortunately, Watney only has 1,536 square feet of land, which is a less than an acre.  Convert, this area into acres and calculate how many pounds of potatoes Watney can expect to grow."
      ]
    },
    {
      "cell_type": "code",
      "execution_count": null,
      "metadata": {
        "id": "70KcLppn3_Kh"
      },
      "outputs": [],
      "source": []
    },
    {
      "cell_type": "markdown",
      "metadata": {
        "id": "qlRlHHSP3_Kh"
      },
      "source": [
        "### Not enough!\n",
        "Will Whatney starve? Maybe he can grow more than one crop. According to [this site](http://www.connexionfrance.com/potatoes-grow-france-how-long-varieties-10748-news-article.html) it can take up to 120 days to grow a crop.  But Whatney has 1400 sols. Can he raise enough crops?"
      ]
    },
    {
      "cell_type": "code",
      "execution_count": null,
      "metadata": {
        "id": "nJUI06rp3_Ki"
      },
      "outputs": [],
      "source": []
    },
    {
      "cell_type": "markdown",
      "metadata": {
        "id": "cbVQuMpa3_Kj"
      },
      "source": [
        "### Can Watney survive?"
      ]
    },
    {
      "cell_type": "code",
      "execution_count": null,
      "metadata": {
        "id": "q3BERHiO3_Kj"
      },
      "outputs": [],
      "source": []
    }
  ],
  "metadata": {
    "anaconda-cloud": {},
    "kernelspec": {
      "display_name": "Python 3",
      "language": "python",
      "name": "python3"
    },
    "language_info": {
      "codemirror_mode": {
        "name": "ipython",
        "version": 3
      },
      "file_extension": ".py",
      "mimetype": "text/x-python",
      "name": "python",
      "nbconvert_exporter": "python",
      "pygments_lexer": "ipython3",
      "version": "3.8.3"
    },
    "colab": {
      "provenance": [],
      "toc_visible": true,
      "include_colab_link": true
    }
  },
  "nbformat": 4,
  "nbformat_minor": 0
}