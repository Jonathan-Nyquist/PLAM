{
  "nbformat": 4,
  "nbformat_minor": 0,
  "metadata": {
    "anaconda-cloud": {},
    "kernelspec": {
      "display_name": "Python 3",
      "language": "python",
      "name": "python3"
    },
    "language_info": {
      "codemirror_mode": {
        "name": "ipython",
        "version": 3
      },
      "file_extension": ".py",
      "mimetype": "text/x-python",
      "name": "python",
      "nbconvert_exporter": "python",
      "pygments_lexer": "ipython3",
      "version": "3.6.0"
    },
    "colab": {
      "provenance": [],
      "toc_visible": true,
      "include_colab_link": true
    }
  },
  "cells": [
    {
      "cell_type": "markdown",
      "metadata": {
        "id": "view-in-github",
        "colab_type": "text"
      },
      "source": [
        "<a href=\"https://colab.research.google.com/github/Jonathan-Nyquist/PLAM/blob/main/Class01.ipynb\" target=\"_parent\"><img src=\"https://colab.research.google.com/assets/colab-badge.svg\" alt=\"Open In Colab\"/></a>"
      ]
    },
    {
      "cell_type": "markdown",
      "metadata": {
        "id": "RFgPkpqYDjsE"
      },
      "source": [
        "# Class 01\n",
        "\n",
        "## Learning Objectives\n",
        "* Introduction to Jupyter Notebooks and running your first program\n",
        "* Solve your first Martian Challenge"
      ]
    },
    {
      "cell_type": "markdown",
      "metadata": {
        "id": "kKLKIiyYDjsK"
      },
      "source": [
        "## Running the Jupyter Notebooks\n",
        "To program we need three basic things:\n",
        "1. A way to write our code\n",
        "2. A way to execute our programs\n",
        "3. A way to store or view the output\n",
        "\n",
        "One common approach is install all of the necessary components on our computer.  Python is free, so we could certainly do this, but installing, configuring and updating python presupposes some familiarity with computer operating systems and programming. An alternative approach, one we'll take here, is to go with a Cloud Computing setup where experts have intalled all the necessary software, checked for compatibiity, and ensure that everything is kept up to date. This approach has the added advantage that it pushes all of the computation into the cloud, so it doesn't matter if your computer is old and slow, or what type of computer you have -- mac, PC, or chromebook -- as long as you can run a web browser you'll be fine.\n",
        "\n",
        "The are several alternatives for running python in the cloud, but I find [Google Colab](https://colab.research.google.com/?utm_source=scs-index) to be particularly convenient as it integrates easily with Google Drive.\n",
        "\n",
        "**But what is a Jupyter Notebook?**\n"
      ]
    },
    {
      "cell_type": "markdown",
      "metadata": {
        "id": "0IB0OmW4DjsO"
      },
      "source": [
        "## An Introduction to Jupyter Notebooks and Your First Program\n",
        "Remember the three elements you need to program? Well, a [Jupyter notebook](https://jupyter.org/) handles all three in a familiar browser-like environment. You enter python statements into cells, edit the code until you get it right, execute the cell, and the output appears in the cell below. Jupyter takes care of sending your Python code to the Python kernel running in the background, which executes your commands add returns the result to your notebook.\n",
        "\n",
        "Let's write our first program. Type the following code into the empty cell below, then type shift-enter (hold the shift key and press enter) to execute the code. Make the cell is selected (it will framed in green) before you hit shift-enter.  You can select the cell by clicking inside it.\n",
        "\n",
        "print(\"Hello, world!\")\n"
      ]
    },
    {
      "cell_type": "code",
      "metadata": {
        "collapsed": true,
        "id": "S3AJirREDjsQ"
      },
      "source": [],
      "execution_count": null,
      "outputs": []
    },
    {
      "cell_type": "markdown",
      "metadata": {
        "id": "WteUwjlHDjsS"
      },
      "source": [
        "### What did I just do?\n",
        "Python has a print statement. It will print whatever you put in either single or double quotes. So the statement above is a command to print \"Hello, world!\". When you hit shift-enter or clicked on the execute button, that command was sent to Jupyter Notebook server, which talks with the python kernel, which then executed the code and returned the output to Jupyter server, which then displayed the result in your browsers next cell.\n",
        "\n",
        "Try the print statement again. This time try printing your name. Just type the code into the cell below and press the shift and enter keys together."
      ]
    },
    {
      "cell_type": "code",
      "metadata": {
        "collapsed": true,
        "id": "SYsEJzxEDjsT"
      },
      "source": [],
      "execution_count": null,
      "outputs": []
    },
    {
      "cell_type": "markdown",
      "metadata": {
        "id": "A3gwz663DjsZ"
      },
      "source": [
        "### Two types of cells in Colab Jupyter Notebooks\n",
        "When you type text into a notebook cell and hit shift-enter, what Jupyter does next depends on the type of cell.  There are two kinds: markdown and code. (Technically, Jupyter notebooks outside of Colab also have \"raw\" cells, but these are only useful when you want to target specific commands to other programs when the notebook is exported in another format -- don't worry about it.)\n",
        "\n",
        "Here is what each type is for:\n",
        "* **Code cells** contain Python statements. When you execute the cell the contents are sent to the Python kernel to run.\n",
        "* **Markdown cells** are cells that can contain formatted text, bulleted lists, images, weblinks, equations, etc. All of the descriptions and headers in this notebook (includeing this cell) are written in Markdown."
      ]
    },
    {
      "cell_type": "markdown",
      "metadata": {
        "id": "FmHDssZBDjse"
      },
      "source": [
        "### What is Markdown?\n",
        "Markdown is a mixture of text and special formatting codes. You can find a nice tutorial here:\n",
        "[Markdown Intro](http://www.markdowntutorial.com/)\n",
        "\n",
        "It is a good idea to spend a little time to learn the basics of markdown, and we'll gradually add to your skills over the next few weeks. Below I've put some markdown formatted text into a \"raw\" cell, so Jupyter won't interpret it. Try copying double-clicking on the markdown cell below to edit it. You'll then see some basic markdown text. Try making edits and run the cell again to see the result."
      ]
    },
    {
      "cell_type": "raw",
      "metadata": {
        "id": "ZQ1FeGFgDjsi"
      },
      "source": [
        "# First Level Header\n",
        "## Second level\n",
        "### Third level\n",
        "This is some plain text.\n",
        "Here is some text I want to *emphasize* so I bookend it with asteriks.\n",
        "\n",
        "Here is a bulleted list.\n",
        "* Item one\n",
        "* Item two"
      ]
    },
    {
      "cell_type": "markdown",
      "metadata": {
        "id": "-3D1240JDjsl"
      },
      "source": [
        "# Martian Mission\n",
        "Your first Martian Mission is quite simple. Make a TODO list for Watney that has the header \"ToDo\" and the following list items: (1) Water the potatoes, (2) Send daily report to NASA, (3) Finish watching \"Happy Days\" reruns."
      ]
    },
    {
      "cell_type": "markdown",
      "metadata": {
        "collapsed": true,
        "id": "CcNvjH3ODjsm"
      },
      "source": []
    },
    {
      "cell_type": "markdown",
      "metadata": {
        "id": "Faw4jBDTDjsn"
      },
      "source": [
        "# Ending your session\n",
        "Do not forget to save this notebook with the new filename if you want to keep a copy. Otherwise, you can just close the brower tab to exit."
      ]
    },
    {
      "cell_type": "markdown",
      "metadata": {
        "id": "99tv-kXoDjsu"
      },
      "source": [
        "### That's all for your first Jupyter Notebook.  Time to ride off into the Martian sunset...\n",
        "![Martian Sunset](http://media.npr.org/assets/img/2012/04/27/mars-sunset-pathfinder_custom-e150cf888503d63769fa4e1b8d86b6a4bda394e5-s900-c85.jpg)"
      ]
    },
    {
      "cell_type": "markdown",
      "metadata": {
        "collapsed": true,
        "id": "-oUNgpsNDjsv"
      },
      "source": [
        "# SUPPLEMENTAL EXERCISES\n",
        "## (So you won't be bored if you finish quickly.)\n",
        "\n",
        "### Markdown Madness\n",
        "Change the cell below into a Markdown cell and see if you can do the following:\n",
        "* Write a sentence with THIS in italics and THAT in boldface\n",
        "* Create a numbered list (like this one but with numbers instead of bullets).\n",
        "* Below is a link to a image of the Temple T.  See if you can figure out how to embed this image in a markdown cell.\n",
        "\n",
        "https://s-media-cache-ak0.pinimg.com/originals/04/bd/39/04bd39f6ac8e76cde3a84f15ee04e2a1.jpg"
      ]
    },
    {
      "cell_type": "markdown",
      "metadata": {
        "id": "n6piLSW1Djsv"
      },
      "source": [
        "![Description of pic](https://s-media-cache-ak0.pinimg.com/originals/04/bd/39/04bd39f6ac8e76cde3a84f15ee04e2a1.jpg)"
      ]
    },
    {
      "cell_type": "markdown",
      "metadata": {
        "id": "YDGjePmzDjsx"
      },
      "source": [
        "### Next steps with the Python print statement\n",
        "* Try printing a number\n",
        "* Try printing several strings separated by commsas:\n",
        "\n",
        "print(\"Nerdy pickup line:\", \"You must have your phasor set to stunning.\")\n",
        "\n",
        "* Print statements can include special 'escape' characters. They don't print, but they control how the output is printed. (We'll learn about these later.) Try the following:\n",
        "\n",
        "print(\"Nerdy pickup line: \\n\", \"You must have your phasor set to \\n\", \"Stunning!\")\n",
        "\n",
        "What to you think the \\n does?"
      ]
    },
    {
      "cell_type": "code",
      "metadata": {
        "id": "ItLRRbk0Djsy"
      },
      "source": [],
      "execution_count": null,
      "outputs": []
    },
    {
      "cell_type": "code",
      "metadata": {
        "collapsed": true,
        "id": "AZU4zkiKDjsy"
      },
      "source": [],
      "execution_count": null,
      "outputs": []
    }
  ]
}