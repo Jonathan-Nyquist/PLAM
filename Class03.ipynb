{
  "nbformat": 4,
  "nbformat_minor": 0,
  "metadata": {
    "anaconda-cloud": {},
    "kernelspec": {
      "display_name": "Python 3",
      "language": "python",
      "name": "python3"
    },
    "language_info": {
      "codemirror_mode": {
        "name": "ipython",
        "version": 3
      },
      "file_extension": ".py",
      "mimetype": "text/x-python",
      "name": "python",
      "nbconvert_exporter": "python",
      "pygments_lexer": "ipython3",
      "version": "3.8.3"
    },
    "colab": {
      "provenance": [],
      "include_colab_link": true
    }
  },
  "cells": [
    {
      "cell_type": "markdown",
      "metadata": {
        "id": "view-in-github",
        "colab_type": "text"
      },
      "source": [
        "<a href=\"https://colab.research.google.com/github/Jonathan-Nyquist/PLAM/blob/main/Class03.ipynb\" target=\"_parent\"><img src=\"https://colab.research.google.com/assets/colab-badge.svg\" alt=\"Open In Colab\"/></a>"
      ]
    },
    {
      "cell_type": "markdown",
      "metadata": {
        "id": "KDjWavt2Dzvs"
      },
      "source": [
        "# Class 03\n",
        "## Learning Objectives\n",
        "* Strings and text\n",
        "* String processing\n",
        "* A more complex Martian Challenge\n",
        "\n",
        "Note: Some of the examples in this notebook came from the 2016 EuroSciPy tutorial"
      ]
    },
    {
      "cell_type": "markdown",
      "metadata": {
        "id": "EMyMLmPiDzvy"
      },
      "source": [
        "## Quick Review (and a little new stuff)\n",
        "In the first two classes you learned how to define variables in Python, perform basic math operations, and about the print statement. You learned the basics of the Juypter notebooks, and the difference between code and markdown cells."
      ]
    },
    {
      "cell_type": "code",
      "metadata": {
        "id": "352QVHWHDzv0"
      },
      "source": [
        "# Define two variables, called small and big\n",
        "small = 5\n",
        "big = 500\n",
        "\n",
        "# define a third variable\n",
        "bigger = small + big\n",
        "\n",
        "# print the values of those variables\n",
        "print(\"Small: \", small)\n",
        "print(\"Big: \", big)\n",
        "print(\"Bigger: \", bigger)\n",
        "\n",
        "# update the value of the variable\n",
        "bigger = small * big\n",
        "print(\"Updated value: \", bigger)\n",
        "\n",
        "# TASK: Define some more variables. What happens to the value of bigger if you change the value of big?"
      ],
      "execution_count": null,
      "outputs": []
    },
    {
      "cell_type": "markdown",
      "metadata": {
        "id": "3kdta0PtDzv4"
      },
      "source": [
        "You already know that Python variables can hold numbers and test (strings). But actually, Python has two types of numbers: integers and floating point. Integers are whole numbers, no decimal point. Floating point numbers have decimals. Python uses integers when it can because they take less space in memory and integer calculations are ever so slightly faster. The distinction between the two, however, is generally not something you need to worry about. Note the type() function will tell you what type of variable Python is using."
      ]
    },
    {
      "cell_type": "code",
      "metadata": {
        "id": "YKN5bxjpDzv5"
      },
      "source": [
        "a = 1\n",
        "b = 2.0\n",
        "c = 'cat'\n",
        "print(type(a), type(b), type(c))"
      ],
      "execution_count": null,
      "outputs": []
    },
    {
      "cell_type": "markdown",
      "metadata": {
        "id": "wiLl7KuoDzv5"
      },
      "source": [
        "You also learned about basic math operations. (I've added one mystery operator for you to figure out.)"
      ]
    },
    {
      "cell_type": "code",
      "metadata": {
        "id": "SBLHSB9GDzv6"
      },
      "source": [
        "# Ints and Floats\n",
        "# Both types support typical mathematical operations\n",
        "v1 = small * big   # multiplication\n",
        "v2 = small / big   # division\n",
        "v3 = big ** small  # exponentiation\n",
        "v4 = big % small   # what does this do?\n",
        "\n",
        "print(v1, v2, v3, v4)\n",
        "print(type(v1), type(v2), type(v3), type(v4))"
      ],
      "execution_count": null,
      "outputs": []
    },
    {
      "cell_type": "markdown",
      "metadata": {
        "id": "YAOKlkYDDzv6"
      },
      "source": [
        "You have learned that the equals sign is Python's assignment operator.  \"a = 3\" assigns 3 to the variable \"a\", it does not test for equality. So how do you test for equality? You use a double equals!"
      ]
    },
    {
      "cell_type": "code",
      "metadata": {
        "id": "ZuwUE8itDzv7"
      },
      "source": [
        "# test for equality between variables using ==\n",
        "a = 2\n",
        "b = 3\n",
        "print(a == b)\n",
        "b = 2\n",
        "print(a == b)"
      ],
      "execution_count": null,
      "outputs": []
    },
    {
      "cell_type": "markdown",
      "metadata": {
        "id": "skNNtK4vDzv8"
      },
      "source": [
        "Variables can also be assigned strings. A string is a sequence of characters -- typically used for words, letters and data read from files etc. \"String\" data is a programmer's name for text, which is comprised of \"strings\" of characters. You can assign a string of characters to a varible by enclosing the text in either double or single quotes."
      ]
    },
    {
      "cell_type": "code",
      "metadata": {
        "id": "fMY8aSstDzv8"
      },
      "source": [
        "first_name = 'Mark'\n",
        "last_name = \"Whatney\"\n",
        "print(first_name, last_name)"
      ],
      "execution_count": null,
      "outputs": []
    },
    {
      "cell_type": "markdown",
      "metadata": {
        "id": "gj91T53QDzv-"
      },
      "source": [
        "There are advantages to being able to use either single or double quotes when you want quotation marks to be part of the actual string. In the example below I want an apostrophe to be part of the string, so I using double quotes to mark the string boundary."
      ]
    },
    {
      "cell_type": "code",
      "metadata": {
        "id": "oshuuCBZDzv_"
      },
      "source": [
        "potatoes = \"Mark's new favorite veggie\"\n",
        "print(potatoes)"
      ],
      "execution_count": null,
      "outputs": []
    },
    {
      "cell_type": "markdown",
      "metadata": {
        "id": "uUClJaa2Dzv_"
      },
      "source": [
        "*Student Task:* Create and print a varible that has this quote (including the quotation marks): \" Hi, I'm Mark Watney and I'm still alive... obviously.\""
      ]
    },
    {
      "cell_type": "code",
      "metadata": {
        "collapsed": true,
        "id": "vAspYI4uDzwA"
      },
      "source": [],
      "execution_count": null,
      "outputs": []
    },
    {
      "cell_type": "markdown",
      "metadata": {
        "id": "IwPYBUg6DzwA"
      },
      "source": [
        "## Working with strings"
      ]
    },
    {
      "cell_type": "code",
      "metadata": {
        "id": "nlELmuT1DzwA"
      },
      "source": [
        "my_pets = 'My pets are a cat named Fluffy and a goldfish named Bubbles.'\n",
        "print(my_pets)\n",
        "print(type(my_pets))"
      ],
      "execution_count": null,
      "outputs": []
    },
    {
      "cell_type": "markdown",
      "metadata": {
        "id": "0H04fceEDzwB"
      },
      "source": [
        "So my_pets is a variable of the string class. Every character in the string can be referenced by its position. Python always starts numbering at zero, so the first character in the variable my_pets is referenced using square brackets this way:"
      ]
    },
    {
      "cell_type": "code",
      "metadata": {
        "id": "5PS55OfADzwB"
      },
      "source": [
        "my_pets[0]"
      ],
      "execution_count": null,
      "outputs": []
    },
    {
      "cell_type": "markdown",
      "metadata": {
        "id": "wrR53gbwDzwB"
      },
      "source": [
        "You can reference a \"slice\" of the string by specifying a range.  To get characters 3, 4, 5 and 6 we type"
      ]
    },
    {
      "cell_type": "code",
      "metadata": {
        "id": "95RZAOb5DzwC"
      },
      "source": [
        "my_pets[3:7]"
      ],
      "execution_count": null,
      "outputs": []
    },
    {
      "cell_type": "markdown",
      "metadata": {
        "id": "yMe4wTc2DzwD"
      },
      "source": [
        "Python indexing is a little funny.  3:7 means start with character 3 and go up to, but not including, charcter 7.  And remember: character 3 is the fourth character in the string because we start counting at zero."
      ]
    },
    {
      "cell_type": "code",
      "metadata": {
        "id": "M1WLqzAjDzwE"
      },
      "source": [
        "len(my_pets)"
      ],
      "execution_count": null,
      "outputs": []
    },
    {
      "cell_type": "markdown",
      "metadata": {
        "id": "v3d9UaTvDzwF"
      },
      "source": [
        "So my_pets is 60 characters long with the positions numbered from 0 to 59.\n",
        "\n",
        "There are quite a few methods built in to any string variable. Let's try a couple of the ones most frequently used."
      ]
    },
    {
      "cell_type": "code",
      "metadata": {
        "id": "c5c-qnDLDzwG"
      },
      "source": [
        "# Find the starting position of the word 'Fluffy' within the string\n",
        "start = my_pets.find('Fluffy')\n",
        "print(start)\n",
        "\n",
        "# and print the string starting with Fluffy to the end of the string using the\n",
        "# colon without a number after the colon, which means all the rest of the string\n",
        "print(my_pets[start:])"
      ],
      "execution_count": null,
      "outputs": []
    },
    {
      "cell_type": "code",
      "metadata": {
        "id": "zOo8eegEDzwG"
      },
      "source": [
        "# Change case\n",
        "print(my_pets.upper())\n",
        "print(my_pets.lower())\n",
        "print(my_pets.title())"
      ],
      "execution_count": null,
      "outputs": []
    },
    {
      "cell_type": "code",
      "metadata": {
        "id": "Q0Wz-jA1DzwH"
      },
      "source": [
        "# Count how many times a word occurs in a string.\n",
        "my_pets.count('named')"
      ],
      "execution_count": null,
      "outputs": []
    },
    {
      "cell_type": "code",
      "metadata": {
        "id": "Jr8O2TJSDzwI"
      },
      "source": [
        "# Split all of the words in the string into a list.\n",
        "my_pets_words = my_pets.split()\n",
        "print(my_pets_words)"
      ],
      "execution_count": null,
      "outputs": []
    },
    {
      "cell_type": "markdown",
      "metadata": {
        "id": "Cy8e9-wzDzwI"
      },
      "source": [
        "Warmup Student Challege\n",
        "--------------------\n",
        "1. What value does the find() method return if you search for a word in the string my_pets that is not part of the string?\n",
        "2. Write a code cell that slices the work \"Bubbles\" from my_pets and prints it all capital letters.\n",
        "3. What does the method method swapcase() do to the sting? Try it!"
      ]
    },
    {
      "cell_type": "code",
      "metadata": {
        "collapsed": true,
        "id": "2QO5aXo1DzwJ"
      },
      "source": [],
      "execution_count": null,
      "outputs": []
    },
    {
      "cell_type": "code",
      "metadata": {
        "collapsed": true,
        "id": "c7LqLQroDzwJ"
      },
      "source": [],
      "execution_count": null,
      "outputs": []
    },
    {
      "cell_type": "code",
      "metadata": {
        "collapsed": true,
        "id": "pdvIyS_IDzwJ"
      },
      "source": [],
      "execution_count": null,
      "outputs": []
    },
    {
      "cell_type": "markdown",
      "metadata": {
        "id": "EzB8BU7DDzwJ"
      },
      "source": [
        "Martian Challenge: Keeping your boss happy\n",
        "=================\n",
        "\n",
        "Your boss at NASA is very concerned about publicity. In every news article he wants to know how many times NASA is mentioned. The code below reads and entire news article into a string.  You'll learn more about reading from files later."
      ]
    },
    {
      "cell_type": "code",
      "source": [
        "# Command to download file from my github account on the web to the local Colab machine where you are running.\n",
        "# Notice that the file will appear in your file directory on the left.\n",
        "!wget 'https://raw.githubusercontent.com/Jonathan-Nyquist/PLAM/main/NASA_weighs_use_of_Rover_to_image_potential.txt'"
      ],
      "metadata": {
        "id": "mPw58SIjn1am"
      },
      "execution_count": null,
      "outputs": []
    },
    {
      "cell_type": "code",
      "metadata": {
        "id": "3BbF8JrEDzwK"
      },
      "source": [
        "# Open a file for reading\n",
        "filename = 'NASA_weighs_use_of_Rover_to_image_potential.txt'\n",
        "myfile = open(filename,'r')\n",
        "\n",
        "# Read all of the characters into one long string variable\n",
        "article = myfile.read()\n",
        "\n",
        "# Close the file\n",
        "myfile.close()\n",
        "\n",
        "# Print the article\n",
        "print(article)"
      ],
      "execution_count": null,
      "outputs": []
    },
    {
      "cell_type": "markdown",
      "metadata": {
        "id": "e7uE2q5xDzwK"
      },
      "source": [
        "Cool! But if the file was read in as one long string of characters, how did the python know where to break the lines? Strings can also contain non-printable characters such as tabs and newline breaks. You type them into a string using what is called an escape sequence.\n",
        "\n",
        "\\t is a tab\n",
        "\\n is a new line\n",
        "\\s is a space\n",
        "You can see others here: http://www.tutorialspoint.com/python/python_strings.htm\n",
        "\n",
        "The backslash is an \"escape\" characater that warns python that the next character has special meaning. What if you just want to print an actual backslash?  You escape it by typing \\\\.\n",
        "\n",
        "Here is an example or inserting a newline break into a string:"
      ]
    },
    {
      "cell_type": "code",
      "metadata": {
        "id": "3RhdRHY9DzwK"
      },
      "source": [
        "astring = 'This is on the first line \\n and this is on the second.'\n",
        "print(astring)"
      ],
      "execution_count": null,
      "outputs": []
    },
    {
      "cell_type": "markdown",
      "metadata": {
        "id": "Q0yyvULQDzwL"
      },
      "source": [
        "Your Task\n",
        "--------------------\n",
        "1. What is the total number of characters in the article?\n",
        "2. Write a code cell to calculate how many times the word NASA appears in this article.\n",
        "3. Slice out and print just the article -- no hearder or byline and no footer.  Start with the word \"California\" and end with \"several months\"\n",
        "\n",
        "Hint: The third one is tricky because \"several months\" is split across two lines, so you have to include a special character in your search string."
      ]
    },
    {
      "cell_type": "code",
      "source": [],
      "metadata": {
        "id": "aQht9qST-omg"
      },
      "execution_count": null,
      "outputs": []
    },
    {
      "cell_type": "code",
      "source": [],
      "metadata": {
        "id": "uUmaMXzF-scR"
      },
      "execution_count": null,
      "outputs": []
    },
    {
      "cell_type": "markdown",
      "source": [
        "# Solution to the third part if you are really stuck."
      ],
      "metadata": {
        "id": "A0twAqcS-vZc"
      }
    },
    {
      "cell_type": "code",
      "metadata": {
        "id": "_05gvmfxDzwL"
      },
      "source": [
        "start = article.find('California')\n",
        "target = 'next several months.'\n",
        "end = article.find(target) + len(target)"
      ],
      "execution_count": null,
      "outputs": []
    },
    {
      "cell_type": "code",
      "metadata": {
        "id": "YB8AJJlNDzwM"
      },
      "source": [
        "print(start)\n",
        "print(end)"
      ],
      "execution_count": null,
      "outputs": []
    },
    {
      "cell_type": "code",
      "metadata": {
        "id": "7mHJvTkzDzwM"
      },
      "source": [
        "print(article[start:end])"
      ],
      "execution_count": null,
      "outputs": []
    },
    {
      "cell_type": "code",
      "metadata": {
        "collapsed": true,
        "id": "Wg7PoQkfDzwN"
      },
      "source": [],
      "execution_count": null,
      "outputs": []
    }
  ]
}