{
  "cells": [
    {
      "cell_type": "markdown",
      "metadata": {
        "id": "view-in-github",
        "colab_type": "text"
      },
      "source": [
        "<a href=\"https://colab.research.google.com/github/Jonathan-Nyquist/PLAM/blob/main/Class08.ipynb\" target=\"_parent\"><img src=\"https://colab.research.google.com/assets/colab-badge.svg\" alt=\"Open In Colab\"/></a>"
      ]
    },
    {
      "cell_type": "markdown",
      "metadata": {
        "id": "0my5Sc8qF4Ae"
      },
      "source": [
        "<a id='Top'></a>\n",
        "# Class08\n",
        "## Learning Objectives\n",
        "* [Numpy](#Numpy)\n",
        "* [Plotting Data with Matplotlib](#Matplotlib)\n",
        "* [Different types of plots](#types)\n",
        "* [Martian Challenge: Terminal Velocity](#Terminal)"
      ]
    },
    {
      "cell_type": "markdown",
      "metadata": {
        "id": "3y2IUEdIF4Aj"
      },
      "source": [
        "<a id='Numpy'></a>\n",
        "## Numpy\n",
        "[Top of Notebook](#Top)\n",
        "\n",
        "Before we learn how to plot data, it is essential to learn about numpy, the module that is synonymous with numerical processing in python.\n",
        "\n",
        "You are now familiar with lists, tuples, and dictionaries. None of these data structures, however, is particularly efficient for large amounts of numerical data.  It is far better to store these numbers in numerical arrays.  The Numpy library provides lots of ways to create and manipuate arrays of numbers.\n",
        "\n",
        "To see why Numpy is so important, let's step back and work with a familiar data structure, the list. Suppose we have a long list of numbers and we want to square each one. I don't know why, just go with me here. (Example from *Learning Pandas* by Michael Heydt)"
      ]
    },
    {
      "cell_type": "code",
      "execution_count": null,
      "metadata": {
        "id": "C3NR8wYaF4Ak"
      },
      "outputs": [],
      "source": [
        "# Create a function to square all values in a list\n",
        "# First create an empty list to hold the result; then, loop over the list of numbers to be squared,\n",
        "# square each one, and add it to the list holding the results.\n",
        "\n",
        "def squares(values):\n",
        "    result = []\n",
        "    for v in values:\n",
        "        result.append(v * v)\n",
        "    return result\n",
        "\n",
        "# Test our function with a simple case\n",
        "test = [1, 2, 3, 4]\n",
        "test_squared = squares(test)\n",
        "print(test_squared)"
      ]
    },
    {
      "cell_type": "markdown",
      "metadata": {
        "id": "CCWtUdl5F4Am"
      },
      "source": [
        "The code did what we expected. Okay now let's try it on a really long list of numbers. We'll also time it to see how long it takes."
      ]
    },
    {
      "cell_type": "code",
      "execution_count": null,
      "metadata": {
        "id": "-NHZQbu8F4Am"
      },
      "outputs": [],
      "source": [
        "# Create a list of 100,000 numbers with the python range() function\n",
        "to_square = range(100000)\n",
        "\n",
        "# Time how long it takes to square all the elements in the list\n",
        "%timeit squares(to_square)"
      ]
    },
    {
      "cell_type": "markdown",
      "metadata": {
        "id": "TvQZaT2jF4An"
      },
      "source": [
        "It took around 10 milliseconds on my instance of Colab.  You mileage may vary.  A millisecond is a thousandth of a second, so that seems pretty fast, but it is acually slooooow for computers. Note that the %timeit command is a \"magic\" function.  It executes the command that follows multiple times and reports the average execution time. If your code is slow, you can used timeit to test various portions to find the pokey bits.\n",
        "\n",
        "Now let's try the same thing, but this time we'll use numpy arrays."
      ]
    },
    {
      "cell_type": "code",
      "execution_count": null,
      "metadata": {
        "id": "iM7OdXhoF4An"
      },
      "outputs": [],
      "source": [
        "import numpy as np\n",
        "test = np.array([1, 2, 3, 4])\n",
        "type(test)"
      ]
    },
    {
      "cell_type": "code",
      "execution_count": null,
      "metadata": {
        "id": "Du7YiKUXF4Ap"
      },
      "outputs": [],
      "source": [
        "# With arrays we can just square the whole array and every element will be squared\n",
        "test_squared = test**2\n",
        "print(test_squared)"
      ]
    },
    {
      "cell_type": "markdown",
      "metadata": {
        "id": "X4Y6eThVF4Ap"
      },
      "source": [
        "Okay, that worked, and we didn't have to write a function. But how about speed?"
      ]
    },
    {
      "cell_type": "code",
      "execution_count": null,
      "metadata": {
        "id": "BN5PvQE7F4Aq"
      },
      "outputs": [],
      "source": [
        "# Create an array of sequential numbers from 0 to 99,999 using the numpy arange method.\n",
        "array_to_square = np.arange(0, 100000)\n",
        "%timeit array_to_square**2"
      ]
    },
    {
      "cell_type": "markdown",
      "metadata": {
        "id": "7cH7zimsF4Ar"
      },
      "source": [
        "Notice that performing this task with lists took around 10 milliseconds, but with arrays only about 80 microseconds on my laptop. A millisecond is a thousandth of a second. A microsecond is a millionth of a second, a factor of 1000 different. Yes, both are fast, but in a long program with lots of operations the difference in speed quickly adds up. You might not care if your program runs in a millisecond or a microsecond, but as programs grow there will be many such operations. That factor of a 1000 difference is speed will start to matter.  How do you feel about waiting 1 minute vs 1000 minutes (almost 17 hrs) for the bus?\n",
        "\n",
        "One of the reasons numpy arrays are so fast because they \"vectorize\" operantions, meaning they automatically perform them on a entire arrays. Suppose I gave you two lists of numbers [1, 2, 3, 4, 5] and [11, 12, 13, 14, 15] and I told you to add them together to get [12 14 16 18 20].\n",
        "\n",
        "Your solution would normally requiring looping over all of the elements. But look at how easy it is using Numpy."
      ]
    },
    {
      "cell_type": "code",
      "execution_count": null,
      "metadata": {
        "id": "-_YS4cDlF4Ar"
      },
      "outputs": [],
      "source": [
        "import numpy as np\n",
        "\n",
        "# Create the arrays\n",
        "a = np.array([1, 2, 3, 4, 5])\n",
        "b = np.array([11, 12, 13, 14, 15])\n",
        "\n",
        "# Just add the array variables like ordinary numbers\n",
        "c = a + b\n",
        "print(c)"
      ]
    },
    {
      "cell_type": "markdown",
      "metadata": {
        "id": "BrGUjR0EF4As"
      },
      "source": [
        "Unlike a python list, all of the elements in an array have to be the same type of data, and that is the main reason they can be processed more quickly. Python doesn't have to stop at each element in a list to figure out whether it is an integer, a float, a string, another list, etc.\n",
        "\n",
        "You need to learn about numpy arrays because we will be plotting arrays of data in the next section."
      ]
    },
    {
      "cell_type": "markdown",
      "metadata": {
        "id": "i12V8-MIF4As"
      },
      "source": [
        "**Student challenge:** Create two numpy arrays of the same length and try multiplying them together and printing the result."
      ]
    },
    {
      "cell_type": "code",
      "execution_count": null,
      "metadata": {
        "id": "JfufjKKMF4As"
      },
      "outputs": [],
      "source": []
    },
    {
      "cell_type": "markdown",
      "metadata": {
        "id": "GoBHnfrIF4At"
      },
      "source": [
        "<a id='Matplotlib'></a>\n",
        "## Plotting Data with Matplotlib\n",
        "[Top of Notebook](#Top)\n",
        "\n",
        "Computers help you to work with vast amounts of data. Presenting all that data in a way that is easy to understand requires graphs and summary statistics. Because the Python language is an open-source project with thousands, if not tens of thousands, of active developers, there are at least a dozen different modules available for data visualization. We will focus on just one: matplotlib (http://matplotlib.org/). Matplotlib is probably the *de facto* standard plotting library for Python, and despite its long history it is still actively mantained by developers, with new features being added continually.\n",
        "\n",
        "Matplotlib gets it's name from Matlab, which is a commerical data analysis package extremely popular with scientists and engineers (Temple University has a site license) that has an integrated graphics system. John Hunter, a long-time user of matlab, but disenchanted with commercial scientific software, started development on the open source code for matplotlib in the early 2000's. He modeled the resulting python graphics library on the plot commands used in matlab, in part to make it easy for practicing scientists to switch from matlab to python with having to relearn everything.\n",
        "\n",
        "Matplotlib is the most widely used plotting package in the python ecosystem. For a notion of it's full capabilities take a look at the plots and sample code in the matplotlib gallery: https://matplotlib.org/stable/gallery/index.html."
      ]
    },
    {
      "cell_type": "markdown",
      "metadata": {
        "id": "OIxix2F3F4At"
      },
      "source": [
        "## Pyplot\n",
        "Matplotlib is so big it is organized into submodules. Most of the time the submodule you'll need is pyplot.  Let's look as some simple examples. A lot of what follows comes from the [official matlab tutorial](https://matplotlib.org/stable/tutorials/index.html)."
      ]
    },
    {
      "cell_type": "code",
      "execution_count": null,
      "metadata": {
        "id": "zresOM5gF4Au"
      },
      "outputs": [],
      "source": [
        "# First issue the magic command to tell Jupyter to plot inside the notebook. This is important!\n",
        "# If you don't do this you won't see the result. Remeber: magic commands start with a % sign and are not part\n",
        "# of Python, but are commands to customize the notebook in some way.\n",
        "\n",
        "%matplotlib inline\n",
        "\n",
        "import matplotlib.pyplot as plt\n",
        "ax = plt.plot([1,2,3,4])\n",
        "plt.ylabel('some numbers')\n",
        "plt.show()"
      ]
    },
    {
      "cell_type": "markdown",
      "metadata": {
        "id": "x17nZGG2F4Au"
      },
      "source": [
        "The basic approach is to issue a series of pyplot commands that build the plot and then call show() to display the result. Although in Jupyter notebooks you can often omit the plt.show() because it is inferred when you execute the cell."
      ]
    },
    {
      "cell_type": "markdown",
      "metadata": {
        "id": "lclypl27F4Au"
      },
      "source": [
        "To plot x vs. y you can pass two lists of numbers or two numpy arrays."
      ]
    },
    {
      "cell_type": "code",
      "execution_count": null,
      "metadata": {
        "id": "oW2t9-SzF4Au"
      },
      "outputs": [],
      "source": [
        "plt.plot([1, 2, 3, 4], [1, 4, 9, 16])"
      ]
    },
    {
      "cell_type": "markdown",
      "metadata": {
        "id": "ECRlAsqQF4Av"
      },
      "source": [
        "For every x, y pair of arguments, there is an optional third argument that is the format string that indicates the color and line type of the plot. The letters and symbols of the format string follow the MATLAB plotting convention. You concatenate a color string with a line style string. The default format string is ‘b-‘, which is 'b' for blue and '-' for solid line, so 'b-' means draw a blue line between the points.\n",
        "\n",
        "For example, to plot the same data with no connecting line but with red circles to mark the points, you would do it this way, with the 'ro' string, where the r stands for the color red, and o tell matplotlib to use a circular marker."
      ]
    },
    {
      "cell_type": "code",
      "execution_count": null,
      "metadata": {
        "id": "h88AbqPmF4Av"
      },
      "outputs": [],
      "source": [
        "# Import the plot module\n",
        "import matplotlib.pyplot as plt\n",
        "\n",
        "# Plot the data as red (r) circles (o)\n",
        "plt.plot([1,2,3,4], [1,4,9,16], 'ro')\n",
        "\n",
        "# Set the max and min values for the x and y axes\n",
        "plt.axis([0, 6, 0, 20])\n",
        "\n",
        "# Display the plot\n",
        "plt.show()"
      ]
    },
    {
      "cell_type": "markdown",
      "metadata": {
        "id": "H4h22AUXF4Av"
      },
      "source": [
        "**Student Challenge:** Try plotting with the string 'ro-' and see what happens, but pause first.  What do you think will happen?"
      ]
    },
    {
      "cell_type": "code",
      "execution_count": null,
      "metadata": {
        "id": "7RoMcrFfF4Aw"
      },
      "outputs": [],
      "source": []
    },
    {
      "cell_type": "markdown",
      "metadata": {
        "id": "7n6jFj7BF4Aw"
      },
      "source": [
        "Generally, you will use numpy arrays for the data you are plotting. In fact, all sequences are converted to numpy arrays internally. The example below illustrates how to plot several lines with different format styles in one command using arrays."
      ]
    },
    {
      "cell_type": "code",
      "execution_count": null,
      "metadata": {
        "id": "laJE8al-F4Aw"
      },
      "outputs": [],
      "source": [
        "import numpy as np\n",
        "import matplotlib.pyplot as plt\n",
        "\n",
        "# Create evenly sampled between 0 and 5 in steps of 0.2\n",
        "t = np.arange(0., 5., 0.2)\n",
        "print(t)\n",
        "\n",
        "# red dashes (t), blue squares (t squared) and green triangles (t cubed)\n",
        "plt.plot(t, t, 'r--', t, t**2, 'bs', t, t**3, 'g^')\n",
        "plt.show()"
      ]
    },
    {
      "cell_type": "markdown",
      "metadata": {
        "id": "OJqyF2dFF4Aw"
      },
      "source": [
        "There are many optional arguments, such as commands to control the linewidth. See the above mentioned tutorial for a full list."
      ]
    },
    {
      "cell_type": "code",
      "execution_count": null,
      "metadata": {
        "id": "OqDun_KiF4Ax"
      },
      "outputs": [],
      "source": [
        "plt.plot(t, t**2, linewidth=4.0)\n",
        "plt.show()"
      ]
    },
    {
      "cell_type": "markdown",
      "metadata": {
        "id": "uikaj2HUF4Ax"
      },
      "source": [
        "## Multiple graphs in a figure\n",
        "Below is a script to create two subplots. The functions being plotted are:\n",
        "$$f(t) = e^{-t}cos(2\\pi t)$$\n",
        "$$f(t) = cos(2\\pi t)$$\n",
        "Just because they make a pretty plot. Don't worry about the math."
      ]
    },
    {
      "cell_type": "code",
      "execution_count": null,
      "metadata": {
        "id": "QJeqJVyJF4Ax"
      },
      "outputs": [],
      "source": [
        "import numpy as np\n",
        "import matplotlib.pyplot as plt\n",
        "\n",
        "def f(t):\n",
        "    return np.exp(-t) * np.cos(2*np.pi*t)\n",
        "\n",
        "t1 = np.arange(0.0, 5.0, 0.1)\n",
        "t2 = np.arange(0.0, 5.0, 0.02)\n",
        "\n",
        "plt.figure(1)\n",
        "plt.subplot(2,1,1)\n",
        "plt.plot(t1, f(t1), 'bo', t2, f(t2), 'k')\n",
        "\n",
        "plt.subplot(2,1,2)\n",
        "plt.plot(t2, np.cos(2*np.pi*t2), 'r--')\n",
        "plt.show()"
      ]
    },
    {
      "cell_type": "markdown",
      "metadata": {
        "id": "T_mL5pmqF4Ax"
      },
      "source": [
        "What did this do? We created a figure, then issued a subplot command.\n",
        "\n",
        "plt.subplot(2,1,1) means there are:\n",
        "two rows, one column and this is the 1st plot\n",
        "\n",
        "plt.subplot(2,1,2) means there are:\n",
        "two rows, one column and this is the 2nd plot\n",
        "\n",
        "What if we want the two plots side-by-side instead of stacked vertically?"
      ]
    },
    {
      "cell_type": "code",
      "execution_count": null,
      "metadata": {
        "id": "3tgg9dkkF4Ay"
      },
      "outputs": [],
      "source": [
        "plt.figure(1)\n",
        "\n",
        "# One row, two columns, 1st plot\n",
        "plt.subplot(1,2,1)\n",
        "plt.plot(t1, f(t1), 'bo', t2, f(t2), 'k')\n",
        "\n",
        "# One row, two columns, 2nd plot\n",
        "plt.subplot(1,2,2)\n",
        "plt.plot(t2, np.cos(2*np.pi*t2), 'r--')\n",
        "plt.show()"
      ]
    },
    {
      "cell_type": "markdown",
      "metadata": {
        "id": "TRszMTyNF4Ay"
      },
      "source": [
        "## Labels\n",
        "It is easy to label the axis and give the plot a title. Here we plot $ y = x^2$ for x from 0 to 10 in steps of 0.1"
      ]
    },
    {
      "cell_type": "code",
      "execution_count": null,
      "metadata": {
        "id": "PIIyAX4xF4Az"
      },
      "outputs": [],
      "source": [
        "import numpy as np\n",
        "import matplotlib.pyplot as plt\n",
        "\n",
        "x = np.arange(0, 10, .1)\n",
        "y = x * x\n",
        "plt.plot(x,y)\n",
        "plt.xlabel('X-axis')\n",
        "plt.ylabel('Y-axis')\n",
        "plt.title ('A Parabola')\n",
        "plt.show()"
      ]
    },
    {
      "cell_type": "markdown",
      "metadata": {
        "id": "6hYV_V2MF4Az"
      },
      "source": [
        "<a id='types'> </a>\n",
        "## Different types of plots\n",
        "[Top of notebook](#Top)\n",
        "\n",
        "Matplotlib can do more than plot simple x-y line and scatter plots.  Frankly, I can never keep all the different plots in my brain, so I just look in the matplotlib gallery, find an example close to what I want to do and modify the code. (See, teachers do that too. 😀)\n",
        "\n",
        "These examples show lots of matplotlib features. Don't try to learn them all; just notice what is possible."
      ]
    },
    {
      "cell_type": "code",
      "execution_count": null,
      "metadata": {
        "id": "QYiBJIPKF4A0"
      },
      "outputs": [],
      "source": [
        "\"\"\"\n",
        "Simple demo of a horizontal bar chart.\n",
        "\"\"\"\n",
        "import matplotlib.pyplot as plt\n",
        "import numpy as np\n",
        "\n",
        "# Example data\n",
        "people = ('Tom', 'Dick', 'Harry', 'Slim', 'Jim')\n",
        "y_pos = np.arange(len(people))\n",
        "performance = 3 + 10 * np.random.rand(len(people))  #Random bar lengths, different everytime you run this cell.\n",
        "error = np.random.rand(len(people)) #Random error bars.\n",
        "\n",
        "# barh is specifies a horizontal bar chart\n",
        "plt.barh(y_pos, performance, xerr=error, align='center', alpha=0.4)\n",
        "plt.yticks(y_pos, people)\n",
        "plt.xlabel('Performance')\n",
        "plt.title('How fast do you want to go today?')\n",
        "\n",
        "plt.show()"
      ]
    },
    {
      "cell_type": "code",
      "execution_count": null,
      "metadata": {
        "id": "hZ470GDYF4A0"
      },
      "outputs": [],
      "source": [
        "\"\"\"\n",
        "Simple demo of the fill function.\n",
        "\"\"\"\n",
        "import numpy as np\n",
        "import matplotlib.pyplot as plt\n",
        "\n",
        "\n",
        "x = np.linspace(0, 1)\n",
        "y = np.sin(4 * np.pi * x) * np.exp(-5 * x)\n",
        "\n",
        "plt.fill(x, y, 'r')\n",
        "plt.grid(True)\n",
        "plt.show()"
      ]
    },
    {
      "cell_type": "code",
      "execution_count": null,
      "metadata": {
        "id": "vrHFiNtiF4A0"
      },
      "outputs": [],
      "source": [
        "\"\"\"\n",
        "Exploded Pie Chart\n",
        "\"\"\"\n",
        "import matplotlib.pyplot as plt\n",
        "\n",
        "# The slices will be ordered and plotted counter-clockwise.\n",
        "labels = 'Frogs', 'Hogs', 'Dogs', 'Logs'\n",
        "sizes = [15, 30, 45, 10]\n",
        "colors = ['yellowgreen', 'gold', 'lightskyblue', 'lightcoral']\n",
        "explode = (0, 0.1, 0, 0)  # only \"explode\" the 2nd slice (i.e. 'Hogs') Change 0.1 to vary the explosion offset.\n",
        "\n",
        "plt.pie(sizes, explode=explode, labels=labels, colors=colors,\n",
        "        autopct='%1.1f%%', shadow=True, startangle=90)\n",
        "\n",
        "# Set aspect ratio to be equal so that pie is drawn as a circle, not an ellipse.\n",
        "plt.axis('equal')\n",
        "plt.show()"
      ]
    },
    {
      "cell_type": "markdown",
      "metadata": {
        "id": "Ek2gk_MMF4A0"
      },
      "source": [
        "**Student Challenge:** See if you can duplicate one of the other examples from the matplotlib gallery below."
      ]
    },
    {
      "cell_type": "code",
      "execution_count": null,
      "metadata": {
        "id": "UiQSicggF4A1"
      },
      "outputs": [],
      "source": []
    },
    {
      "cell_type": "markdown",
      "metadata": {
        "id": "4e6UzNRlF4A1"
      },
      "source": [
        "<a id='Terminal'> </a>\n",
        "## Martian Challenge: Terminal Velocity\n",
        "[Top of notebook](#Top)\n",
        "\n"
      ]
    },
    {
      "cell_type": "markdown",
      "metadata": {
        "id": "Fx0VH2e7F4A1"
      },
      "source": [
        "### Terminal Velocity\n",
        "If you jumped from an airplane on Earth you would fall ever faster as you accelerated under Earth's gravity, but because the drag created by our atmosphere increases with velocity, the faster you fall the more the air drag resists further acceleration. Notice from the equation below (scroll down a few cells) that the force of drag actually increases with the *square* of velocity, so double the velocity and you get four times the drag.  Triple the velocity and you get nine times the drag.  This is why aerodynamic design is so important for fast moving vehicles such as cars and airplanes, but no big deal for travel in outer space where there is no atmosphere. (Spaceships don't have to be pointy.)\n",
        "\n",
        "As you fall faster and faster, the force of gravity stays the same but drag rapidly increases until gravity and drag eventually balance and the net force goes to zero. Zero force doesn't mean zero velocity; it means zero accelleration, which implies constant velocity. Your velocity no longer increases.\n",
        "\n",
        "You will continue to fall at a constant rate known as the \"terminal velocity,\" which it would be if your parachute didn't open. The parachute increases the drag, lowering the terminal velocity to something your body can handle when you touch down.\n",
        "\n",
        "![Terminal Velocity](https://study.com/cimages/multimages/16/diagramdragforces.png)"
      ]
    },
    {
      "cell_type": "markdown",
      "metadata": {
        "id": "e7lDp9s_F4A1"
      },
      "source": [
        "### Is your terminal velocity higher on Earth or on Mars?\n",
        "The gravity on Earth is stronger than on Mars, so the force of accelation is greater, but Earth also has a thicker atmosphere, hence greater drag. It is not intuitively obvious whether your terminal velocity is higher on Earth or on Mars, but knowing the answer is important because NASA uses parachutes to land materials on the Martian surface. This was discussed in *The Martian* during the initial planning to send extra food supplies to Watney. Unfortunately, that rocket launch failed.\n",
        "\n",
        "![Martian Parachute](http://mars.nasa.gov/mer/mission/images/parachute2_medium.jpg)\n",
        "\n",
        "So let's see if we can answer the question of which planet has a higher terminal velocity! (Your Python skills are getting good now, so we can tackle tricker calculations.)"
      ]
    },
    {
      "cell_type": "markdown",
      "metadata": {
        "id": "UmkJjkybF4A2"
      },
      "source": [
        "#### What would you weigh on mars?\n",
        "What we call your \"weight\" is just the force of gravity acting on your mass. As you probably remember from high school, F=ma, or force equals mass times acceleration.  On the surface of the Earth the acceleration is 9.81 $m/s^2$.  Let's use Python to do some simple calculations.\n",
        "\n",
        "Assume you have a mass of 85 kilograms.  What do you weigh on Earth?"
      ]
    },
    {
      "cell_type": "code",
      "execution_count": null,
      "metadata": {
        "id": "PkcaB2MTF4A2"
      },
      "outputs": [],
      "source": [
        "# Newton's second law: F = ma\n",
        "mass = 85.0\n",
        "acceleration = 9.81\n",
        "force = mass * acceleration\n",
        "print('Force = ', force, '(Newtons)')"
      ]
    },
    {
      "cell_type": "markdown",
      "metadata": {
        "id": "5-99VJswF4A2"
      },
      "source": [
        "Most Americans think in terms of pounds not Newtons, so let's convert. One Newton = 0.224809 pounds of force."
      ]
    },
    {
      "cell_type": "code",
      "execution_count": null,
      "metadata": {
        "id": "KvLPUf7RF4A2"
      },
      "outputs": [],
      "source": [
        "newtons2pounds = 0.224809\n",
        "weight = force * newtons2pounds\n",
        "print(f'A person with a mass of {mass} kilograms weighs {weight:.2f} pounds on Earth.')"
      ]
    },
    {
      "cell_type": "markdown",
      "metadata": {
        "id": "QKKnMQM-F4A3"
      },
      "source": [
        "The equation for the force of drag is:\n",
        "$$ F_d = \\frac{1}{2} C \\rho A v^2 $$\n",
        "where $F_d$ is the force of drag, C is the coefficent of drag, $\\rho$ is the density of the fluid (air in this case), A is the area of the object, and $v$ is the velocity. We will use the following values:\n",
        "$\\rho$ = 1.225 $kg/m^3$, C = 0.4, A = 1.0 $m^2$"
      ]
    },
    {
      "cell_type": "markdown",
      "metadata": {
        "id": "Ey8geeftF4A3"
      },
      "source": [
        "### Student Challenge\n",
        "\n",
        "That's your weight on Earth.  But on the surface of Mars the acceleration is only 3.7 $m/s^2$, which is just over a third as much as on Earth. Write a program to calculate how much the same 85 kg person would weigh standing on Mars."
      ]
    },
    {
      "cell_type": "code",
      "execution_count": null,
      "metadata": {
        "id": "7GpHM7erF4A3"
      },
      "outputs": [],
      "source": []
    },
    {
      "cell_type": "markdown",
      "metadata": {
        "id": "Dy13ISF7F4A3"
      },
      "source": [
        "Now let's plot the force of drag as a function of velocity."
      ]
    },
    {
      "cell_type": "code",
      "execution_count": null,
      "metadata": {
        "id": "jNqDcGDbF4A4"
      },
      "outputs": [],
      "source": [
        "import numpy as np\n",
        "import matplotlib.pyplot as plt\n",
        "\n",
        "# Magic command to make plots appear in the notebook\n",
        "%matplotlib inline\n",
        "\n",
        "rho = 1.225  # Density of air\n",
        "C = 0.4      # Drag coefficient\n",
        "A = 1.0      # Area\n",
        "\n",
        "# Plot the force of drag as a function of velocity\n",
        "v = np.arange(1,70) # Generate a range of velocities\n",
        "Fd = 0.5*C*rho*A*v**2 # Calculate the force of drag\n",
        "\n",
        "#Plot velocity vs. drag\n",
        "plt.plot(v,Fd)\n",
        "plt.xlabel('Velocity in m/s')\n",
        "plt.ylabel('Force of drag in Newtons')\n",
        "plt.grid() # Turn on the grid lines\n",
        "plt.show()"
      ]
    },
    {
      "cell_type": "markdown",
      "metadata": {
        "id": "V__Gch3-F4A4"
      },
      "source": [
        "Recall that we calculated that for someone who weighs 85 kilograms (187 lbs) the force of gravity was 834 Newtons. We see from our graph that the corresponding terminal velocity is about 58 m/s.  1 m/s = 2.23694 mph, so..."
      ]
    },
    {
      "cell_type": "code",
      "execution_count": null,
      "metadata": {
        "id": "BGRRtcEUF4A4"
      },
      "outputs": [],
      "source": [
        "# Find the terminal velocity on Earth in mph\n",
        "velocity = 58 * 2.23694\n",
        "print('Your terminal velocity on Earth is {0:0.1f} mph.'.format(velocity))"
      ]
    },
    {
      "cell_type": "markdown",
      "metadata": {
        "id": "SubZMXeOF4A4"
      },
      "source": [
        "No matter how high up you are when you jump out of an airplane on Earth, your terminal velocity will be about 130 mph. Crashing into the ground at that speed does sound terminal, though there are [survivor stories.](http://www.guinnessworldrecords.com/world-records/highest-fall-survived-without-parachute/)"
      ]
    },
    {
      "cell_type": "markdown",
      "metadata": {
        "id": "apvoZIXXF4A5"
      },
      "source": [
        "\n",
        "### But what about on Mars?\n",
        "For a skydiver on Mars with a faulty parachute there is good news and bads news.  Which to you want first?\n",
        "\n",
        "Okay, here's the good news.  The weak gravity means you will accelate at a slower rate.\n",
        "\n",
        "The bad news?  The atmosphere is a lot thinner so there is less drag to slow you down.  So what would be your terminal velocity on Mars?\n",
        "\n",
        "### Student Task\n",
        "Redo do the calculation and plot above using force of Martian gravity on an 85 kilogram person, and a Martian atmospheric density of 1/100th of the Earth's."
      ]
    },
    {
      "cell_type": "code",
      "execution_count": null,
      "metadata": {
        "id": "U79VVJBYF4A5"
      },
      "outputs": [],
      "source": []
    },
    {
      "cell_type": "markdown",
      "source": [
        "**Will you have better chances to survive the impact on Earth or Mars?**🤔"
      ],
      "metadata": {
        "id": "KWY6VYfHs7vi"
      }
    },
    {
      "cell_type": "markdown",
      "source": [],
      "metadata": {
        "id": "ZA9NCglStc7J"
      }
    }
  ],
  "metadata": {
    "anaconda-cloud": {},
    "kernelspec": {
      "display_name": "Python 3",
      "language": "python",
      "name": "python3"
    },
    "language_info": {
      "codemirror_mode": {
        "name": "ipython",
        "version": 3
      },
      "file_extension": ".py",
      "mimetype": "text/x-python",
      "name": "python",
      "nbconvert_exporter": "python",
      "pygments_lexer": "ipython3",
      "version": "3.8.3"
    },
    "colab": {
      "provenance": [],
      "toc_visible": true,
      "include_colab_link": true
    }
  },
  "nbformat": 4,
  "nbformat_minor": 0
}